{
  "nbformat": 4,
  "nbformat_minor": 0,
  "metadata": {
    "colab": {
      "name": "OoH!Py 小学生のためのPython ColabでPython Vol.2   Python for Kids!",
      "provenance": [],
      "collapsed_sections": [
        "OD-M_EeXZvMX",
        "_h1-p-lYPVTv"
      ],
      "toc_visible": true,
      "authorship_tag": "ABX9TyMRbI0Tg4y6GCTp93pf2rfP",
      "include_colab_link": true
    },
    "kernelspec": {
      "name": "python3",
      "display_name": "Python 3"
    },
    "language_info": {
      "name": "python"
    }
  },
  "cells": [
    {
      "cell_type": "markdown",
      "metadata": {
        "id": "view-in-github",
        "colab_type": "text"
      },
      "source": [
        "<a href=\"https://colab.research.google.com/github/qua2000/OoH-Py_J2/blob/main/OoH!Py_%E5%B0%8F%E5%AD%A6%E7%94%9F%E3%81%AE%E3%81%9F%E3%82%81%E3%81%AEPython_Colab%E3%81%A7Python_Vol_2_Python_for_Kids!.ipynb\" target=\"_parent\"><img src=\"https://colab.research.google.com/assets/colab-badge.svg\" alt=\"Open In Colab\"/></a>"
      ]
    },
    {
      "cell_type": "markdown",
      "source": [
        "#***OoH!Py*** ***小学生のためのPython*** ColabでPython Vol.2\n",
        "\n",
        "#**Python for Kids!**\n",
        "\n",
        "\n"
      ],
      "metadata": {
        "id": "tlmFZ-dXlkw2"
      }
    },
    {
      "cell_type": "code",
      "execution_count": null,
      "metadata": {
        "cellView": "form",
        "colab": {
          "height": 39,
          "base_uri": "https://localhost:8080/"
        },
        "outputId": "62c729fb-c46d-42e4-9b3c-c673152ee561",
        "id": "tu0j0CsvlsGS"
      },
      "outputs": [
        {
          "output_type": "display_data",
          "data": {
            "text/plain": [
              "<IPython.core.display.HTML object>"
            ],
            "text/html": [
              "<marquee style='width: 60%; color: white;'><b>Welcome to OoH!Py</b></marquee>"
            ]
          },
          "metadata": {}
        }
      ],
      "source": [
        "#@title\n",
        "%%html\n",
        "<marquee style='width: 60%; color: white;'><b>Welcome to OoH!Py</b></marquee>"
      ]
    },
    {
      "cell_type": "markdown",
      "source": [
        "#ダークモードで\n",
        "\n",
        "ダークモードになっていなかったら，右上の歯車アイコンをクリックして「モード」を「dark」にすると\n",
        "\n",
        "ダークモードに変わります。"
      ],
      "metadata": {
        "id": "f0hj_mf4k9S4"
      }
    },
    {
      "cell_type": "markdown",
      "metadata": {
        "id": "OeIgKlGGJsDA"
      },
      "source": [
        "#**はじめに読んでください**\n"
      ]
    },
    {
      "cell_type": "markdown",
      "source": [
        "こんにちは！\n",
        "\n",
        "このノートは，「OoH!Py 小学生のためのPython ColabでPython」のVol.2です。\n",
        "\n",
        "まず初めにVol.1を見てください。---> [![Open In Colab](https://colab.research.google.com/assets/colab-badge.svg)](https://colab.research.google.com/drive/1Hzemf7Y5Ff-rWKDMnuJWfhndsOH4qXEV?usp=sharing)\n",
        "\n",
        "受験勉強を始める前にVol.2を出すことができました。\n",
        "\n",
        "Vol.2でも遊びながらPythonを楽しんでください。\n",
        "\n",
        "\\\n",
        "英語版\n",
        "\n",
        "OoH!Py Python for Kids Vol.2 --->[ ![Open In Colab](https://colab.research.google.com/assets/colab-badge.svg)](https://colab.research.google.com/drive/1XHj0GIkct4zI5ni-oUK2aGt023gyuwVB?usp=sharing)\n",
        "\n"
      ],
      "metadata": {
        "id": "6kGUIdiFl6Kq"
      }
    },
    {
      "cell_type": "markdown",
      "source": [
        "---\n",
        "#演算子などの一覧"
      ],
      "metadata": {
        "id": "FCw8VAP2SDve"
      }
    },
    {
      "cell_type": "markdown",
      "metadata": {
        "id": "EraE5OJhn2Ec"
      },
      "source": [
        "★算術演算子(さんじゅつえんざんし / Arithmetic operator）\n",
        "\n",
        "\\\n",
        "\n",
        "| 演算 | 記号 |\n",
        "|------|------|\n",
        "| 足し算 | `+` |\n",
        "| 引き算 | `-` |\n",
        "| かけ算 | `*` |\n",
        "| 割り算 | `/` |\n",
        "| べき乗 | `**` |  \n",
        "| 割り算(商だけ） | `//` |\n",
        "| 割り算(余りだけ） | `%` |\n",
        "\n",
        "\\\n"
      ]
    },
    {
      "cell_type": "markdown",
      "metadata": {
        "id": "QHn1xeAf5sYj"
      },
      "source": [
        "★代入演算子(Assignment operator)\n",
        "\n",
        "足し算して代入： `sum = sum + x` → `sum += x`\\\n",
        "かけ算して代入： `product = product * x` → `product *= x`\n",
        "\n",
        "`=`も代入演算子で，演算は「代入する」\n",
        "\n",
        "\\\n",
        "\n",
        "| 演算 | 記号 |\n",
        "|------|------|\n",
        "| 代入する | `=` |\n",
        "| 足し算して代入| `+=` |\n",
        "| 引き算して代入 | `-=` |\n",
        "| かけ算して代入 | `*=` |\n",
        "| 割り算して代入 | `/=` |\n",
        "\n",
        "\\\n"
      ]
    },
    {
      "cell_type": "markdown",
      "metadata": {
        "id": "-qJY5vVLurpc"
      },
      "source": [
        "★比較演算子(Comparison operator)\n",
        "\n",
        "\\\n",
        "\n",
        "| 意味 | 演算子 |\n",
        "|------|------|\n",
        "| 等しい | `==` |\n",
        "| 等しくない | `!=` |\n",
        "| より小さい | `<` |\n",
        "| 以下 | `<=` |\n",
        "| より大きい | `>` |\n",
        "| 以上 | `>=` |\n",
        "| 要素になっている | `in` |\n",
        "| 要素になっていない | `not in` |\n",
        "\n",
        "\\"
      ]
    },
    {
      "cell_type": "markdown",
      "source": [
        "---\n",
        "＜Check it Out＞\n",
        "\n",
        "コンピュータがプログラムを読んで動く(計算する）とき，その動き方は3種類しかない\n",
        "\n",
        "コンピュータはそれくらいシンプルなんですね\n",
        "\n",
        "\\\n",
        "➀プログラムが書かれた(上から下へ)順番に動く\n",
        "\n",
        "②繰り返し動く\n",
        "\n",
        "③条件で動きが分かれる(条件分岐・じょうけんぶんき→場合分けのこと）\n",
        "\n",
        "\\\n",
        "②はfor文のことで，③はif文のことです"
      ],
      "metadata": {
        "id": "sLYF7-LD2cSO"
      }
    },
    {
      "cell_type": "markdown",
      "source": [
        "＜Check it Out 2＞\n",
        "\n",
        "算数の問題は，問題文を正確に読み，問題文に書かれている条件を自分が理解しやすいように\n",
        "\n",
        "整理できればほとんど解けますよね。\n",
        "\n",
        "\\\n",
        "問題を正確に解釈して条件整理をすることが大切なわけです。\n",
        "\n",
        "\\\n",
        "Pythonでも同じで，数や文字などのデータ(情報とも言うようです）\n",
        "\n",
        "を整理できればプログラムが作れますので\n",
        "\n",
        "どのようにデータを整理するかを考えることが大切です。\n",
        "\n",
        "\\\n",
        "コード作成のテクニックは基本が身についていればすぐに覚えられます。\n",
        "\n",
        "\\\n",
        "今のうちに`考える力(基本力）`を養いましょう。\n"
      ],
      "metadata": {
        "id": "V2dYcmzOuljs"
      }
    },
    {
      "cell_type": "markdown",
      "source": [
        "---\n",
        "#Pythonの参考Colab"
      ],
      "metadata": {
        "id": "kEf4yIL4FsWW"
      }
    },
    {
      "cell_type": "markdown",
      "source": [
        "Python入門のサイトはたくさんあるので，ここに書いたのはあくまで参考です"
      ],
      "metadata": {
        "id": "BKcHxQnBVmqJ"
      }
    },
    {
      "cell_type": "markdown",
      "source": [
        "[Python入門(Colab)](https://colab.research.google.com/github/chainer/tutorials/blob/master/ja/02_Basics_of_Python.ipynb)\n",
        "\n",
        "Colabを使ってPythonの基本が学べるのでおすすめです。\n",
        "\n",
        "これからコードセルに自分でコードを書いて実行▶すると，エラーがよく発生すると思いますが\n",
        "\n",
        "エラーについては，エラーが出たときにでもこのサイトを見てみましょう"
      ],
      "metadata": {
        "id": "8FVE-LiUF4WP"
      }
    },
    {
      "cell_type": "markdown",
      "source": [
        "[Pythonプログラミング入門](https://utokyo-ipp.github.io/index.html)\n",
        "\n",
        "Colabの説明とPython学習ができるサイトですが，かなりくわしいので\n",
        "\n",
        "分からないときの参考書とするのがよいのでは\n",
        "\n",
        "サイトの中の\n",
        "\n",
        "![Open In Colab](https://colab.research.google.com/assets/colab-badge.svg)\n",
        "\n",
        "をクリックするとColabのページになります"
      ],
      "metadata": {
        "id": "SF2CP4rhaADG"
      }
    },
    {
      "cell_type": "markdown",
      "source": [
        "[Python早見帳](https://chokkan.github.io/python/index.html)\n",
        "\n",
        "これもかなり高度な内容が含まれていますが，参考として\n",
        "\n",
        "ここの記事もColabで見れます"
      ],
      "metadata": {
        "id": "TH7u2eTbNv5B"
      }
    },
    {
      "cell_type": "markdown",
      "source": [
        "Pythonについて他に調べたいときは，\n",
        "\n",
        "[note.nkmk.me](https://note.nkmk.me/)\n",
        "\n",
        "で見てみたりもしましたが，これもかなりくわしいです\n",
        "\n",
        "「サイト内検索」に書いてEnterで，いろいろ説明が出てきます"
      ],
      "metadata": {
        "id": "oD6fSjkFaNEZ"
      }
    },
    {
      "cell_type": "markdown",
      "source": [
        "[Python Basics](https://colab.research.google.com/github/jckantor/CBE30338/blob/master/docs/01.02-Python-Basics.ipynb)\n",
        "\n",
        "英語です。\n",
        "\n",
        "内容はそれほど多くないです。"
      ],
      "metadata": {
        "id": "0LZLbaNPKASd"
      }
    },
    {
      "cell_type": "markdown",
      "source": [
        "#Vol.1からの続き"
      ],
      "metadata": {
        "id": "ahdz7enPMshb"
      }
    },
    {
      "cell_type": "markdown",
      "source": [
        "---\n",
        "### 組み込み関数"
      ],
      "metadata": {
        "id": "lCRgr1z-Vdg6"
      }
    },
    {
      "cell_type": "markdown",
      "metadata": {
        "id": "CS4xsucdVdg6"
      },
      "source": [
        "ーーーーーーーーーーーーーーーーーーーーーーーーーーーーーーーーーーーーーーー\n",
        "\n",
        "よく使う`print()`は`print関数`といいます\n",
        "\n",
        "\\\n",
        "`関数`というのは，決められた操作をするプログラムのことです\n",
        "\n",
        "print(), input(), int(), float()などは全部関数で，\n",
        "\n",
        "`組み込み関数`(くみこみかんすう） (built-in function・ビルト-イン ファンクション)といいます\n",
        "\n",
        "文字通りPythonに組み込まれている関数で，importすることなく使うことができます\n",
        "\n",
        "\\\n",
        "たとえば`print()`は実は何十行からなるプログラムなので，使うつどそれをかいてたら死んでしまいます\n",
        "\n",
        "それを関数にすると`print()`だけのコードでOKになります\n",
        "\n"
      ]
    },
    {
      "cell_type": "markdown",
      "metadata": {
        "id": "uCx9ChkjVdg6"
      },
      "source": [
        "---\n",
        "Q?\n",
        "\n",
        "100未満の数のうち，3で割り切れるが5で割り切れない数を小さいほうから10個書きなさい"
      ]
    },
    {
      "cell_type": "markdown",
      "source": [
        "ーーーーーーーーーーーーーーーーーーーーーーーーーーーーーーーーーーーーーーーーー\n",
        "\n",
        "＜算数解法＞\n",
        "\n",
        "「3で割り切れるが5で割り切れない数」は3と5の最小公倍数15を1周期として繰り返しでてくる\n",
        "\n",
        "\\\n",
        "1から15までの中であてはまる数を調べると，3，6，9，12\n",
        "\n",
        "15から30までの1周期では，上の4つの数に15を加えた数で，18，21，24，27\n",
        "\n",
        "あと2つは，31から45までの中で，18＋15＝33，21＋15＝36\n",
        "\n",
        "以上の10個が(答)\n",
        "\n",
        "\\\n",
        "＜[ Python ]\n",
        "\n",
        "10個まで数える`count`変数をはじめに0にしておく\n",
        "\n",
        "\\\n",
        "1から99までの数(データ)を順番に取り出してあてはまるか調べる\n",
        "\n",
        "\\\n",
        "「3で割り切れるが5で割り切れない」は`x % 3 == 0 and x %  5 != 0`\n",
        "\n",
        "あてはまる数をprintして，`count += 1`\n",
        "\n",
        "\\\n",
        "さらに，「countが10になった場合は中断」という条件処理を入れる\n",
        "\n",
        "` if count == 10:`\n",
        "\n",
        "&emsp;`break`\n",
        "\n",
        "このif条件文のインデントに注意\n",
        "\n"
      ],
      "metadata": {
        "id": "qZEH5p1fVdg7"
      }
    },
    {
      "cell_type": "code",
      "source": [
        ""
      ],
      "metadata": {
        "id": "Nf8gpjwbVdg7"
      },
      "execution_count": null,
      "outputs": []
    },
    {
      "cell_type": "code",
      "metadata": {
        "id": "JbtI5tjnVdg7"
      },
      "source": [
        "#Sanple\n",
        "\n",
        "count = 0\n",
        "\n",
        "for x in range(100):\n",
        "  if x % 3 == 0 and x % 5 != 0:\n",
        "    print(x, end = ', ')\n",
        "    count += 1\n",
        "    if count == 10:\n",
        "      break\n",
        " "
      ],
      "execution_count": null,
      "outputs": []
    },
    {
      "cell_type": "markdown",
      "metadata": {
        "id": "e8kyqvh2ekdu"
      },
      "source": [
        "---\n",
        "Q?\n",
        "\n",
        "0から99までの数のうち，3の倍数でない数の和を計算してください"
      ]
    },
    {
      "cell_type": "markdown",
      "source": [
        "ーーーーーーーーーーーーーーーーーーーーーーーーーーーーーーーーーーーーーーーーー\n",
        "\n",
        "＜算数解法＞\n",
        "\n",
        "0から99までで3の倍数でない数の個数は，$99×\\dfrac{2}{3}＝66個$\n",
        "\n",
        "0をのぞくと一番小さい数は1で，一番大きな数は98\n",
        "\n",
        "その和は，$(1＋98)×66÷2＝3267$・・・(答)\n",
        "\n",
        "\\\n",
        "＜[ Python ]\n",
        "\n",
        "和の`total`(トータル＝「合計」の英語)変数を0に設定し，\n",
        "\n",
        "0から99までの数(データ)を順番に調べて，あてはまる数を`total`に足していく\n",
        "\n"
      ],
      "metadata": {
        "id": "v5gnRQArekdu"
      }
    },
    {
      "cell_type": "code",
      "source": [
        ""
      ],
      "metadata": {
        "id": "wyWXNnlFekdu"
      },
      "execution_count": null,
      "outputs": []
    },
    {
      "cell_type": "code",
      "metadata": {
        "id": "euuVXyw6ekdu"
      },
      "source": [
        "#コードサンプル\n",
        "\n",
        "total = 0\n",
        "\n",
        "for i in range(0,100):\n",
        "  if i % 3 != 0:\n",
        "    total += i\n",
        "    #print(total, end =', ')   #sumの変化観察用\n",
        "\n",
        "print(total, '・・・(答)') \n"
      ],
      "execution_count": null,
      "outputs": []
    },
    {
      "cell_type": "code",
      "metadata": {
        "colab": {
          "base_uri": "https://localhost:8080/"
        },
        "outputId": "bf33ad48-1674-4e2e-b55e-13d365fcde95",
        "id": "zOSCTTJmb0vU"
      },
      "source": [
        "#sample code\n",
        "\n",
        "for x in range(1,11):\n",
        "  for y in range(1,40):\n",
        "    for z in range(1,108):\n",
        "      if 10 * x + 3 * y + z == 107 and 1900 * x + 500 * y + 180 * z == 19900:\n",
        "        print (\"The number of bags sold is \", y, \" bags and in this case, x = \",  x, \",  y = \",  y, \",  z = \", z, \"was sold.\") \n",
        "        "
      ],
      "execution_count": null,
      "outputs": [
        {
          "output_type": "stream",
          "name": "stdout",
          "text": [
            "The number of bags sold is  4  bags and in this case, x =  8 ,  y =  4 ,  z =  15 was sold.\n"
          ]
        }
      ]
    },
    {
      "cell_type": "markdown",
      "metadata": {
        "id": "awoCHCD4_6NG"
      },
      "source": [
        "---\n",
        "Q?\n",
        "\n",
        "1個160円のりんごと，1個240円のメロンを合わせて10個買い，合計金額が1840円になった。\n",
        "\n",
        "それぞれいくつずつ買ったのか求めなさい。"
      ]
    },
    {
      "cell_type": "markdown",
      "source": [
        "ーーーーーーーーーーーーーーーーーーーーーーーーーーーーーーーーーーーーーーーーー\n",
        "\n",
        "＜算数解法＞\n",
        "\n",
        "つるかめ算で解くのがフツーでしょうが，消去算で解きます\n",
        "\n",
        "\\\n",
        "りんごをx個，メロンをy個買ったとして問題文を式に表すと，\n",
        "\n",
        "x ＋ y ＝ 10　・・・➀\n",
        "\n",
        "160 × x ＋ 240 × y ＝ 1840\n",
        "\n",
        "\\\n",
        "両辺を80で割ると\n",
        "\n",
        "2 × x ＋ 3 × y ＝ 23　・・・②\n",
        "\n",
        "➀，②を消去算で，x ＝ 7，y ＝ 3　・・・(答)\n",
        "\n",
        "\\\n",
        "＜[ Python ]\n",
        "\n",
        "りんごをx個，メロンをy個買ったとするとどちらも10個以内なので\n",
        "\n",
        "(もっと正確に，1840 ÷ 240 ＝ 7…160だから，yは7個まででもよい）\n",
        "\n",
        "\\\n",
        "x，yともに1~10個の範囲ですべての組み合わせで考えるとき\n",
        "\n",
        "`for x in range(1,11):`\n",
        "\n",
        "&emsp;`for y in range(1,11):`\n",
        "\n",
        "とforの2重ループにすると，x，yのすべての組み合わせができる\n",
        "\n",
        "\\\n",
        "条件としては\n",
        "\n",
        "`if x + y == 10 and 160 * x + 240 * y == 1840:`\n",
        "\n",
        "条件にあうx，yを見つけて\n",
        "\n",
        "`print(\"りんごを\", x, \"個で，メロンを\", y, \"個\")`\n",
        "\n"
      ],
      "metadata": {
        "id": "MbCXXnBz_6NG"
      }
    },
    {
      "cell_type": "code",
      "source": [
        ""
      ],
      "metadata": {
        "id": "P-WiI3pb_6NH"
      },
      "execution_count": null,
      "outputs": []
    },
    {
      "cell_type": "code",
      "metadata": {
        "id": "7jrcNIaF_6NH"
      },
      "source": [
        "#sample code\n",
        "\n",
        "for x in range(1, 11):\n",
        "  for y in range(1, 11):\n",
        "    if x + y == 10 and 160 * x + 240 * y == 1840:\n",
        "      print(\"りんごを\", x, \"個で，メロンを\", y, \"個\")\n",
        "      "
      ],
      "execution_count": null,
      "outputs": []
    },
    {
      "cell_type": "markdown",
      "metadata": {
        "id": "bFgLYUOC_6NI"
      },
      "source": [
        "---\n",
        "Q?\n",
        "\n",
        "1個160円のりんごと，1個240円のメロンをいくつずつか買ったところ，合計金額が1600円になった。\n",
        "\n",
        "それぞれいくつずつ買ったのか考えられる個数をすべて求めなさい。"
      ]
    },
    {
      "cell_type": "markdown",
      "source": [
        "ーーーーーーーーーーーーーーーーーーーーーーーーーーーーーーーーーーーーーーーーー\n",
        "\n",
        "＜算数解法＞\n",
        "\n",
        "不定方程式というやつです\n",
        "\n",
        "りんごをx個，メロンをy個買ったとして問題文を式に表すと，\n",
        "\n",
        "160 × x ＋ 240 × y ＝ 1600\n",
        "\n",
        "両辺を80で割ると\n",
        "\n",
        "2 × x ＋ 3 × y ＝ 20\n",
        "\n",
        "\\\n",
        "2 × xと20は2の倍数なので，3 × yも2の倍数とわかることから，yは2の倍数\n",
        "\n",
        "y＝2のとき，x＝7　・・・(答)\n",
        "\n",
        "\\\n",
        "これがわかったら，yを2ずつ増やして，xを3ずつ減らしていくと\n",
        "\n",
        "(このテクニックは覚えておくともっと数が大きい場合にラクです）\n",
        "\n",
        "y＝4のとき，x＝4　・・・(答)\n",
        "\n",
        "y＝6のとき，x＝1　・・・(答)\n",
        "\n",
        "\\\n",
        "＜[ Python ]\n",
        "\n",
        "りんごをx個，メロンをy個買ったとすると\n",
        "\n",
        "1600 ÷ 160 ＝ 10と1600 ÷ 240 ＝ 6…160より，xは10個以内，yは6個以内なので\n",
        "\n",
        "その範囲でxとyのすべての組み合わせで考えるとき\n",
        "\n",
        "`for x in range(1,11):`\n",
        "\n",
        "&emsp;`for y in range(1,7):`\n",
        "\n",
        "とforの2重ループにすると，x，yのすべての組み合わせができる\n",
        "\n",
        "\\\n",
        "条件としては\n",
        "\n",
        "`if 160 * x + 240 *y == 1600:`\n",
        "\n",
        "条件にあうx，yを見つけて，そのつどprint\n",
        "\n",
        "`print(\"りんごを\", x, \"個で，メロンを\", y, \"個\")`\n",
        "\n"
      ],
      "metadata": {
        "id": "DwJs-uma_6NI"
      }
    },
    {
      "cell_type": "code",
      "source": [
        ""
      ],
      "metadata": {
        "id": "lZzR8WbR_6NJ"
      },
      "execution_count": null,
      "outputs": []
    },
    {
      "cell_type": "code",
      "metadata": {
        "id": "K3wHdqL6_6NJ"
      },
      "source": [
        "#sample code\n",
        "\n",
        "for x in range (1, 11):\n",
        "  for y in range (1, 7):\n",
        "    if 160 * x + 240 * y == 1600:\n",
        "      print(f\"りんごを\", x, \"個, メロンを\", y, \"個ずつ買った\")  \n",
        "    "
      ],
      "execution_count": null,
      "outputs": []
    },
    {
      "cell_type": "markdown",
      "metadata": {
        "id": "-sQr38r8_6NJ"
      },
      "source": [
        "---\n",
        "Q?\n",
        "\n",
        "１個の値段が180円の和菓子があります。\n",
        "\n",
        "また，和菓子3個の袋詰めは１袋の値段が500円で，和菓子10個の箱詰めは１箱の値段が1900円です。\n",
        "\n",
        "ある日の売り上げは19900円で，和菓子は全部で107個売れました。\n",
        "\n",
        "この日の袋詰めは全部で何袋売れましたか。\n"
      ]
    },
    {
      "cell_type": "markdown",
      "source": [
        "ーーーーーーーーーーーーーーーーーーーーーーーーーーーーーーーーーーーーーーーーー\n",
        "\n",
        "＜算数解法＞\n",
        "\n",
        "19900 ÷ 1900 ＝ 10…900　と　19900 ÷ 500 ＝ 39…400　から\n",
        "\n",
        "箱詰めは多くても10箱，袋詰めは多くても39袋\n",
        "\n",
        "\\\n",
        "箱詰めがx箱，袋詰めがy袋，1個売りがz個それぞれ売れたとして問題文を式に表すと，\n",
        "\n",
        "全部で107個売れたから\n",
        "\n",
        "10 × x ＋ 3 × y ＋ z ＝ 107　・・・➀\n",
        "\n",
        "\\\n",
        "売り上げが19900円だったから\n",
        "\n",
        "1900 × x ＋ 500 × y ＋ 180 × z ＝ 19900　・・・②\n",
        "\n",
        "②の両辺を10で割って，190 × x ＋ 50 × y ＋ 18 × z ＝ 1990　・・・③\n",
        "\n",
        "\\\n",
        "まずxを消去するために，① × 19 － ③で，7 × y ＋ z ＝ 43\n",
        "\n",
        "あてはまるy，zの組を調べて，\n",
        "\n",
        "(y，z)＝(6，1)，(5，8)，(4，15)，(3，22)，(2，29)，(1，36)，(0，43)\n",
        "\n",
        "\\\n",
        "(z＝1，y＝6が見つかれば，zを7ずつ増やして，yを1ずつ減らす）\n",
        "\n",
        "この組で，①の式からあてはまるxは，(y，z)＝(4，15)のときだけで，x＝8\n",
        "\n",
        "よって，求めるy＝4・・・(答)\n",
        "\n",
        "\\\n",
        "＜ Python ＞\n",
        "\n",
        "箱詰めは多くても10箱，袋詰めは多くても39袋，1個売りは多くても107個\n",
        "\n",
        "\\\n",
        "箱詰めがx箱，袋詰めがy袋，1個売りがz個それぞれ売れたとして，\n",
        "\n",
        "xとyとzのすべての組み合わせで考えるとき\n",
        "\n",
        "`for x in range(1,11):`\n",
        "\n",
        "&emsp;`for y in range(1,40):`\n",
        "\n",
        "&emsp;&emsp;`for z in range(1,108):`\n",
        "\n",
        "とforの3重ループにすると，x，y，zのすべての組み合わせができる\n",
        "\n",
        "\\\n",
        "条件としては\n",
        "\n",
        "&emsp;&emsp;&emsp;`if 10 * x + 3 * y + z == 107 and 1900 * x + 500 * y + 180 * z == 19900:`\n",
        "\n",
        "条件にあうx，y，zを計算して答(袋詰めの個数）を表示\n",
        "\n",
        "&emsp;&emsp;&emsp;&emsp;`print(\"売れた袋詰めの数は\", y, \"袋で，これは，x=\", x, \", y=\" ,y, \", z=\",z,\"のときに成り立つ\")`\n",
        "\n",
        "\\\n",
        "インデントが多くなりますが分かりにくくはないでしょう\n",
        "\n",
        "基本は`全ての場合を数え上げ，条件にあてはまる数を見つける`ことです\n",
        "\n"
      ],
      "metadata": {
        "id": "aoocbSux_6NJ"
      }
    },
    {
      "cell_type": "code",
      "source": [
        ""
      ],
      "metadata": {
        "id": "0iWR_wZ8_6NK"
      },
      "execution_count": null,
      "outputs": []
    },
    {
      "cell_type": "code",
      "metadata": {
        "colab": {
          "base_uri": "https://localhost:8080/"
        },
        "outputId": "27dc3200-cdcd-48ee-b7e6-49432a2c3c71",
        "id": "abtRZvXY_6NK"
      },
      "source": [
        "#sample code\n",
        "\n",
        "for x in range(1,11):\n",
        "  for y in range(1,40):\n",
        "    for z in range(1,108):\n",
        "      if 10 * x + 3 * y + z == 107 and 1900 * x + 500 * y + 180 * z == 19900:\n",
        "        print(\"売れた袋詰めの数は\", y, \"袋で，これは，x=\", x, \", y=\", y, \", z=\", z, \"のときに成り立つ\")\n",
        "        "
      ],
      "execution_count": null,
      "outputs": [
        {
          "output_type": "stream",
          "name": "stdout",
          "text": [
            "売れた袋詰めの数は 4 袋で，これは，x= 8 , y= 4 , z= 15 のときに成り立つ\n"
          ]
        }
      ]
    },
    {
      "cell_type": "markdown",
      "source": [
        "### 不等式"
      ],
      "metadata": {
        "id": "RDydXZT-a6hx"
      }
    },
    {
      "cell_type": "markdown",
      "metadata": {
        "id": "uoyuSSumfKnP"
      },
      "source": [
        "\n",
        "\n",
        "---\n",
        "Q?\n",
        "\n",
        "ある塾のA組からC組までの3つの組には，合計105人の生徒が在籍しており，\n",
        "\n",
        "それぞれの組の生徒数に関して，次のア，イのことが分かっている。\n",
        "\n",
        "\\\n",
        "ア：B組の生徒数の3倍は，A組の生徒数の2倍より5人以上多い。\n",
        "\n",
        "イ：C組の生徒数は，A組からC組までの生徒数の合計の5割より7人以上少なく，\n",
        "B組の生徒数より20人以上多い。\n",
        "\n",
        "\\\n",
        "このとき，B組の生徒数は？\n"
      ]
    },
    {
      "cell_type": "markdown",
      "source": [
        "ーーーーーーーーーーーーーーーーーーーーーーーーーーーーーーーーーーーーーーーーー\n",
        "\n",
        "＜[ Python ]\n",
        "\n",
        "この問題は「5人以上」「7人以上」などの条件があるので，算数の問題として\n",
        "\n",
        "考えるのはかなり大変ですのでPythonで考えます\n",
        "\n",
        "\\\n",
        "比較演算子(下で確認)の，「以上」`>=`や「以下」`<=`を利用して，問題文の条件を不等式で表します\n",
        "\n",
        "\\\n",
        "A，B，Cの人数は多くても105人なので，\n",
        "\n",
        "それぞれ1~105人の間ですべての組み合わせをつくって条件にあう組み合わせを調べます\n",
        "\n",
        "\\\n",
        "A，B，Cの組み合わせをつくるコードは\n",
        "\n",
        "`for A in range(1,106):`\n",
        "\n",
        "&emsp;`for B in range(1,106):`\n",
        "\n",
        "&emsp;&emsp;`for C in range(1,106):`\n",
        "\n",
        "\\\n",
        "問題の条件をif文にすると\n",
        "\n",
        "&emsp;&emsp;&emsp;`if A + B + C == 105 and (B * 3 >= A * 2 + 5) and (C >= B + 20) and (C <= (A + B + C) * 0.5 - 7):`\n",
        "\n",
        "これですべての組み合わせを調べてBを求めましょう"
      ],
      "metadata": {
        "id": "eed_bnnWfKnQ"
      }
    },
    {
      "cell_type": "code",
      "metadata": {
        "id": "8zbwg98jfKnQ"
      },
      "source": [
        "#sample\n",
        "\n",
        "for A in range(1,106):\n",
        "  for B in range(1,106):\n",
        "    for C in range(1,106):\n",
        "      if A + B + C == 105 and (B * 3 >= A * 2 + 5) and (C >= B + 20) and (C <= (A + B + C) * 0.5 - 7):\n",
        "        print(\"Bは\",B,\"人・・・(答)\")\n",
        "        print(\"そのときAは\", A, \"人，Cは\", C, \"人\")\n",
        "        \n"
      ],
      "execution_count": null,
      "outputs": []
    },
    {
      "cell_type": "markdown",
      "metadata": {
        "id": "DSyq63kGD-sJ"
      },
      "source": [
        "---\n",
        "★比較する演算子\n",
        "\n",
        "大きさなどの比較をする記号として\n",
        "\n",
        "`比較演算子 (comparison operator)` (コンパリソン　オペレータ）があります \n",
        "\n",
        "これからよく見かけるようになります\n",
        "\n",
        "\n",
        "| 意味 | 演算子 |\n",
        "|:------:|:------:|\n",
        "| 等しい | `==` |\n",
        "| 等しくない | `!=` |\n",
        "| より小さい | `<` |\n",
        "| 以下 | `<=` |\n",
        "| より大きい | `>` |\n",
        "| 以上 | `>=` |\n",
        "| 要素になっている | `in` |\n",
        "| 要素になっていない | `not in` |"
      ]
    },
    {
      "cell_type": "markdown",
      "source": [
        "### 整数"
      ],
      "metadata": {
        "id": "VMrQZXzXtiF0"
      }
    },
    {
      "cell_type": "markdown",
      "metadata": {
        "id": "5ufpx8dLtiF0"
      },
      "source": [
        "---\n",
        "Q?\n",
        "\n",
        "25で割ると24あまり，16で割ると15あまる数の中で最も小さい数は？\n"
      ]
    },
    {
      "cell_type": "markdown",
      "metadata": {
        "id": "__W_p0UPtiF0"
      },
      "source": [
        "\n",
        "＜算数解法＞\n",
        "\n",
        "25で割ると24あまる数は(25の倍数)－1で，16で割ると15あまる数は(16の倍数)－1\n",
        "\n",
        "ということは，求める数に1をたすと25でも16でも割り切れるということ\n",
        "\n",
        "25でも16でも割り切れる数＝25と16の公倍数→25×16＝400\n",
        "\n",
        "求める数に1をたすと400になるということだから，求める数＝399・・・(答)\n",
        "\n",
        "\\\n",
        "＜[ Python ]\n",
        "\n",
        "求める数xを1から1000くらいまでで調べる\n",
        "\n",
        "順番に小さい数から調べるので，はじめに見つかった数が「最も小さい数」になる\n",
        "\n",
        "1つ数が見つかったらforループ中断する\n",
        "\n",
        "「25で割ると24あまり，16で割ると15あまる数」を条件で表すと，\n",
        "\n",
        " `if x % 25 == 24 and x % 16 == 15:`\n",
        "\n",
        " printした後は`break`で中断\n",
        " "
      ]
    },
    {
      "cell_type": "code",
      "source": [
        ""
      ],
      "metadata": {
        "id": "URg5JXWotiF0"
      },
      "execution_count": null,
      "outputs": []
    },
    {
      "cell_type": "code",
      "metadata": {
        "id": "dyrpaj-ptiF1"
      },
      "source": [
        "#sample\n",
        "\n",
        "for x in range(1, 1000):\n",
        "  if x % 25 == 24 and x % 16 == 15:\n",
        "    print(x)\n",
        "    break                      #1つ見つかったらおしまいにする"
      ],
      "execution_count": null,
      "outputs": []
    },
    {
      "cell_type": "markdown",
      "metadata": {
        "id": "lxDHroZZtiF1"
      },
      "source": [
        "---\n",
        "Q?\n",
        "\n",
        "11で割ると9あまり，9で割ると7あまる整数のうち，4700に最も近い数は？"
      ]
    },
    {
      "cell_type": "markdown",
      "metadata": {
        "id": "QXp7bdystiF1"
      },
      "source": [
        "ーーーーーーーーーーーーーーーーーーーーーーーーーーーーーーーーーーーーーーー\n",
        "\n",
        "＜算数解法＞\n",
        "\n",
        "割る数と余りの差に注目\n",
        "\n",
        "11 － 9 ＝ 9 － 7 ＝ 2だからこの数は2をたすと11と9の公倍数になる\n",
        "\n",
        "最も小さい数は，11 × 9 － 2 ＝ 97\n",
        "\n",
        "\\\n",
        "4700に近い数を探す\n",
        "\n",
        "4700 ÷ 99 ＝ 47.・・・だから，\n",
        "\n",
        "99×47－2＝4651・・・＜答＞，99×48－2＝4750\n",
        "\n",
        "\\\n",
        "＜ Python ＞\n",
        "\n",
        "4700に最も近い数の候補をaとしてはじめは0にしておく\n",
        "\n",
        "4000以上5000未満の範囲で探す\n",
        "\n",
        "求める数は4700より大きい場合もあるから差が小さい数を探すために\n",
        "\n",
        "`abs()`関数 ＝ 絶対値(差の大きさを求める関数プログラム)\n",
        "\n",
        "\\\n",
        "順番に探していき，4700に近い候補xが見つかったらaに入れる\n",
        "\n",
        "aにあてはまる数が入れ替わっていく\n",
        "\n"
      ]
    },
    {
      "cell_type": "code",
      "source": [
        ""
      ],
      "metadata": {
        "id": "g37NpzZ8tiF1"
      },
      "execution_count": null,
      "outputs": []
    },
    {
      "cell_type": "code",
      "metadata": {
        "colab": {
          "base_uri": "https://localhost:8080/"
        },
        "outputId": "f277d38d-f700-48bd-a4f6-3d13bdd25fd2",
        "id": "hy1_WD4stiF1"
      },
      "source": [
        "#sample\n",
        "\n",
        "a = 0\n",
        "\n",
        "for x in range(4000, 5000):\n",
        "  if x % 11 == 9 and x % 9 == 7 and abs(a - 4700) > abs(x - 4700):\n",
        "    a = x\n",
        "\n",
        "print(a)\n"
      ],
      "execution_count": null,
      "outputs": [
        {
          "output_type": "stream",
          "name": "stdout",
          "text": [
            "4651\n"
          ]
        }
      ]
    },
    {
      "cell_type": "markdown",
      "metadata": {
        "id": "zQwyUPcItiF1"
      },
      "source": [
        "---\n",
        "Q?\n",
        "\n",
        "２桁の整数ＡＢがあります。間に0を入れて３桁の整数Ａ0Ｂを作ると，この数はＡＢで割り切れます。\n",
        "\n",
        "また，両端と間に数字Ｃを入れて５桁の整数CACBCを作ると，この数もＡＢで割り切れます。\n",
        "\n",
        "このとき，５桁の整数CACBCは□です。\n",
        "\n",
        "ただし, A, B, Cはすべて異なる数字で，どれも0ではないとします。\n",
        "\n"
      ]
    },
    {
      "cell_type": "markdown",
      "metadata": {
        "id": "vV85intGtiF2"
      },
      "source": [
        "ーーーーーーーーーーーーーーーーーーーーーーーーーーーーーーーーーーーーーーーー\n",
        "\n",
        "＜算数解法＞\n",
        "\n",
        "問題文から，AB $\\times$ N = A0B とすると，\n",
        "\n",
        "まずは，Nは1でない\n",
        "\n",
        "次に，(B × Nの一の位) = Bとなる(B，N)＝(2，6)，(4，6)，(5，5)，(6，6)，(8，6)\n",
        "\n",
        "\\\n",
        "(A0Bの十の位) ＝ 0だから，上の組で，(B × Nの十の位) ＝ 1，2，2，3，4で，\n",
        "\n",
        "(A × 5か6の一の位) ＝ 9，8，8，7，6 となるAは，１，３，６，８で，\n",
        "\n",
        "AB × N ＝ A0BにあてはまるのはA ＝ 1で，B ＝ 8，N ＝ 6\n",
        "\n",
        "\\\n",
        "さらに，CACBCの一の位＝Cで，B×(数)の一の位は0，2，4，6，8だから，Cはこれのどれか\n",
        "\n",
        "2，4，6，8で調べて，C ＝ 6\n",
        "\n",
        "したがって，CACBC ＝ 61686・・・＜答＞\n",
        "\n"
      ]
    },
    {
      "cell_type": "markdown",
      "source": [
        "[ Python ]\n",
        "\n",
        "A，B，Cにそれぞれ1～9を当てはめて，\n",
        "\n",
        "`x = A * 10 + B`と`y = A * 100 + B`と`z = C * 10000 + A * 1000 + C* 100 + B * 10 + C`\n",
        "\n",
        "をつくり，問題の条件をif文で書いて，条件にあてはまるA，B，Cを求めて答えを出力\n",
        "\n"
      ],
      "metadata": {
        "id": "pnai3P0UtiF2"
      }
    },
    {
      "cell_type": "code",
      "source": [
        ""
      ],
      "metadata": {
        "id": "34huK2EStiF2"
      },
      "execution_count": null,
      "outputs": []
    },
    {
      "cell_type": "code",
      "metadata": {
        "id": "LN6_7oZUtiF2"
      },
      "source": [
        "#sample\n",
        "\n",
        "for A in range(1, 10) :\n",
        "  for B in range(1, 10) :\n",
        "    for C in range(1, 10) :\n",
        "      x = A * 10 + B\n",
        "      y = A * 100 + B\n",
        "      z = C * 10000 + A * 1000 + C* 100 + B * 10 + C\n",
        "      if A != B and A != C and B != C and y % x == 0 and z % x == 0 :\n",
        "        print(\" CACBC=\", z, \"・・・＜答＞\", \"(AB=\", x, \" A0B=\", y, \")\")\n",
        "        "
      ],
      "execution_count": null,
      "outputs": []
    },
    {
      "cell_type": "markdown",
      "metadata": {
        "id": "SYNEzbBrRCxD"
      },
      "source": [
        "###場合の数"
      ]
    },
    {
      "cell_type": "markdown",
      "metadata": {
        "id": "lLDrjuFERCxD"
      },
      "source": [
        "---\n",
        "Q?\n",
        "\n",
        "ある店では模様の違うコーヒーカップ5種類とお皿が3種類売られています\n",
        "\n",
        "カップとお皿の組み合わせは何通り？\n"
      ]
    },
    {
      "cell_type": "markdown",
      "source": [
        "ーーーーーーーーーーーーーーーーーーーーーーーーーーーーーーーーーーーーーーーーー\n",
        "\n",
        "＜算数解法＞\n",
        "\n",
        "1個ずつの組み合わせで，1個のコーヒーカップそれぞれに3種類のお皿の組み合わせがあるから\n",
        "\n",
        "5 × 3 ＝ 15通り・・・(答)\n",
        "\n",
        "\\\n",
        "＜[ Python ]\n",
        "\n",
        "まず，組み合わせを数える変数`count`(カウント)を0に設定\n",
        "\n",
        "\\\n",
        "コーヒーカップ(cup)を1，2，3，4，5とし，お皿(plate)を10，20，30としてすべての組み合わせを数え上げる\n",
        "\n",
        "すべての組み合わせをつくるにはforループで\n",
        "\n",
        "    for cup in  1, 2, 3, 4, 5 :\n",
        "      for plate in 10, 20, 30 :\n",
        "\n",
        "\\\n",
        "このforループで組み合わせができるごとにカウントする\n",
        "\n",
        "        count += 1\n",
        "\n",
        "全部数え終わったらcountをprintで出力\n",
        "\n",
        "    print(count, '通り')\n",
        "\n"
      ],
      "metadata": {
        "id": "9DDn4Ea3RCxE"
      }
    },
    {
      "cell_type": "code",
      "source": [
        ""
      ],
      "metadata": {
        "id": "WDxruJ4dRCxE"
      },
      "execution_count": null,
      "outputs": []
    },
    {
      "cell_type": "code",
      "metadata": {
        "id": "WP5Q-mZSRCxE"
      },
      "source": [
        "#sample\n",
        "count = 0\n",
        "for cup in  1, 2, 3, 4, 5 :\n",
        "  for plate in 10, 20, 30 :\n",
        "    #print(cup, plate)\n",
        "    count += 1\n",
        "print(count, '通り')\n"
      ],
      "execution_count": null,
      "outputs": []
    },
    {
      "cell_type": "markdown",
      "metadata": {
        "id": "9swAZm38RCxE"
      },
      "source": [
        "---\n",
        "Q?\n",
        "\n",
        "2，5，6の3枚のカードをならべて3けたの数を作ると，全部でいくつできますか。\n",
        "\n",
        "\\\n",
        "If you put three cards, 2, 5, and 6, together to make a three-digit number, \n",
        "\n",
        "how many cards can you make in total?\n"
      ]
    },
    {
      "cell_type": "markdown",
      "metadata": {
        "id": "K0EUvE84RCxF"
      },
      "source": [
        "ーーーーーーーーーーーーーーーーーーーーーーーーーーーーーーーーーーーーーーーーー\n",
        "\n",
        "＜算数解法＞\n",
        "\n",
        "百の位から決めていくと，百の位の数の選び方は，2，5，6の3通り\n",
        "\n",
        "十の位の数の選び方は，百の位に使った数字以外の2通り\n",
        "\n",
        "一の位の数の選び方は，百と十の位に使った数字以外の1通り\n",
        "\n",
        "以上より，3 × 2 × 1 = 6通り・・・(答）"
      ]
    },
    {
      "cell_type": "markdown",
      "source": [
        "ーーーーーーーーーーーーーーーーーーーーーーーーーーーーーーーーーーーーーーー\n",
        "\n",
        "＜[ Python ]\n",
        "\n",
        "カウントする変数`count`を0に設定\n",
        "\n",
        "\\\n",
        "場合の数の数え上げができればよいので，２，５，６にかえて\n",
        "\n",
        "２，50，600を使って，3つの数が異なる場合は，「合計が2 ＋ 50 ＋ 600 ＝ 652になること」\n",
        "\n",
        "と条件を読みかえることができる\n",
        "\n",
        "百の位をA，十の位をB，一の位をCとして，それぞれ2，50，600の場合で数え上げ，\n",
        "\n",
        "合計の条件があてはまる場合をカウント\n",
        "\n",
        "\\\n",
        "最後にカウンターの数をプリントする\n",
        "\n",
        "`print(count)`"
      ],
      "metadata": {
        "id": "TfWJtazHRCxF"
      }
    },
    {
      "cell_type": "code",
      "source": [
        ""
      ],
      "metadata": {
        "id": "FxupkxUNRCxF"
      },
      "execution_count": null,
      "outputs": []
    },
    {
      "cell_type": "code",
      "metadata": {
        "id": "eoRmcx_FRCxF"
      },
      "source": [
        "#sample\n",
        "\n",
        "count = 0\n",
        "\n",
        "for A in 2,50,600:\n",
        "  for B in 2,50,600:\n",
        "    for C in 2,50,600:\n",
        "      if A + B + C == 652:\n",
        "        print(A, B, C)\n",
        "        count += 1\n",
        "\n",
        "print(count, \"個\")\n",
        "\n"
      ],
      "execution_count": null,
      "outputs": []
    },
    {
      "cell_type": "markdown",
      "metadata": {
        "id": "9YGwxu1yRCxF"
      },
      "source": [
        "ーーーーーーーーーーーーーーーーーーーーーーーーーーーーーーーーーーーーーーー\n",
        "\n",
        "＜Python リストの利用＞\n",
        "\n",
        "2，5，6のカードを入れる`cards`という名前の箱(リスト）を作り，\n",
        "\n",
        "`cards = [2, 5, 6]`\n",
        "\n",
        "\\\n",
        "作った3けたの数の個数を数える`count`という名前のカウンターを作り，はじめは0としておく\n",
        "\n",
        "`count = 0`\n",
        "\n",
        "\\\n",
        "百の位を表す数を入れる変数(variable)を`x`として，`x`に2, 5, 6の順で数字を入れる\n",
        "\n",
        "`for x in cards:`\n",
        "\n",
        "十の位を表す数を入れる変数を`y`として，`y`に2, 5, 6の順で数字を入れる\n",
        "\n",
        "&emsp;`for y in cards:`\n",
        "\n",
        "一の位を表す数を入れる変数を`z`として，`z`に2, 5, 6の順で数字を入れる\n",
        "\n",
        "&emsp;&emsp;`for z in cards:`\n",
        "\n",
        "\\\n",
        "この手順で3けたの数を作ると，225，565，666など同じ数字が入っている数字もできる\n",
        "\n",
        "3つとも違う数字でできた3けたの数だけをカウントするために，\n",
        "\n",
        "「もし(if)数字が3つとも違っていたら」という場合だけカウントする\n",
        "\n",
        "\\\n",
        "&emsp;&emsp;&emsp;`if x !=y and y != z and z != x:`\n",
        "\n",
        "あてはまるx,y,zの組が見つかったらcountカウンターに1を加えていく\n",
        "\n",
        "&emsp;&emsp;&emsp;&emsp;`count += 1`\n",
        "\n",
        "最後にカウンターの数をプリントする\n",
        "\n",
        "`print(count)`"
      ]
    },
    {
      "cell_type": "code",
      "source": [
        ""
      ],
      "metadata": {
        "id": "BMexP9EbRCxG"
      },
      "execution_count": null,
      "outputs": []
    },
    {
      "cell_type": "code",
      "metadata": {
        "id": "qOqgKmuVRCxG"
      },
      "source": [
        "#sample\n",
        "\n",
        "cards = [2, 5, 6]                                         \n",
        "count = 0                                                  \n",
        "for x in cards:\n",
        "  for y in cards:\n",
        "    for z in cards:\n",
        "      if x !=y and y != z and z != x:\n",
        "        #print(x,y,z)       #x,y,z)の組み合わせを確認したいとき(#をはずす) \n",
        "        count += 1\n",
        "print(count, '個')\n"
      ],
      "execution_count": null,
      "outputs": []
    },
    {
      "cell_type": "markdown",
      "source": [
        "上ではcardsというリストを作ましたが，数も少ないので使わなくてもOK"
      ],
      "metadata": {
        "id": "WQjC6YdbRCxG"
      }
    },
    {
      "cell_type": "code",
      "metadata": {
        "id": "yZ3beJ63RCxG"
      },
      "source": [
        "#another(別の) sample\n",
        "                                       \n",
        "count = 0                                                  \n",
        "for x in 2,5,6:\n",
        "  for y in 2,5,6:\n",
        "    for z in 2,5,6:\n",
        "      if x !=y and y != z and z != x:\n",
        "        #print(x,y,z)       #x,y,z)の組み合わせを確認したいとき(#をはずす) \n",
        "        count += 1\n",
        "print(count, '個')\n"
      ],
      "execution_count": null,
      "outputs": []
    },
    {
      "cell_type": "markdown",
      "source": [
        "###itertools"
      ],
      "metadata": {
        "id": "IdpbptOqRCxG"
      }
    },
    {
      "cell_type": "markdown",
      "source": [
        "itertoolsというプログラムの集まり(＝moduleモジュール）の中のpermutations(順列という意味)や\n",
        "\n",
        "combinations(組み合わせ)というプログラムを使うと順列や組み合わせをスッキリ書くことができますが，\n",
        "\n",
        "それは将来のお楽しみということで，今はforやifを利用したコードでプログラムに慣れて下さい\n",
        "\n",
        "\\\n",
        "興味ある人はググって調べてみて下さい\n",
        "\n",
        "下はitertoolsを利用したコードです"
      ],
      "metadata": {
        "id": "0XvIWsBsRCxG"
      }
    },
    {
      "cell_type": "code",
      "metadata": {
        "id": "amJ9s0b8RCxH"
      },
      "source": [
        "#itertoolsモジュールのpermutations関数を使う\n",
        "\n",
        "import itertools\n",
        "\n",
        "count = 0\n",
        "cards = [2, 5, 6]\n",
        "for x in itertools.permutations(cards, 3):\n",
        "  print(x)                                       #できた組み合わせ確認用\n",
        "  count += 1\n",
        "\n",
        "print(count)"
      ],
      "execution_count": null,
      "outputs": []
    },
    {
      "cell_type": "markdown",
      "source": [
        "###関数(順列)"
      ],
      "metadata": {
        "id": "cz5dJUc0nfuY"
      }
    },
    {
      "cell_type": "markdown",
      "source": [
        "---\n",
        "Q?\n",
        "\n",
        "異なる5つの数から3つ選んで一列に並べるならべ方は何通り？\n",
        "\n",
        "ーーーーーーーーーーーーーーーーーーーーーーーーーーーーーーーーーーーーーーー\n",
        "\n",
        "これを算数で計算するときは，\n",
        "\n",
        "5 × 4 × 3 ＝ 60通り\n",
        "\n",
        "と計算できますね\n",
        "\n",
        "では，異なる`a`個の数から`b`個選んで，一列に並べる並べ方を計算する関数は？\n",
        "\n"
      ],
      "metadata": {
        "id": "00-SCJAnnfuY"
      }
    },
    {
      "cell_type": "markdown",
      "source": [
        "ーーーーーーーーーーーーーーーーーーーーーーーーーーーーーーーーーーーーーーー\n",
        "\n",
        "関数の名前を`Perm`(順列＝permutationの頭4文字）\n",
        "\n",
        "引数を`a`と`b`にして，関数を定義します\n",
        "\n",
        "\\\n",
        "上の例のように，\n",
        "\n",
        "a = 5, b = 3の場合は，`5から始まり，1ずつ減らした数を3番目までかける`ことで計算できるので\n",
        "\n",
        "`5 * (5 - 1) * (5 - 2)`\n",
        "\n",
        "\\\n",
        "これを，aとbの場合だったら，\n",
        "\n",
        "`a * (a-1) * (a-2) * ・・・* (a - b +1)`と書けます\n",
        "\n",
        "\\\n",
        "積を求める変数を`p`(積＝productの頭文字）として，はじめは1に設定\n",
        "\n",
        "和のときのように0に設定すると，ずーーっと0になってしまうので，1に設定します\n",
        "\n",
        "そうすると，上の式は\n",
        "\n",
        "`1 * a * (a-1) * (a-2) * ・・・* (a - b +1)`となります\n",
        "\n",
        "\\\n",
        "`a`から1づつ引く数を`i`とし，`i`の範囲を`range(b)`とすると，\n",
        "\n",
        "`i`は，0～(b - 1)の範囲を動きます\n",
        "\n",
        "\\\n",
        "これをコードで表すと，\n",
        "\n",
        "    for i in range(b):\n",
        "    p *= (a - b)\n",
        "\n",
        "`*=`は，「右の変数を左の変数にかけて，左の変数に代入する」という代入演算子ですね\n",
        "\n",
        "\\\n",
        "最後に，`p`を返します＝`return p`  ←これは`for`と同じインデントなことに注意です\n",
        "\n",
        "\n"
      ],
      "metadata": {
        "id": "YGThMLDMnfuY"
      }
    },
    {
      "cell_type": "code",
      "source": [
        ""
      ],
      "metadata": {
        "id": "cQHqADaFnfuY"
      },
      "execution_count": null,
      "outputs": []
    },
    {
      "cell_type": "code",
      "metadata": {
        "id": "P3MeOdgGnfuZ"
      },
      "source": [
        "#sample\n",
        "\n",
        "def Perm(a, b):\n",
        "  p = 1\n",
        "  for i in range(b):\n",
        "    p *= (a - i)\n",
        "  return p\n",
        "\n",
        "print('a個の異なる数からb個選び一列に並べる並べ方')\n",
        "\n",
        "#前に出てきた「複数の数をインプットしてもらうときの短縮形の書き方」です\n",
        "\n",
        "a, b = (int(x) for x in input('a > bで，aとbに入れる2つの数をスペースを入れて入力：').split())\n",
        "\n",
        "print(Perm(n, r), '通り')"
      ],
      "execution_count": null,
      "outputs": []
    },
    {
      "cell_type": "markdown",
      "metadata": {
        "id": "F12dMlWA8oR8"
      },
      "source": [
        "###4人を並べる\n"
      ]
    },
    {
      "cell_type": "markdown",
      "metadata": {
        "id": "xvFCuN_l8oR8"
      },
      "source": [
        "---\n",
        "Q?\n",
        "\n",
        "Ａ，Ｂ，Ｃ，Ｄの4人を横一列にならべるならべ方は何通り？"
      ]
    },
    {
      "cell_type": "markdown",
      "source": [
        "ーーーーーーーーーーーーーーーーーーーーーーーーーーーーーーーーーーーーーーーーー\n",
        "\n",
        "＜算数解法＞\n",
        "\n",
        "先頭から並べていく\n",
        "\n",
        "先頭になるのはA,B,C,Dの4通り\n",
        "\n",
        "2番目は先頭の一人をのぞいた3人の3通り\n",
        "\n",
        "同じようにして，3番目は2通り，4番目は1通り\n",
        "\n",
        "全部で，4 × 3 × 2 × 1 ＝ 24通り・・・(答)\n",
        "\n",
        "\\\n",
        "[ Python ]\n",
        "\n",
        "考え方は上の問題と同じ\n",
        "\n",
        "数えるカウンターを0として\n",
        "\n",
        "先頭を1の位置，2番目を2の位置，3番目を3の位置，4番目を4の位置とする\n",
        "\n",
        "\\\n",
        "Aの位置は1～4，B,C,Dの位置も1～4があるので，全部の組み合わせは，\n",
        "\n",
        "(A,B,C,D）＝(1，1，1，1)から(4，4，4，4)までの4 × 4 × 4 × 4 ＝ 256通り\n",
        "\n",
        "\\\n",
        "その組み合わせをつくるコードは，上の問題と考え方は同じで\n",
        "\n",
        "`for A in range(1,5):`\n",
        "\n",
        "&emsp;`for B in range(1,5):`\n",
        "\n",
        "&emsp;&emsp;`for C in range(1,5):`\n",
        "\n",
        "&emsp;&emsp;&emsp;`for D in range(1,5):`\n",
        "\n",
        "A,B,C,Dのどれも同じ位置ではない場合だけカウント\n",
        "\n",
        "&emsp;&emsp;&emsp;&emsp;`if A != B and A != C and A != D and B != C and B != D and C != D:`\n",
        "\n",
        "&emsp;&emsp;&emsp;&emsp;&emsp;`count += 1`\n",
        "\n"
      ],
      "metadata": {
        "id": "5ZlPI9La8oR8"
      }
    },
    {
      "cell_type": "code",
      "metadata": {
        "id": "BkfH6zid8oR9"
      },
      "source": [
        "#sample\n",
        "\n",
        "count = 0\n",
        "\n",
        "for A in range(1,5):\n",
        "  for B in range(1,5):\n",
        "    for C in range(1,5):\n",
        "      for D in range(1,5):\n",
        "        if A != B and A != C and A != D and B != C and B != D and C != D:\n",
        "          count += 1\n",
        "\n",
        "print(count, \"通り\")\n",
        "\n"
      ],
      "execution_count": null,
      "outputs": []
    },
    {
      "cell_type": "markdown",
      "source": [
        "ここでもインデントをなくすような下のようなコードの書き方もありますが\n",
        "\n",
        "インデントの多さでプログラムが読みにくくなるのは，インデント内の処理が多い場合や\n",
        "\n",
        "何百行にもなる大きなプログラムの場合で，こんなに短いプログラムだったらいいのでは\n",
        "\n",
        "今は逆にインデントに慣れておきましょう"
      ],
      "metadata": {
        "id": "68-DT3gI8oR9"
      }
    },
    {
      "cell_type": "code",
      "source": [
        "#リストを利用したコード\n",
        "\n",
        "s = [1,2,3,4]\n",
        "list1 = [[a,b,c,d] for a in s for b in s for c in s for d in s ]\n",
        "\n",
        "count = 0\n",
        "\n",
        "for A, B, C, D in list1:\n",
        "  if A != B and A != C and A != D and B != C and B != D and C != D:\n",
        "          count += 1\n",
        "\n",
        "print(count, \"通り\")\n",
        "\n"
      ],
      "metadata": {
        "id": "2Cq22ySr8oR9"
      },
      "execution_count": null,
      "outputs": []
    },
    {
      "cell_type": "markdown",
      "source": [
        "ーーーーーーーーーーーーーーーーーーーーーーーーーーーーーーーーーーーーーーーーー\n",
        "\n",
        "＜Python別解＞\n",
        "\n",
        "数字を利用した別の考え方として\n",
        "\n",
        "\\\n",
        "先頭を1，2番目を10，3番目を100，4番目を1000と置き換えて計算で処理できるようにする\n",
        "\n",
        "\\\n",
        "この場合は，条件にあうのは，数の合計が1＋10＋100＋1000＝1111になるときだけだから\n",
        "\n",
        "if文は\n",
        "\n",
        "    if A + B + C + D == 1111:\n",
        "\n",
        "とすることもできます\n"
      ],
      "metadata": {
        "id": "PJRo2ya08oR9"
      }
    },
    {
      "cell_type": "code",
      "source": [
        ""
      ],
      "metadata": {
        "id": "w2JjqdrS8oR9"
      },
      "execution_count": null,
      "outputs": []
    },
    {
      "cell_type": "code",
      "metadata": {
        "id": "W0drPeA98oR-"
      },
      "source": [
        "#anoth sample\n",
        "\n",
        "count = 0\n",
        "\n",
        "for A in 1, 10, 100, 1000:\n",
        "  for B in 1, 10, 100, 1000:\n",
        "    for C in 1, 10, 100, 1000:\n",
        "      for D in 1, 10, 100, 1000:\n",
        "        if A + B + C + D == 1111:\n",
        "          #print(A,B,C,D)     #4つの数の確認したいときは#をはずす\n",
        "          count += 1\n",
        "\n",
        "print(count, \"通り\")\n",
        "\n"
      ],
      "execution_count": null,
      "outputs": []
    },
    {
      "cell_type": "markdown",
      "source": [
        "###sum"
      ],
      "metadata": {
        "id": "kyeVZKWSD4vR"
      }
    },
    {
      "cell_type": "markdown",
      "source": [
        "参考までにリストを利用したコードも書いておきます\n",
        "\n",
        "インデントは減りますが，上のコードの方がシンプルで分かりやすような\n",
        "\n",
        "\\\n",
        "`sum()`は`(  )`の中の数の和を出力する組み込み関数です\n",
        "\n",
        "sum ＝ 和という意味の英語\n",
        "\n",
        "\\\n",
        "下のセルのコードで，`group`はリストの変数ですので，この場合は`sum(group)`で\n",
        "\n",
        "リストの要素の数字の和を出力します\n",
        "\n",
        "group = グループ，組という意味の英語\n",
        "\n",
        "\\\n",
        "ここでは関係ありませんが\n",
        "\n",
        "`sum(group, 10000)`とすると，groupの合計に，さらに10000を足すこともできます\n",
        "\n",
        "\\\n",
        "\n",
        "\n"
      ],
      "metadata": {
        "id": "MY4LInkbD4vR"
      }
    },
    {
      "cell_type": "code",
      "source": [
        "#リストを利用したコード\n",
        "\n",
        "count = 0\n",
        "\n",
        "n = [1, 10, 100, 1000]\n",
        "list1 = [[A, B, C, D] for a in n for b in n for c in n for d in n ]\n",
        "\n",
        "for group in list1:\n",
        "  if sum(group) == 1111:\n",
        "    count += 1\n",
        "    #print(group)\n",
        "\n",
        "print(count, '通り')\n"
      ],
      "metadata": {
        "id": "4JUjvDlsD4vR"
      },
      "execution_count": null,
      "outputs": []
    },
    {
      "cell_type": "markdown",
      "metadata": {
        "id": "hovzptrWHIyB"
      },
      "source": [
        "###0を含む5枚から4枚並べる"
      ]
    },
    {
      "cell_type": "markdown",
      "metadata": {
        "id": "wFFXHp-cHIyB"
      },
      "source": [
        "---\n",
        "Q?\n",
        "\n",
        "0, 1, 2, 3, 4のカード5枚から4枚取り出して順に並べるとき，4ケタの整数は全部で何個できる？"
      ]
    },
    {
      "cell_type": "markdown",
      "source": [
        "ーーーーーーーーーーーーーーーーーーーーーーーーーーーーーーーーーーーーーーーーー\n",
        "\n",
        "＜算数解法＞\n",
        "\n",
        "千の位に並べられるのは，1，2，3，4のどれかの4通り\n",
        "\n",
        "百の位に並べられるのは，千の位に並べた数以外の3つの数と0のどれかの4通り\n",
        "\n",
        "十の位に並べられるのは，百の位に並べた数以外の3つの数のどれか3通り\n",
        "\n",
        "一の位に並べられるのは，十の位に並べた数以外の2つの数のどれか2通り\n",
        "\n",
        "以上から全部で，4 × 4 × 3 × ２＝ 96個・・・＜ 答＞\n",
        "\n",
        "\n",
        "\\\n",
        "[ Python ]\n",
        "\n",
        "カードのリスト[0, 1, 2, 3, 4]を作り，個数を数える用にcount(カウント)という名前の箱(変数）を作る\n",
        "\n",
        "    cards = [0, 1, 2, 3, 4]\n",
        "    count = 0\n",
        "\n",
        "\\\n",
        "千の位をx，百の位をy，十の位をｚ，一の位をuとして，\n",
        "\n",
        "x，y，z，uがとり得るすべての組み合わせをつくる\n",
        "\n",
        "    for x in cards:\n",
        "      for y in cards:\n",
        "        for z in cards:\n",
        "          for u in cards:\n",
        "\n",
        "千の位には0のカードはおけないから，`for x in [1, 2, 3, 4]`でもOK\n",
        "\n",
        "\\\n",
        "x, y, z, uはどれも違う数でなくてはならない\n",
        "\n",
        "\\\n",
        "xが0だと3けたになってしまう  (`for x in cards:`とした場合）\n",
        "\n",
        "\\\n",
        "の2つの条件をみたすx, y, z, uの組み合わせがあったら， `count`する\n",
        "\n",
        "           if (x != y and x != z and x != u and y != z and y != u and z != u) and x != 0 :\n",
        "            count += 1    \n",
        "\n"
      ],
      "metadata": {
        "id": "59rUgw2KHIyC"
      }
    },
    {
      "cell_type": "code",
      "source": [
        ""
      ],
      "metadata": {
        "id": "cIkG4KM0HIyC"
      },
      "execution_count": null,
      "outputs": []
    },
    {
      "cell_type": "code",
      "source": [
        "#sample\n",
        "\n",
        "cards = [0, 1, 2, 3, 4]\n",
        "count = 0\n",
        "\n",
        "for x in cards:\n",
        "  for y in cards:\n",
        "    for z in cards:\n",
        "      for u in cards:\n",
        "        if (x != y and x != z and x != u and y != z and y != u and z != u) and x != 0 :\n",
        "          count += 1    \n",
        "    \n",
        "print(count, '個')"
      ],
      "metadata": {
        "colab": {
          "base_uri": "https://localhost:8080/"
        },
        "outputId": "4734e774-446b-46cd-e775-a1665bb6828b",
        "id": "MiR-V-3THIyC"
      },
      "execution_count": null,
      "outputs": [
        {
          "output_type": "stream",
          "name": "stdout",
          "text": [
            "96 通り\n"
          ]
        }
      ]
    },
    {
      "cell_type": "markdown",
      "metadata": {
        "id": "GqJzGs8EKzCa"
      },
      "source": [
        "###5枚から3枚　3の倍数"
      ]
    },
    {
      "cell_type": "markdown",
      "metadata": {
        "id": "KCYCABK3KzCa"
      },
      "source": [
        "---\n",
        "Q?\n",
        "\n",
        "0, 3, 4, 5, 6の5枚のカードから3枚選んでつくることができる3けたの3の倍数は何個？"
      ]
    },
    {
      "cell_type": "markdown",
      "source": [
        "ーーーーーーーーーーーーーーーーーーーーーーーーーーーーーーーーーーーーーーーーー\n",
        "\n",
        "＜算数解法＞\n",
        "\n",
        "3の倍数になる数の条件は，「各けたの和が3の倍数」だから，\n",
        "\n",
        "5つの数から3つ選んだ時の和が3の倍数になる組み合わせを調べると\n",
        "\n",
        "(モレがないように小さいほうから順序良く調べる）\n",
        "\n",
        "➀ (0, 3, 6)\n",
        "\n",
        "② (0, 4, 5)\n",
        "\n",
        "③ (3, 4, 5)\n",
        "\n",
        "④ (4, 5, 6)\n",
        "\n",
        "それぞれの場合で3けたの整数になる場合の数は\n",
        "\n",
        "➀と②：2 × 2 × 1 ＝ 4通り\n",
        "\n",
        "③と④：3 × 2 × 1 ＝ 6通り\n",
        "\n",
        "全部で，4 × 2 ＋ 6 × 2 ＝ 20個・・・(答)\n",
        "\n",
        "\\\n",
        "[ Python ]\n",
        "\n",
        "カードのリスト[0, 3, 4, 5, 6]を作り，個数を数える用にcount(カウント)という名前の箱(変数）を作る\n",
        "\n",
        "    cards = [0, 3, 4, 5, 6]\n",
        "    count = 0\n",
        "\n",
        "\\\n",
        "百の位をx，十の位をy，一の位をｚとして，x,y,zがとり得るすべての組み合わせをつくる\n",
        "\n",
        "    for x in cards:\n",
        "      for y in cards:\n",
        "        for z in cards:\n",
        "\n",
        "\\\n",
        "x, y, zはどれも違う数でなくてはならない\n",
        "\n",
        "xが0だと2けたになってしまう\n",
        "\n",
        "x + y + z が3の倍数になる\n",
        "\n",
        "の3つの条件をみたすx,y,zの組み合わせがあったら， `count`する\n",
        "\n",
        "           if (x != y and y != z and z != x) and x != 0 and (x + y + z) % 3 == 0:\n",
        "            count += 1    \n",
        "\n"
      ],
      "metadata": {
        "id": "1RoucJVxKzCb"
      }
    },
    {
      "cell_type": "code",
      "source": [
        ""
      ],
      "metadata": {
        "id": "j0SflQzGKzCb"
      },
      "execution_count": null,
      "outputs": []
    },
    {
      "cell_type": "code",
      "metadata": {
        "id": "FH3lXgbXKzCb"
      },
      "source": [
        "#sample\n",
        "\n",
        "cards = [0, 3, 4, 5, 6]\n",
        "count = 0\n",
        "\n",
        "for x in cards:\n",
        "  for y in cards:\n",
        "    for z in cards:\n",
        "      if (x != y and y != z and z != x) and x != 0 and (x + y + z) % 3 == 0:  #(100*x+10*y+z)%3でもOK\n",
        "        #print(x,y,z)     #数を出力させたいときは実行(#をはずす)                                                                                        \n",
        "        count += 1             #count=count+1 と同じ式　(countに1をたしてからcount変数に入れ直す式)\n",
        "\n",
        "print(count, \"個\")           \n",
        "\n"
      ],
      "execution_count": null,
      "outputs": []
    },
    {
      "cell_type": "markdown",
      "metadata": {
        "id": "lZH-cnXSbF-2"
      },
      "source": [
        "###5枚から3枚　6の倍数\n",
        "---\n",
        "Q?\n",
        "\n",
        "0, 1, 2, 3, 4の5枚のカードから3枚選んでつくることができる3けたの6の倍数は何個？"
      ]
    },
    {
      "cell_type": "markdown",
      "source": [
        "ーーーーーーーーーーーーーーーーーーーーーーーーーーーーーーーーーーーーーーーーー\n",
        "\n",
        "＜算数解法＞\n",
        "\n",
        "6の倍数になる数の条件は，「各けたの和が3の倍数の偶数」だから，\n",
        "\n",
        "5つの数から3つ選んだ時の和が3の倍数になる組み合わせを調べると\n",
        "\n",
        "(モレがないように小さいほうから順序良く調べる）\n",
        "\n",
        "➀ (0, 1, 2)\n",
        "\n",
        "② (0, 2, 4)\n",
        "\n",
        "③ (1, 2, 3)\n",
        "\n",
        "④ (2, 3, 4)\n",
        "\n",
        "それぞれの場合で3けたの偶数になる場合の数は\n",
        "\n",
        "➀：102, 120, 210の3通り\n",
        "\n",
        "②：2 × 2 × 1 ＝ 4通り\n",
        "\n",
        "③：132, 312の2通り\n",
        "\n",
        "④：2 × 2 ＝ 4通り\n",
        "\n",
        "全部で，3 ＋ 4 ＋ 2 ＋ 4 ＝ 13個・・・(答)\n",
        "\n",
        "\\\n",
        "[ Python ]\n",
        "\n",
        "上の問題とほぼ同じなのでコードも同じ流れ\n",
        "\n",
        "ただ「6の倍数になる」というところは，\n",
        "\n",
        "           (100*x + 10*y + z) % 6 == 0:\n",
        "\n",
        "とすることに注意    \n",
        "\n"
      ],
      "metadata": {
        "id": "WIa7WKxdbF-2"
      }
    },
    {
      "cell_type": "code",
      "source": [
        ""
      ],
      "metadata": {
        "id": "uQ7QvK6IbF-3"
      },
      "execution_count": null,
      "outputs": []
    },
    {
      "cell_type": "code",
      "metadata": {
        "id": "GBUeXlfXbF-3"
      },
      "source": [
        "#sample\n",
        "\n",
        "cards = [0, 1, 2, 3, 4]\n",
        "count = 0\n",
        "\n",
        "for x in cards:\n",
        "  for y in cards:\n",
        "    for z in cards:\n",
        "      if (x != y and y != z and z != x) and x != 0 and (100 * x + 10 * y + z) % 6 == 0:    \n",
        "        #print(x,y,z)           #結果を出力しなくてよいし，出力して確認するもよし(#をはずす)\n",
        "        count += 1             \n",
        "\n",
        "print(count, \"個\")          \n",
        "\n"
      ],
      "execution_count": null,
      "outputs": []
    },
    {
      "cell_type": "markdown",
      "metadata": {
        "id": "nYr57ZbfdZ71"
      },
      "source": [
        "###子供4人と親2人並ぶ\n",
        "---\n",
        "Q?\n",
        "\n",
        "子ども4人と両親が横一列に並ぶとき，両親の間に子供4人が並ぶ並び方は何通り？"
      ]
    },
    {
      "cell_type": "markdown",
      "source": [
        "ーーーーーーーーーーーーーーーーーーーーーーーーーーーーーーーーーーーーーーーーー\n",
        "\n",
        "＜算数解法＞\n",
        "\n",
        "両親は両端で，父－母，母－父の2通り\n",
        "\n",
        "子どもは4人が一列に並ぶ場合だから，4 × 3 × 2 × 1 ＝ 24通り\n",
        "\n",
        "全部で，2 × 24 ＝ 48通り・・・(答)\n",
        "\n",
        "\\\n",
        "[ Python ]\n",
        "\n",
        "両親と子供4人の6人の位置をa,b,c,d,e,fとすると，両親はaとf，子どもはb,c,d,eの位置になる\n",
        "\n",
        "父を5，母を50とし，\n",
        "\n",
        "子どもを，1，10，100，1000とする\n",
        "\n",
        "\n",
        "aとfは5か50で，b，c，d，eは1，10,100，1000だから，すべての組み合わせは\n",
        "\n",
        "    for a in 5,50:\n",
        "      for b in 1,10,100,1000:\n",
        "        for c in 1,10,100,1000:\n",
        "          for d in 1,10,100,1000:\n",
        "            for e in 1,10,100,1000:\n",
        "              for f in 5,50:\n",
        "\n",
        "「両親が両端になり，子どもは一列に並ぶ」条件を式で表すと\n",
        "\n",
        "                if a + f == 55 and b + c + d + e == 1111:\n",
        "\n",
        "この条件にあうa~fがあったらcount\n",
        "\n"
      ],
      "metadata": {
        "id": "eBKeCqh3dZ72"
      }
    },
    {
      "cell_type": "code",
      "source": [
        ""
      ],
      "metadata": {
        "id": "-al8EYc3dZ72"
      },
      "execution_count": null,
      "outputs": []
    },
    {
      "cell_type": "code",
      "metadata": {
        "colab": {
          "base_uri": "https://localhost:8080/"
        },
        "outputId": "5bfa2229-fd93-483d-c054-7a8d4847c52e",
        "id": "GCrk2XUJdZ72"
      },
      "source": [
        "#sample\n",
        "\n",
        "count=0\n",
        "for a in 5,50:\n",
        "  for b in 1,10,100,1000:\n",
        "    for c in 1,10,100,1000:\n",
        "      for d in 1,10,100,1000:\n",
        "        for e in 1,10,100,1000:\n",
        "          for f in 5,50:\n",
        "            if a + f == 55 and b + c + d + e == 1111:\n",
        "              #print(a,b,c,d,e,f)\n",
        "              count += 1\n",
        "\n",
        "print(count,'通り')\n",
        "\n"
      ],
      "execution_count": null,
      "outputs": [
        {
          "output_type": "stream",
          "name": "stdout",
          "text": [
            "48 通り\n"
          ]
        }
      ]
    },
    {
      "cell_type": "markdown",
      "source": [
        "インデントが多くていやだったら，上でやったリストを利用する方法でもコードを考えて下さい"
      ],
      "metadata": {
        "id": "jfs-yhpVdZ73"
      }
    },
    {
      "cell_type": "markdown",
      "metadata": {
        "id": "btsb-fRDqCop"
      },
      "source": [
        "###男6人女4人代表選び\n",
        "---\n",
        "Q?\n",
        "\n",
        "男子6人と女子4人から男子2人，女子1人の代表を選ぶ方法は何通り？"
      ]
    },
    {
      "cell_type": "markdown",
      "source": [
        "ーーーーーーーーーーーーーーーーーーーーーーーーーーーーーーーーーーーーーーーーー\n",
        "\n",
        "＜算数解法＞\n",
        "\n",
        "男子6人から2人を選ぶ選び方は，$\\dfrac{6×5}{2×1}＝15通り$\n",
        "\n",
        "女子4人から1人を選ぶ選び方は，4通り\n",
        "\n",
        "全部で，15 × 4 ＝ 60通り・・・(答)\n",
        "\n",
        "\\\n",
        "[ Python ]\n",
        "\n",
        "男子を1, 2, 3, 4, 5, 6の6人，女子を10, 20, 30, 40の4人とする\n",
        "\n",
        "選ばれる人を男子 ＝ a, bで，    女子 ＝ cとする\n",
        "\n",
        "a,bは1～6から，cは10～40から取り出し，すべての組み合わせをつくり，\n",
        "\n",
        "a = b となる場合と，(a,b) = (2,5)と(5,2)は同じなので含めないようにするには\n",
        "\n",
        "`if a < b :`\n",
        "\n",
        "として，あてはまる場合を数え上げて`count += 1`\n",
        "\n",
        "forループが終わったら`print`で出力\n"
      ],
      "metadata": {
        "id": "LDF7AAkeqCop"
      }
    },
    {
      "cell_type": "code",
      "source": [
        ""
      ],
      "metadata": {
        "id": "ODPav17pqCop"
      },
      "execution_count": null,
      "outputs": []
    },
    {
      "cell_type": "code",
      "metadata": {
        "id": "iBr-evHrqCoq"
      },
      "source": [
        "#sample\n",
        "\n",
        "count=0\n",
        "\n",
        "for a in 1, 2, 3, 4, 5, 6:\n",
        "  for b in 1, 2, 3, 4, 5, 6:\n",
        "    for c in 10, 20, 30, 40 :\n",
        "      if a < b :                  \n",
        "        count += 1\n",
        "        #print(a,b,c)\n",
        "        \n",
        "print(count, \"通り\")"
      ],
      "execution_count": null,
      "outputs": []
    },
    {
      "cell_type": "markdown",
      "metadata": {
        "id": "fb_cf2ZrsaEN"
      },
      "source": [
        "###7人を4人と3人に分ける\n",
        "---\n",
        "Q?\n",
        "\n",
        "生徒7人を4人室と3人室に分ける分け方は何通り？"
      ]
    },
    {
      "cell_type": "markdown",
      "source": [
        "ーーーーーーーーーーーーーーーーーーーーーーーーーーーーーーーーーーーーーーーーー\n",
        "\n",
        "＜算数解法＞\n",
        "\n",
        "3人室に入る人が決まれば，4人室は残りだから自動的に決まる\n",
        "\n",
        "3人室に入る人を7人から選ぶ選び方は，$\\dfrac{7×6×5}{3×2×1}＝35通り$・・・(答)\n",
        "\n",
        "\n",
        "\\\n",
        "[ Python ]\n",
        "\n",
        "生徒7人を1\\~7とし，3人室に入る生徒をa, b, cとする\n",
        "\n",
        "a, b, cのすべての場合を数え上げ，\n",
        "\n",
        "a, b, cは全部違う数で，(a,b,c), (a,c,b), (b,a,c), (b,c,a), (c,a,b), (c,b,a)はダブることになるから\n",
        "\n",
        "`a < b < c`の場合だけをカウント\n",
        "\n"
      ],
      "metadata": {
        "id": "NKkZDjKzsaEO"
      }
    },
    {
      "cell_type": "code",
      "source": [
        ""
      ],
      "metadata": {
        "id": "fUgFDo5ssaEO"
      },
      "execution_count": null,
      "outputs": []
    },
    {
      "cell_type": "code",
      "metadata": {
        "id": "ItmZG3LZsaEO"
      },
      "source": [
        "#sample\n",
        "\n",
        "count=0\n",
        "for a in range(1, 8):\n",
        "  for b in range(1, 8):\n",
        "    for c in range(1, 8):\n",
        "      if a < b < c :       #a,b,cの並び方は関係ないのでa<b<cときめる(b<c<aとかでもよい)\n",
        "        #print(a,b,c)\n",
        "        count += 1\n",
        "print(count, \"通り\")\n",
        "\n"
      ],
      "execution_count": null,
      "outputs": []
    },
    {
      "cell_type": "markdown",
      "metadata": {
        "id": "dXID2GHR7d75"
      },
      "source": [
        "###7個を4人にくばる\n",
        "---\n",
        "Q?\n",
        "\n",
        "7個の玉を4人に少なくとも1個以上あげ，残さずに分ける分け方は何通り？"
      ]
    },
    {
      "cell_type": "markdown",
      "source": [
        "ーーーーーーーーーーーーーーーーーーーーーーーーーーーーーーーーーーーーーーーーー\n",
        "\n",
        "＜算数解法＞\n",
        "\n",
        "「少なくとも1個以上あげる」ので，はじめに1個ずつあげとくと，残りは7－4＝3個\n",
        "\n",
        "3個の分け方は，(3，0，0，0)，(２，１，０，０），(1，1，1，0)の3パターンで\n",
        "\n",
        "それぞれの分け方は，4通り，4×3＝12通り，4通りなので，\n",
        "\n",
        "全部で，4＋12＋4＝20通り・・・(答)\n",
        "\n",
        "\\\n",
        "＜[ Python ]\n",
        "\n",
        "4人にくばる数をa,b,c,dとすると，1人に5個以上くばるともらえなくなる人が出てくるので\n",
        "\n",
        "1人にくばれる数の最高は4個だから，\n",
        "\n",
        "a,b,c,dの範囲を1\\~4までの数字をとりだして，すべての場合を計算し，\n",
        "\n",
        "`a + b + c + d = 7`となる条件にあてはまればcount\n",
        "\n"
      ],
      "metadata": {
        "id": "Gn0YvXET7d75"
      }
    },
    {
      "cell_type": "code",
      "source": [
        ""
      ],
      "metadata": {
        "id": "osI2jw5M7d75"
      },
      "execution_count": null,
      "outputs": []
    },
    {
      "cell_type": "code",
      "metadata": {
        "id": "rZVfXJBy7d75"
      },
      "source": [
        "#sample\n",
        "\n",
        "count=0\n",
        "\n",
        "for a in range(1,5):\n",
        "  for b in range(1,5):\n",
        "    for c in range(1,5):\n",
        "      for d in range(1,5):\n",
        "        if a + b + c + d == 7:\n",
        "          #print(a,b,c,d)\n",
        "          count+=1\n",
        "\n",
        "print(count, \"通り\")"
      ],
      "execution_count": null,
      "outputs": []
    },
    {
      "cell_type": "markdown",
      "metadata": {
        "id": "GQ0bz3vH7d76"
      },
      "source": [
        "###円テーブルに座る　2人が隣\n",
        "---\n",
        "Q?\n",
        "\n",
        "円テーブルのまわりにa, b, c, d, e, fの6人がすわり，fの位置は決まっているとき，\n",
        "\n",
        "aとbがとなり合ってすわるすわり方は何通り？"
      ]
    },
    {
      "cell_type": "markdown",
      "source": [
        "ーーーーーーーーーーーーーーーーーーーーーーーーーーーーーーーーーーーーーーーーー\n",
        "\n",
        "＜算数解法＞\n",
        "\n",
        "fの位置が決まっているので円順列ではなく，一列の並び方で考えられる\n",
        "\n",
        "aとbの並び方は，(a,b), (b,a)の2通り\n",
        "\n",
        "aとbを一人と考えると(ab), c, d, eの4人の並び方は，4 × 3 × 2 × 1 ＝ 24通り\n",
        "\n",
        "全部で，2 × 24 ＝ 48通り・・・(答)\n",
        "\n",
        "\\\n",
        "＜[ Python ]\n",
        "\n",
        "f以外が座る場所を1，10,100，1000，10000とする\n",
        "\n",
        "a, b, c, d, eが座る場所のすべての場合を数え上げ，\n",
        "\n",
        "aとbがとなり合う場合は，a + b = 11 `or`110`or`1100`or`11000になり\n",
        "\n",
        "みんなが違う場所に座る場合，a + b + c + d + e = 11111になるから\n",
        "\n",
        "その条件にあう場合をカウント\n"
      ],
      "metadata": {
        "id": "TPfp8nKu7d76"
      }
    },
    {
      "cell_type": "code",
      "source": [
        ""
      ],
      "metadata": {
        "id": "zSuLdvg87d76"
      },
      "execution_count": null,
      "outputs": []
    },
    {
      "cell_type": "code",
      "metadata": {
        "id": "Wj0f3ZfX7d76"
      },
      "source": [
        "\n",
        "count = 0\n",
        "list1 = [1, 10, 100, 1000, 10000]\n",
        "\n",
        "for a in list1:\n",
        "  for b in list1:\n",
        "    for c in list1:\n",
        "      for d in list1:\n",
        "        for e in list1:\n",
        "          if (a + b == 11 or a + b == 110 or a + b == 1100 or a + b == 11000) and \\\n",
        "          a + b + c + d + e == 11111:\n",
        "            #print(a,b,c,d,e)\n",
        "            count+=1\n",
        "\n",
        "print(count, \"通り\")\n",
        "\n"
      ],
      "execution_count": null,
      "outputs": []
    },
    {
      "cell_type": "markdown",
      "source": [
        "###pprint"
      ],
      "metadata": {
        "id": "D_0PQqZH7d76"
      }
    },
    {
      "cell_type": "markdown",
      "source": [
        "###同じ数字を含む5ケタの数\n",
        "\n",
        "---\n",
        "Q?\n",
        "\n",
        "１，１，２，２，３の5つの数字を並べて5ケタの数をつくるとき，何種類の数ができますか？"
      ],
      "metadata": {
        "id": "JZXjQwo77d76"
      }
    },
    {
      "cell_type": "markdown",
      "source": [
        "ーーーーーーーーーーーーーーーーーーーーーーーーーーーーーーーーーーーーーーーー\n",
        "\n",
        "＜算数解法＞\n",
        "\n",
        "数字を入れる5個の箱を並べ，その箱に3から順番に数字を入れることを考える\n",
        "\n",
        "3の入れ方は5個の箱から1つを選ぶ選び方だから5通り，\n",
        "\n",
        "2を入れる(1でもいい)入れ方は残りの4個の箱から2個を選ぶ選び方だから，$\\dfrac{4×3}{2×1}＝6$\n",
        "通り\n",
        "\n",
        "1は残りの2個の箱に自動的に決まるから全部で，5 × 6 ＝ 30通り・・・＜答＞\n",
        "\n",
        "(別解)\n",
        "\n",
        "１，１，２，２，３をA1，B1，C2，D2，E3と区別できる数字だとすると，\n",
        "\n",
        "全部で5 × 4 × 3 × 2 × 1 ＝ 120通り\n",
        "\n",
        "だが，A1とB1 ，C2 とD2 の並び方は2通りずつあるから，ダブりが2 × 2 ＝ 4パターン\n",
        "\n",
        "したがって，全部で，120 ÷ 4 ＝ 30通り・・・＜答＞\n",
        "\n",
        "\\\n",
        "[ Python ]\n",
        "\n",
        "[1, 1, 2, 2, 3]とすると，和の条件で`a + b + c + d + e ＝9`としたときに\n",
        "\n",
        "１＋１＋２＋２＋３＝１＋１＋１＋２＋２なども含まれてしまうので，それをさけるために\n",
        "\n",
        "和のダブりをなくすために[1, 1, 2, 2, 3]を`[1, 1, 10, 10, 100]`に置き換える\n",
        "\n",
        "そうして，`a + b + c + d + e ＝ 122`とすると，一通りに決まる\n",
        "\n",
        "\n",
        "\\\n",
        "出来上がった数も1と2が2個ずつあるので，例えば1番目の1と2番目の1が入れ替わった数も\n",
        "\n",
        "同じで，ダブルカウントになってしまうので，\n",
        "\n",
        "まず，できた数を全部くっつけた数にかえて(例えば，[10, 1, 10, 100, 1]であれば\n",
        "\n",
        "`\"101101001\"`にかえて，それを集合`set`に入れてから，`len()`でその要素の数を数える\n",
        "\n",
        "`set()`の要素の数はダブりはカウントしないので個数が分かる\n",
        "\n",
        "以上の操作のためのコードが\n",
        "\n",
        "      if a + b + c + d + e == 122 :\n",
        "            numbers.append(str(a) + str(b) + str(c) + str(d) + str(e))\n",
        "            answer = len(set(numbers))\n",
        "\n",
        "になる\n",
        "\n",
        "\\\n",
        "あまり関係ないですが\n",
        "\n",
        "`from pprint import *`で`pprint`モジュールをインポートしておいて\n",
        "\n",
        "`pprint`関数を使うと\n",
        "\n",
        "    pprint(リスト)\n",
        "\n",
        "で，リストの要素が一つひとつ改行されて出力されます\n",
        "\n",
        "要素が横長に長い場合は見やすくなります\n"
      ],
      "metadata": {
        "id": "MRjo3brI7d77"
      }
    },
    {
      "cell_type": "code",
      "source": [
        "from pprint import *\n",
        "\n",
        "list1 = [1, 1, 10, 10, 100]\n",
        "\n",
        "numbers = []\n",
        "\n",
        "for a in list1 :\n",
        "  for b in list1 :\n",
        "    for c in list1 :\n",
        "      for d in list1 :\n",
        "        for e in list1 :\n",
        "          if a + b + c + d + e == 122 :\n",
        "            numbers.append(str(a) + str(b) + str(c) + str(d) + str(e))\n",
        "            answer = len(set(numbers))\n",
        "\n",
        "print(numbers)        #横一列に表示\n",
        "pprint(numbers)       #縦一列に表示\n",
        "print(answer, '通り') \n",
        "\n"
      ],
      "metadata": {
        "id": "VsVh5EV17d77"
      },
      "execution_count": null,
      "outputs": []
    },
    {
      "cell_type": "markdown",
      "metadata": {
        "id": "qP3D37G47d77"
      },
      "source": [
        "### 異なる3つの整数"
      ]
    },
    {
      "cell_type": "markdown",
      "metadata": {
        "id": "FZEUMLhV7d77"
      },
      "source": [
        "---\n",
        "Q?\n",
        "\n",
        "異なる３つの整数があって，この３つの整数の積は，この３つの整数の和より４だけ大きい。\n",
        "\n",
        "このような３つの整数の組は，２組考えられるが，そのうち最大の整数４となる組について，\n",
        "\n",
        "３つの整数の積は［(1)］であり，もう一つの組において，３つの整数の積は［(2)］である。\n",
        "\n"
      ]
    },
    {
      "cell_type": "markdown",
      "metadata": {
        "id": "6YkPwrPp7d77"
      },
      "source": [
        "ーーーーーーーーーーーーーーーーーーーーーーーーーーーーーーーーーーーーーーー\n",
        "\n",
        "(答）(1)=(1, 3, 4),  (2)=(1, 2, 7)\n",
        "\n",
        "＜算数解法＞\n",
        "\n",
        "3つの整数をa < b < cとする\n",
        "\n",
        "c = 4であれば，残りの2つは1, 2, 3のどれかなので調べると，(1, 3, 4)・・・＜答＞\n",
        "\n",
        "\\\n",
        "aが2以上の場合，最小の組み合わせの場合でも，2 × 3 × 4 ＝ 24で，2 ＋ 3 ＋ 4 ＝ 9で，\n",
        "\n",
        "積が和より4より大きくなるから，a = 1で考える\n",
        "\n",
        "\\\n",
        "`1 * b * c = 1 + b + c + 4` より\n",
        "\n",
        "`b * c = b + c + 5 → c = 1 + (c + 5) / b`より，\n",
        "\n",
        "b, cを探すと，b = 2, c = 7・・・＜答＞\n",
        "\n",
        "\\\n",
        "a = 1, b = 2の場合で調べるほうが早いかも\n",
        "\n",
        "\\\n",
        "[ Python ]\n",
        "\n",
        "上と同様に，a = 1としてもよいが，一応それぞれ1~10でやってみる\n",
        "\n",
        "a, b, c がそれぞれ1~10の範囲の数の場合で，\n",
        "\n",
        "`a < b < c and (a * b * c = a + b + c + 4)`\n",
        "\n",
        "の条件をみたすa, b, c があれば出力"
      ]
    },
    {
      "cell_type": "code",
      "source": [
        ""
      ],
      "metadata": {
        "id": "lgpHW7AK7d77"
      },
      "execution_count": null,
      "outputs": []
    },
    {
      "cell_type": "code",
      "metadata": {
        "id": "O_UQmNmb7d78"
      },
      "source": [
        "#sample\n",
        "\n",
        "for a in range(1, 10):\n",
        "  for b in range(a + 1, 10):\n",
        "    for c in range(b + 1, 10):\n",
        "      if c == 4 and a < b < c and (a * b * c == a + b + c + 4):\n",
        "        print('(1) :', a, b, c)\n",
        "      elif a < b < c and (a * b * c == a + b + c + 4):\n",
        "        print('(2) :', a, b, c)\n",
        "        "
      ],
      "execution_count": null,
      "outputs": []
    },
    {
      "cell_type": "markdown",
      "source": [
        "###set()"
      ],
      "metadata": {
        "id": "PevcKQwZ7d78"
      }
    },
    {
      "cell_type": "markdown",
      "metadata": {
        "id": "Mk7psANt7d78"
      },
      "source": [
        "###階段　場合の数\n",
        "---\n",
        "Q?\n",
        "\n",
        "階段を，1歩で1段か2段で上がっていく方法で上がるとき，12段の階段の上がり方は何通り？"
      ]
    },
    {
      "cell_type": "markdown",
      "source": [
        "ーーーーーーーーーーーーーーーーーーーーーーーーーーーーーーーーーーーーーーーー\n",
        "\n",
        "＜答＞\n",
        "\n",
        "233通り\n",
        "\n",
        "\\\n",
        "＜算数解法＞\n",
        "\n",
        "順番に調べて仕組みを見つける\n",
        "\n",
        "1段の場合：1歩で1段，の1通り\n",
        "\n",
        "2段の場合：1歩ずつ1段＋1段，1歩で2段，の2通り\n",
        "\n",
        "3段の場合：1歩ずつ1段＋1段＋1段，1歩で1段と2段をまぜて，1段＋2段，2段＋1段，の3通り\n",
        "\n",
        "\\\n",
        "ここで，考え方を少し変えて，上がるのは1段か2段かだから，\n",
        "\n",
        "3段目に上がるのは，1段目からか，2段目からかのどちらかで，どちらも1通りだから，\n",
        "\n",
        "3段目に上がるのは，(1段目まで上がる数) ×１＋(2段目まで上がる数) ×1となることから，\n",
        "\n",
        "3段目に上がる方法は，1×１＋2×1＝1＋2＝3通りと計算することができる\n",
        "\n",
        "\\\n",
        "同じように4段目にあげる方法は，2段目からか3段目から上がるしかないことから，\n",
        "\n",
        "4段目＝(2段目)×１＋(3段目）×1＝(2段目)＋(3段目)＝2＋3＝5通り\n",
        "\n",
        "5段目＝(3段目)＋(4段目)＝3＋5＝8通り\n",
        "\n",
        "\\\n",
        "この調子で12段まで数えればいいことが分かる\n",
        "\n",
        "③1＋2＝3，④2＋3＝5，⑤3＋5＝8，⑥5＋8＝13，⑦8＋13＝21，⑧13＋21＝34\n",
        "\n",
        "⑨21＋34＝55，⑩34＋55＝89，⑪55＋89＝144，⑫89＋144＝233通り・・・＜答＞\n",
        "\n",
        "みなさんご存知と思いますが，フィボナッチの数列というやつです\n",
        "\n",
        "\\\n",
        "[ Python ]\n",
        "\n",
        "上がるのは1か2だから，`list1`で段数リストを作成\n",
        "\n",
        "上がる歩数を最大の12 ÷ 1=12歩まで(a~l)設定\n",
        "\n",
        "すべての考えられる上がるパターンを入れる`numbers`というリストを作成\n",
        "\n",
        "一番少ない歩数は，12 ÷ 2 ＝ 6歩，一番多い歩数は，12 ÷ 1 ＝ 12歩\n",
        "\n",
        "なので，`a+b+c+d+e+f`から`A+b+c+d+e+f+g+h+i+j+k+l`までの7通りで\n",
        "\n",
        "合計が12になる場合を数え上げる\n",
        "\n",
        "\\\n",
        "例えば，`a+b+c+d+e+f=12`となったら，残りのg～lまでの数は無視すればいいので，\n",
        "\n",
        "見つかった`(a,b,c,d,e,f)`だけを`numbers`リストに`append`\n",
        "\n",
        "この場合だと，`(a,b,c,d,e,f)`は，(2，2，2，2，2，2)1通りで，残りの`g～l`は\n",
        "\n",
        "2×2×2×2×2×2＝64通りなので，`numbers`リストには(2，2，2，2，2，2)が64個\n",
        "\n",
        "入ることになり，同じようなことが他の場合も起こる\n",
        "\n",
        "\\\n",
        "同じ組み合わせは1通りと数えないといけないので，最後まで数えたら`numbers`リストを\n",
        "\n",
        "`set()`で酒豪にかえて，変数`answer`に入れる。\n",
        "\n",
        "\\\n",
        "`answer`を出力するときに，`len(answer)`とすると，集合の要素の数を数えれことができる。\n",
        "\n",
        "\\\n",
        "集合の場合では順番が違っていても同じ要素が含まれている場合は1通りとカウントされる。\n",
        "\n",
        "\n",
        "\\\n",
        "ちょっと長いコードになりますが，考え方はすごく単純です\n",
        "\n"
      ],
      "metadata": {
        "id": "b97l29pe7d78"
      }
    },
    {
      "cell_type": "code",
      "source": [
        ""
      ],
      "metadata": {
        "id": "t6zHZIHm7d78"
      },
      "execution_count": null,
      "outputs": []
    },
    {
      "cell_type": "code",
      "source": [
        "list1 = [1, 2]\n",
        "\n",
        "list2 = [[a,b,c,d,e,f,g,h,i,j,k,l] for a in list1 for b in list1 for c in list1 for d in list1 for e in list1 for f in list1 for g in list1 for h in list1 for i in list1 for j in list1 for k in list1 for l in list1]\n",
        "\n",
        "numbers = []\n",
        "\n",
        "for a,b,c,d,e,f,g,h,i,j,k,l in list2 :\n",
        "  if a + b + c + d + e + f == 12 :\n",
        "    numbers.append((a,b,c,d,e,f))\n",
        " \n",
        "  if a + b + c + d + e + f + g == 12 : \n",
        "    numbers.append((a,b,c,d,e,f,g))\n",
        "    \n",
        "  if a + b + c + d + e + f + g + h == 12 :\n",
        "    numbers.append((a,b,c,d,e,f,g,h))\n",
        "   \n",
        "  if a + b + c + d + e + f + g + h + i == 12 :\n",
        "    numbers.append((a,b,c,d,e,f,g,h,i))   \n",
        "\n",
        "  if a + b + c + d + e + f + g + h + i + j == 12 :\n",
        "    numbers.append((a,b,c,d,e,f,g,h,i,j)) \n",
        "\n",
        "  if a + b + c + d + e + f + g + h + i + j + k == 12 :\n",
        "    numbers.append((a,b,c,d,e,f,g,h,i,j,k)) \n",
        "\n",
        "  if a + b + c + d + e + f + g + h + i + j + k + l == 12 :\n",
        "    numbers.append((a,b,c,d,e,f,g,h,i,j,k,l)) \n",
        "    \n",
        "answer = set(numbers)\n",
        "\n",
        "print(len(answer), '通り')\n"
      ],
      "metadata": {
        "id": "j_-cntE07d78"
      },
      "execution_count": null,
      "outputs": []
    },
    {
      "cell_type": "markdown",
      "source": [
        "itertoolsモジュールのcombinations(組み合わせを計算するプログラム）を利用するコードもあるので\n",
        "\n",
        "つくってみましたが，ご参考まで\n",
        "\n",
        "便利なプログラムに頼るより，工夫してプログラムを考えるほうがたのしいです"
      ],
      "metadata": {
        "id": "BMsqdpnY7d79"
      }
    },
    {
      "cell_type": "code",
      "metadata": {
        "id": "9Hq6r8Je7d79"
      },
      "source": [
        "#itertoolsを利用したsample\n",
        "#12÷1＝12，12÷2＝6より，最も多い回数で1を12回，最も少ない回数で2を6回とわかる\n",
        "#iを1の回数，jを2の回数とする\n",
        "#合計(sum)が12であれば，１をi個，2をj個並べる並べ方を計算\n",
        "#itertoolsモジュールの中のcombinations(＝組み合わせを計算するプログラム)を使う\n",
        "\n",
        "from itertools import combinations\n",
        "\n",
        "sum = 0\n",
        "count = 0\n",
        "\n",
        "for i in range(13) :\n",
        "  for j in range(7) :\n",
        "      sum = 1 * i + 2 * j\n",
        "      if sum == 12:\n",
        "        ij_list = [1] * i + [2] * j\n",
        "        list1 = list(combinations(ij_list, i))\n",
        "        n = len(list1)                                                 #len()でリストの中の個数が分かる\n",
        "        count += n\n",
        "\n",
        "print(count, '通り')\n"
      ],
      "execution_count": null,
      "outputs": []
    },
    {
      "cell_type": "markdown",
      "metadata": {
        "id": "EBb92nbm7d79"
      },
      "source": [
        "###4人がじゃんけん\n",
        "---\n",
        "Q?\n",
        "\n",
        "A,B,C,Dの4人がじゃんけんをします。\n",
        "\n",
        "(1) 全部で何通りの出し方がありますか。\n",
        "\n",
        "(2) あいこになるのは，全部で何通りの出し方がありますか。\n"
      ]
    },
    {
      "cell_type": "markdown",
      "metadata": {
        "id": "V-9AjLkc7d79"
      },
      "source": [
        "ーーーーーーーーーーーーーーーーーーーーーーーーーーーーーーーーーーーーーーーーー\n",
        "\n",
        "＜算数解法＞\n",
        "\n",
        "(1) 各人がそれぞれ3通りの出し方があるから，3 × 3 × 3 × 3 ＝ 81通り・・・(答)\n",
        "\n",
        "(2) ➀全員が同じ手の場合は，3通り\n",
        "\n",
        "②2人が同じ手でほかの2人がそれぞれ違う手の場合\n",
        "\n",
        "4人中2人の選び方は，6通り，同じ手がグー，チョキ，パーの3通り，2人が違う手が2通りだから，\n",
        "\n",
        "全部で6 × 3 × 2 ＝ 36通り　① ＋ ② ＝ 39通り・・・(答)\n",
        "\n",
        "\\\n",
        "[ Python ]\n",
        "\n",
        "(1)のカウンタを`count1`，(2)のカウンタを`count2`とし，はじめは0設定\n",
        "\n",
        "\\\n",
        "手はグー，チョキ，パーの3種類だから，それぞれ１，２，３として4人の手の出し方の全部の組み合わせは\n",
        "\n",
        "上の問題と同じ考え方で，このforループ(多重ループ）の下でcount1でループ回数をカウントし，\n",
        "\n",
        "これが(1)の答えになる\n",
        "\n",
        "        for a in 1,2,3:\n",
        "          for b in 1,2,3:\n",
        "            for c in 1,2,3:\n",
        "              for d in 1,2,3:\n",
        "                count1 += 1\n",
        "\n",
        "あいこになるのは，①4人が同じ手の場合で，\n",
        "\n",
        "                if a == b == c == d:\n",
        "                  count2 += 1\n",
        "\n",
        "②  2人が同じ手でほかの2人がそれぞれ違う手の場合は面倒だが，\n",
        "\n",
        "                if (a == b and a != c and a != d and c != d)\\         #ifでなくelifでも\n",
        "                or (a == c and a != b and a != d and b != d)\\\n",
        "                or (a == d and a != b and a != c and b != c)\\\n",
        "                or (b == c and b != a and b != d and a != d)\\\n",
        "                or (b == d and b != a and b != c and a != c)\\\n",
        "                or (c == d and c != a and c != b and a != b):\n",
        "                  count2 += 1\n",
        " \n",
        " 長いコードの中で行を分けるときは`\\`で区切って，下の行に続けます\n",
        "\n",
        " 6パターンのどれかの場合にあてはればあいこになるので，条件は全部`or`でつなげます\n",
        "\n",
        " ループが終わったら最後に結果出力\n",
        " \n",
        "             print('(1)', count1,'通り')\n",
        "             print('(2)', count2,'通り')\n",
        "\n",
        "forループのインデント外なので，printの先頭は左端\n",
        "\n",
        "\n",
        "  \n"
      ]
    },
    {
      "cell_type": "code",
      "source": [
        ""
      ],
      "metadata": {
        "id": "JA11V_gW5GB7"
      },
      "execution_count": null,
      "outputs": []
    },
    {
      "cell_type": "code",
      "metadata": {
        "id": "TGETvMTU7d7-"
      },
      "source": [
        "#sample\n",
        "\n",
        "count1 = 0\n",
        "count2 = 0\n",
        "for a in 1, 2, 3:\n",
        "  for b in 1, 2, 3:\n",
        "    for c in 1, 2, 3:\n",
        "      for d in 1, 2, 3:\n",
        "        count1 += 1\n",
        "        if a == b == c == d:\n",
        "          count2 += 1\n",
        "        if (a == b and a != c and a != d and c != d)\\\n",
        "        or (a == c and a != b and a != d and b != d)\\\n",
        "        or (a == d and a != b and a != c and b != c)\\\n",
        "        or (b == c and b != a and b != d and a != d)\\\n",
        "        or (b == d and b != a and b != c and a != c)\\\n",
        "        or (c == d and c != a and c != b and a != b):\n",
        "          count2 += 1\n",
        "          #print(a, b, c, d)       #それぞれの手を表示させたいとき(#をはずす) \n",
        "print('(1)', count1, '通り')\n",
        "print('(2)', count2, '通り')\n"
      ],
      "execution_count": null,
      "outputs": []
    },
    {
      "cell_type": "markdown",
      "metadata": {
        "id": "E2XdaQt_7d7-"
      },
      "source": [
        "ーーーーーーーーーーーーーーーーーーーーーーーーーーーーーーーーーーーーーーーーー\n",
        "\n",
        "＜Python別解＞\n",
        "\n",
        "グー，チョキ，パーを1，10，100として計算する方法\n",
        "\n",
        "②の場合は\n",
        "\n",
        "1＋1＋10＋100＝112\n",
        "\n",
        "1＋10＋10＋100＝121\n",
        "\n",
        "1＋10＋100＋100＝211\n",
        "\n",
        "の場合とすることができます\n"
      ]
    },
    {
      "cell_type": "code",
      "source": [
        ""
      ],
      "metadata": {
        "id": "KK3t3-oX7d7-"
      },
      "execution_count": null,
      "outputs": []
    },
    {
      "cell_type": "code",
      "metadata": {
        "id": "ETo6jbFV7d7-"
      },
      "source": [
        "count1 = 0\n",
        "count2 = 0\n",
        "for a in 1, 10, 100:\n",
        "  for b in 1, 10, 100:\n",
        "    for c in 1, 10, 100:\n",
        "      for d in 1, 10, 100:\n",
        "        count1 += 1\n",
        "        if a == b == c == d :\n",
        "          count2 += 1\n",
        "        if (a + b + c + d == 112) or (a + b + c + d == 121) or (a + b + c + d == 211):\n",
        "          count2 += 1\n",
        "          #print(a,b,c,d)       #それぞれの手を表示させたいとき(#をはずす) \n",
        "print('(1)', count1, '通り')\n",
        "print('(2)', count2, '通り')\n"
      ],
      "execution_count": null,
      "outputs": []
    },
    {
      "cell_type": "markdown",
      "metadata": {
        "id": "Md3yIsWa7d7-"
      },
      "source": [
        "###りんご5個とミカン6個をa,b,cの3つのかごに\n",
        "---\n",
        "Q?\n",
        "\n",
        "りんご5個とミカン6個をa, b, cの3つのかごにどのかごにもりんごもミカンも1個以上入れ，\n",
        "\n",
        "残さずに分ける分け方は何通り？\n",
        "\n",
        "\\\n",
        "「リストの内包表記」で同じ問題あり"
      ]
    },
    {
      "cell_type": "markdown",
      "source": [
        "ーーーーーーーーーーーーーーーーーーーーーーーーーーーーーーーーーーーーーーーーー\n",
        "\n",
        "＜算数解法＞\n",
        "\n",
        "5個のりんごを3つに分ける分け方は(1，1，3)，(1，2，2)で，これをa,b,cのかごに入れるから\n",
        "\n",
        "それぞれの分け方の場合で，3通りと3通りで6通り\n",
        "\n",
        "6個のミカンを3つの分ける分け方は(1，1，4)，(1，2，3)，(2，2，2)で，これをa,b,cのかごに入れるから\n",
        "\n",
        "それぞれの分け方の場合で，3通りと3×2×1＝6通りと1通りで10通り\n",
        "\n",
        "以上全部で，6 × 10 ＝ 60通り・・・(答)\n",
        "\n",
        "\\\n",
        "[ Python ]\n",
        "\n",
        "条件から1つのかごにりんごは3個まで，ミカンは4個まで\n",
        "\n",
        "\\\n",
        "1つのかごに入るミカンの個数は，1～4個\n",
        "\n",
        "1つのかごに入るりんごの個数は，1～3個だが，\n",
        "\n",
        "見分けるためにりんごの個数は10，20，30とする\n",
        "\n",
        "    orange_list = [1, 2, 3, 4]\n",
        "    apple_list = [10, 20, 30]\n",
        "\n",
        "\\\n",
        "両方の合計個数のリスト(`list1`)を作るコードは\n",
        "\n",
        "    list1 = []\n",
        "    for x in apple_list:\n",
        "      for y in orange_list:\n",
        "        list1.append(x + y)\n",
        "\n",
        "\\\n",
        "これをリストの内包表記で1行で書くと，\n",
        "\n",
        "    list1=[(x + y) for x in apple_list for y in orange_list]\n",
        "\n",
        "となります\n",
        "\n",
        "\\\n",
        "場合の数をカウントする`count = 0`とし，\n",
        "\n",
        "a,b,cに入るりんごとミカンの合計数のすべての場合をlist1からつくり，\n",
        "\n",
        "    count=0\n",
        "    for a in list1:\n",
        "      for b in list1:\n",
        "        for c in list1:\n",
        "\n",
        "ミカンの個数の合計は6個だから6で，りんごの個数の合計は5個だから50になるから\n",
        "\n",
        "全部の合計は56になる場合だけをカウントし，\n",
        "\n",
        "          if a + b + c == 56:\n",
        "            count += 1\n",
        "\n",
        "最後にカウント数を出力\n",
        "\n",
        "    print(count, \"通り\")\n",
        "\n"
      ],
      "metadata": {
        "id": "JC3Xb8Me7d7_"
      }
    },
    {
      "cell_type": "code",
      "source": [
        ""
      ],
      "metadata": {
        "id": "hev0ity27d7_"
      },
      "execution_count": null,
      "outputs": []
    },
    {
      "cell_type": "code",
      "metadata": {
        "colab": {
          "base_uri": "https://localhost:8080/"
        },
        "outputId": "cd8d1351-4b9e-4977-d768-7c07e805e159",
        "id": "2RlFyknE7d7_"
      },
      "source": [
        "#sample\n",
        "\n",
        "orange_list=[1, 2, 3, 4]\n",
        "apple_list = [10, 20, 30]\n",
        "\n",
        "list1 = []\n",
        "for x in apple_list:\n",
        "  for y in orange_list:\n",
        "    list1.append(x + y)\n",
        "\n",
        "count=0\n",
        "for a in list1:\n",
        "  for b in list1:\n",
        "    for c in list1:\n",
        "      #print(a, b, c)\n",
        "      if a + b + c == 56:\n",
        "        #print(a, b, c)\n",
        "        count += 1\n",
        "\n",
        "print(count, \"通り\")"
      ],
      "execution_count": null,
      "outputs": [
        {
          "output_type": "stream",
          "name": "stdout",
          "text": [
            "60 通り\n"
          ]
        }
      ]
    },
    {
      "cell_type": "markdown",
      "metadata": {
        "id": "ycmCNWRfHMF1"
      },
      "source": [
        "###倍数\n"
      ]
    },
    {
      "cell_type": "markdown",
      "metadata": {
        "id": "QiIdNPjMHMF2"
      },
      "source": [
        "---\n",
        "Q?\n",
        "\n",
        "あるグループにりんごを配ります。女子1人に4個ずつ，男子1人に3個ずつ配るとちょうど配れます。\n",
        "\n",
        "また，女子1人に3個ずつ，男子1人に5個ずつ配るとちょうど配れます。\n",
        "\n",
        "しかし，女子1人に5個ずつ，男子1人に2個ずつ配るとりんごは9個不足します。\n",
        "\n",
        "りんごの数を求めなさい。"
      ]
    },
    {
      "cell_type": "markdown",
      "metadata": {
        "id": "WDauSwEjHMF2"
      },
      "source": [
        "ーーーーーーーーーーーーーーーーーーーーーーーーーーーーーーーーーーーーーーーーー\n",
        "\n",
        "＜算数解法＞\n",
        "\n",
        "女子の人数をg人，男子の人数をb人として，問題文を式で表すと\n",
        "\n",
        "（gはgirl(女子）の頭文字，ｂはboy(男子)の頭文字）\n",
        "\n",
        "4 × g + 3 × b ＝ 3 × g ＋ 5 × b\n",
        "\n",
        "この式から，1 × g ＝ 2 × b とわかるから，女子の人数は男子の2倍とわかる\n",
        "\n",
        "女子②人，男子➀人とすると，りんごの数は，4 × ② ＋ 3 × ➀ ＝ ⑪個\n",
        "\n",
        "最後の条件から，5 × ② ＋ 2 × ➀ － 9 ＝ ⑫ － 9 ＝ ⑪より，① ＝ 9\n",
        "\n",
        "したがって，りんごの数は，9 × 11 ＝ 99個・・・(答)\n",
        "\n",
        "\\\n",
        "[ Python ]\n",
        "\n",
        "女子の人数をg人，男子の人数をb人として，1~100人の範囲ですべての組み合わせを調べる\n",
        "\n",
        "条件の3つの式の計算結果は等しく，りんごの個数を表す\n",
        "\n",
        "4 × g + 3 × b ＝ 3 × g ＋ 5 × b ＝ 5 × g ＋ 2 × b － 9　だから，\n",
        "\n",
        "この場合の人数が見つかったらそれでりんごの個数を計算し，結果を出力\n",
        "\n"
      ]
    },
    {
      "cell_type": "code",
      "source": [
        ""
      ],
      "metadata": {
        "id": "mP-_T5_fHMF2"
      },
      "execution_count": null,
      "outputs": []
    },
    {
      "cell_type": "code",
      "metadata": {
        "id": "TYkYijyqHMF3"
      },
      "source": [
        "#sample\n",
        "\n",
        "for g in range(1,101):\n",
        "  for b in range(1,101):\n",
        "    if 4 * g + 3 * b == 3 * g + 5 * b == 5 * g + 2 * b - 9:\n",
        "      print(4 * g + 3 * b, '個')\n",
        "  \n"
      ],
      "execution_count": null,
      "outputs": []
    },
    {
      "cell_type": "markdown",
      "source": [
        " \n",
        "逆算のところででてきたsympyモジュールの中の`var`(variable/バリアブル・変数という意味）とい\n",
        "  \n",
        "う変数を決めるプログラムと，`solve`(ソルブ・解くという意味）という方程式を解くプログラムを\n",
        "  \n",
        "利用する解法もありますが，それはあとで出てきます\n"
      ],
      "metadata": {
        "id": "7RJdMK8AHMF3"
      }
    },
    {
      "cell_type": "markdown",
      "metadata": {
        "id": "D_z1FF79HMF3"
      },
      "source": [
        "---\n",
        "Q?\n",
        "\n",
        "大小２つのサイコロの目の和が5の倍数となる組み合わせをすべて表示してください\n",
        "\n",
        "(大，小）＝(xx，xx）と出力"
      ]
    },
    {
      "cell_type": "markdown",
      "metadata": {
        "id": "iYfBQwATHMF3"
      },
      "source": [
        "ーーーーーーーーーーーーーーーーーーーーーーーーーーーーーーーーーーーーーーーーー\n",
        "\n",
        "大の目をx，小の目をyとするとどちらも1~6の数字だから\n",
        "\n",
        "すべての組み合わせをつくり，その中から`(x ＋ y) % 5 == 0`となる場合のx，yの組が\n",
        "\n",
        "あれば，それを出力\n"
      ]
    },
    {
      "cell_type": "code",
      "metadata": {
        "id": "jUvJ_dz-HMF3"
      },
      "source": [
        "#sample\n",
        "\n",
        "for x in range(1, 7) :\n",
        "  for y in range(1, 7) :\n",
        "    if (x + y) % 5 == 0:\n",
        "      print(\"(大，小）= (\", x, \",\", y, \")\")\n",
        "\n"
      ],
      "execution_count": null,
      "outputs": []
    },
    {
      "cell_type": "markdown",
      "source": [
        "###速さ"
      ],
      "metadata": {
        "id": "QWrwiVRYVzob"
      }
    },
    {
      "cell_type": "markdown",
      "source": [
        "---\n",
        "Q?\n",
        "\n",
        "時速24kmの速さで進むと27分かかる道のりを，分速120ｍの速さで進むと何分かかりますか。"
      ],
      "metadata": {
        "id": "n0IpI8YSVzoc"
      }
    },
    {
      "cell_type": "markdown",
      "source": [
        "ーーーーーーーーーーーーーーーーーーーーーーーーーーーーーーーーーーーーーーーーー\n",
        "\n",
        "これはフツウに算数の問題として解けばいいが，\n",
        "\n",
        "(道のり)＝(速さ)×(時間)だから，\n",
        "\n",
        "単位を，分とmメートル(meterの頭文字）にそろえて(道のり=distanceディスタンス)を計算するコードは\n",
        "\n",
        "    `distance_m = 24 * 27/60 * 1000`\n",
        "\n",
        "この道のりを分速120mで進むのにかかり時間は，(時間）＝(道のり)÷(速さ)で，これを計算するコードは\n",
        "\n",
        "    time = distance_m / 120\n",
        "\n",
        "最後にかかる時間を出力\n",
        "\n",
        "    print(time, \"分\")\n",
        "\n",
        "\\\n",
        "\\\n",
        "ーーーーーーーーーーーーーーーーーーーーーーーーーーーーーーーーーーーーーーーーー\n",
        "\n",
        "速さの英語といえば`speed(スピード)`ですが，`velocity(ヴェロシティ)`もよく使われます\n",
        "\n",
        "速さを表す英語の文字で`V`をよく見かけますが，これはvelocityの頭文字です\n",
        "\n",
        "sppedとvelicityの違いは，velocityは速さだけでなく，速度＝「方向が決まった速さ」のときに使います\n",
        "\n",
        "velocity = speed + 方向  というイメージです\n",
        "\n",
        "\n"
      ],
      "metadata": {
        "id": "dXLnUH8bVzoc"
      }
    },
    {
      "cell_type": "code",
      "metadata": {
        "id": "uqAjUIKzVzoc"
      },
      "source": [
        "#sample\n",
        "\n",
        "distance_m = 24 * 27/60 * 1000\n",
        "\n",
        "time = distance_m / 120\n",
        "\n",
        "print(time, \"分\")\n",
        "\n",
        "print(int(time), \"分\")   #整数にしたいとき\n",
        "\n"
      ],
      "execution_count": null,
      "outputs": []
    },
    {
      "cell_type": "markdown",
      "source": [
        "---\n",
        "Q?\n",
        "\n",
        "毎分120ｍの速 さで走ると□ 分かかる道のりを，毎時18ｋｍの速さで走ると14分かかります"
      ],
      "metadata": {
        "id": "xAlF_W2tVzoc"
      }
    },
    {
      "cell_type": "markdown",
      "source": [
        "ーーーーーーーーーーーーーーーーーーーーーーーーーーーーーーーーーーーーーーーーー\n",
        "\n",
        "問題文の後半から解いていけばいい\n",
        "\n",
        "速さの問題は，3つの要素(速さ)，(時間)，(道のり）のどれか２つが分かる条件があるから\n",
        "\n",
        "そこから解いていきます\n",
        "\n",
        "(道のり)＝(速さ)×(時間)だから，\n",
        "\n",
        "    `distance_m = 18 * 14/60 * 1000`\n",
        "\n",
        "この道のりを分速120mで進むのにかかり時間は，(時間）＝(道のり)÷(速さ)で，これを計算するコードは\n",
        "\n",
        "    time = distance_m / 120\n",
        "\n",
        "最後にかかる時間を出力\n",
        "\n",
        "    print(time, \"分\")\n",
        "\n"
      ],
      "metadata": {
        "id": "spBJ9jReVzoc"
      }
    },
    {
      "cell_type": "code",
      "source": [
        ""
      ],
      "metadata": {
        "id": "19bl17jaVzod"
      },
      "execution_count": null,
      "outputs": []
    },
    {
      "cell_type": "code",
      "metadata": {
        "id": "-J4Ht22jVzod"
      },
      "source": [
        "#sample\n",
        "\n",
        "distance_m = 18 * 14/60 * 1000\n",
        "\n",
        "time = distance_m / 120\n",
        "\n",
        "#print(time, \"分\")\n",
        "\n",
        "print(int(time), \"分\")   \n",
        "\n"
      ],
      "execution_count": null,
      "outputs": []
    },
    {
      "cell_type": "markdown",
      "source": [
        "---\n",
        "Q?\n",
        "\n",
        "太郎と次郎が100m競争をしました\n",
        "\n",
        "太郎がゴールしたとき次郎はゴール手前10mの位置でした\n",
        "\n",
        "もし太郎がスタート地点から10m後ろからスタートすると，どちらが勝つでしょうか"
      ],
      "metadata": {
        "id": "JMjiDcizVzod"
      }
    },
    {
      "cell_type": "markdown",
      "source": [
        "ーーーーーーーーーーーーーーーーーーーーーーーーーーーーーーーーーーーーーーーーー\n",
        "\n",
        "＜算数解法＞\n",
        "\n",
        "問題文のはじめの条件から，太郎と次郎の速さの比は，100:90＝10：9\n",
        "\n",
        "次の条件では太郎は100＋10＝110m，次郎は100ｍ走るので，かかる時間の比を比べればよい\n",
        "\n",
        "(110÷10)：(100÷9)＝11：100/9＝99：100より，太郎が勝つ・・・(答)\n",
        "\n",
        "\\\n",
        "[ Python ]\n",
        "\n",
        "考え方は上と同じで，太郎の速さ＝taro_v，次郎の速さ＝jiro_vとすると，\n",
        "\n",
        "    taro_v = 100\n",
        "    jiro_v =90\n",
        "\n",
        "次の競争でぞれぞれのグールする時間をそれぞれ，`taro_t`,`jiro_t`とすると，\n",
        "\n",
        "    taro_t = (100 + 10) / taro_v\n",
        "    jiro_t = 100 / jiro_v\n",
        "\n",
        "どちらが早くゴールできるかをif文にすると\n",
        "\n",
        "    if taro_t < jiro_t:\n",
        "      print(\"太郎が勝つ\")\n",
        "    elif taro_t == jiro_t:\n",
        "      print(\"同着です\")\n",
        "    else:\n",
        "      print(\"次郎が勝つ\")"
      ],
      "metadata": {
        "id": "-I044aG7Vzod"
      }
    },
    {
      "cell_type": "code",
      "source": [
        ""
      ],
      "metadata": {
        "id": "12IXjnhZVzod"
      },
      "execution_count": null,
      "outputs": []
    },
    {
      "cell_type": "markdown",
      "source": [
        "---\n",
        "Q?\n",
        "\n",
        "A地点からB地点まで，行きは時速3km，帰りは時速6㎞で進むとき，平均時速は時速何km？"
      ],
      "metadata": {
        "id": "e86I4QY_Vzod"
      }
    },
    {
      "cell_type": "markdown",
      "source": [
        "ーーーーーーーーーーーーーーーーーーーーーーーーーーーーーーーーーーーーーーーーー\n",
        "\n",
        "＜算数解法＞\n",
        "\n",
        "平均時速＝$\\dfrac{往復の距離}{往復の時間}$       \n",
        "\n",
        "で求めることに注意\n",
        "\n",
        "\\\n",
        "AB間の距離が書いていないので，自分できめる\n",
        "\n",
        "この問題では3 × 6＝18ｋｍとすると計算しやすい\n",
        "\n",
        "\\\n",
        "(往復の距離）＝18 × 2 ＝ 36km\n",
        "\n",
        "(往復の時間) ＝ 18 ÷ 3 ＋ 18 ÷ 6 ＝ 6 ＋ 3 ＝ 9時間\n",
        "\n",
        "平均時速 ＝ $\\dfrac{36}{9}$ ＝ 4km/時・・・(答)\n",
        "\n",
        "\n",
        "\\\n",
        "[ Python ]\n",
        "\n",
        "考え方は上と同じなので，コードは自分で考えてみて下さい\n"
      ],
      "metadata": {
        "id": "OgdVYQB2Vzod"
      }
    },
    {
      "cell_type": "code",
      "metadata": {
        "id": "16tW0ww-Vzoe"
      },
      "source": [
        "#sample\n",
        "\n",
        "time_AtoB = 18 / 3\n",
        "time_BtoA = 18 / 6\n",
        "\n",
        "average_v = 18 * 2 / (time_AtoB + time_BtoA)      #averageアベレージ＝「平均」の英語\n",
        "print(int(average_v), \"km/h\")                              #hはhourの頭文字\n",
        "\n"
      ],
      "execution_count": null,
      "outputs": []
    },
    {
      "cell_type": "markdown",
      "metadata": {
        "id": "HPbTrrBKa9-O"
      },
      "source": [
        "###年齢"
      ]
    },
    {
      "cell_type": "markdown",
      "metadata": {
        "id": "8tDVWql3a9-P"
      },
      "source": [
        "---\n",
        "Q?\n",
        "\n",
        "6年前は，父と母と兄の年齢の和が，私の年齢の13倍でした。\n",
        "\n",
        "今は，3人の年齢の和が，私の年齢の7倍です。\n",
        "\n",
        "6年前の私の年齢は？\n",
        "\n"
      ]
    },
    {
      "cell_type": "markdown",
      "metadata": {
        "id": "-sYCVj0Ua9-P"
      },
      "source": [
        "ーーーーーーーーーーーーーーーーーーーーーーーーーーーーーーーーーーーーーーーーー\n",
        "\n",
        "＜算数解法＞\n",
        "\n",
        "6年前の私の年齢を①歳とすると，3人の年齢の和は⑬\n",
        "\n",
        "今の私の年齢は①＋6歳で，3人の年齢の和は⑬＋3×6＝⑬＋18\n",
        "\n",
        "したがって，(①＋6)×7＝⑬＋18で，これを解いて➀＝4歳・・・(答)\n",
        "\n",
        "\\\n",
        "[ Python ]\n",
        "\n",
        "6年前の私の年齢をmyage，3人の年齢をAとして，\n",
        "\n",
        "それぞれ1～20，13～100くらいでifの条件に合うmyageをさがし，\n",
        "\n",
        "条件に合ったmyageが見つかれば，出力\n",
        "\n",
        "\\\n",
        "ifの条件は，問題文の条件を式で表す\n",
        "\n",
        "Aは3人の年齢の和だから，1年で3歳ずつ増えることに注意\n",
        "\n",
        "    if A == myage * 13 and (myage + 6) * 7 == A + 3 * 6:\n",
        " \n",
        "\n"
      ]
    },
    {
      "cell_type": "code",
      "metadata": {
        "id": "DPBdFGdza9-P"
      },
      "source": [
        "#sample\n",
        "\n",
        "for myage in range(1,21):\n",
        "  for A in range(13,101):\n",
        "     if A == myage * 13 and (myage + 6) * 7 == A + 3 * 6 :\n",
        "       print(myage,'歳')\n"
      ],
      "execution_count": null,
      "outputs": []
    },
    {
      "cell_type": "markdown",
      "source": [
        "この問題もsympyのsolveプログラムで解く解法もありますが，それは後ほど"
      ],
      "metadata": {
        "id": "eYE7kC3Ia9-P"
      }
    },
    {
      "cell_type": "markdown",
      "metadata": {
        "id": "j7S_0u9zl4C2"
      },
      "source": [
        "###損益"
      ]
    },
    {
      "cell_type": "markdown",
      "metadata": {
        "id": "XIWazsx_l4C2"
      },
      "source": [
        "---\n",
        "Q?\n",
        "\n",
        "原価の3割の利益を見込んで定価をつけた品物を定価の1割引きで売ったところ255円の利益がありました。\n",
        "\n",
        "定価はいくら？\n"
      ]
    },
    {
      "cell_type": "markdown",
      "metadata": {
        "id": "TOcIAeF7l4C2"
      },
      "source": [
        "ーーーーーーーーーーーーーーーーーーーーーーーーーーーーーーーーーーーーーーーーー\n",
        "\n",
        "＜算数解法＞\n",
        "\n",
        "原価を1とすると定価は1×1.3＝1.3で，定価の1割引きは，1.3×(1－0.1)＝1.17\n",
        "\n",
        "0.17が利益である255円に相当するから，原価1＝255÷0.17＝1500円で，\n",
        "\n",
        "定価は，1500×1.3＝1950円・・・(答)\n",
        "\n",
        "\\\n",
        "＜[ Python ]\n",
        "\n",
        "原価Costコストをcostとし，その範囲を1000～5000円くらいにして条件にあてはまるcostを探す\n",
        "\n",
        "条件に合ったcostが見つかれば，出力してbreakでforループ中断\n",
        "\n",
        "\\\n",
        "costの型はfloat=小数(浮動小数点数）になっているので，int=整数に直して表示\n",
        "\n",
        "\\\n",
        "if文に入る条件文は，\n",
        "\n",
        "売値－原価＝利益をそのまま式にすると，\n",
        "\n",
        "    `cost * (1 + 0.3) * (1 - 0.1) - cost == 255`\n",
        "\n"
      ]
    },
    {
      "cell_type": "code",
      "metadata": {
        "id": "ohr3MtFnl4C2"
      },
      "source": [
        "#sample\n",
        "\n",
        "for cost in range(1000,5000):\n",
        "  if cost * (1 + 0.3) * (1 - 0.1) - cost == 255:\n",
        "    print(cost * 1.3, '円')\n",
        "    print(int(cost * 1.3), '円')\n",
        "    break\n"
      ],
      "execution_count": null,
      "outputs": []
    },
    {
      "cell_type": "markdown",
      "source": [
        "###数"
      ],
      "metadata": {
        "id": "J50gUEpyma32"
      }
    },
    {
      "cell_type": "markdown",
      "metadata": {
        "id": "2Pd9hHwUl4C3"
      },
      "source": [
        "---\n",
        "Q?\n",
        "\n",
        "2～9の整数から2つ選び，どちらかがどちらかの約数となっているものの組み合わせをすべて表示\n"
      ]
    },
    {
      "cell_type": "markdown",
      "source": [
        "ーーーーーーーーーーーーーーーーーーーーーーーーーーーーーーーーーーーーーーーーー\n",
        "\n",
        "選ぶ2つの数をx，yとして，y ÷ xが割り切れる組み合わせを探す\n",
        "\n",
        "\\\n",
        "「2~9の整数から2つ選び」ということは同じ数はないということ\n",
        "\n",
        "\\\n",
        "xは2~9で選び，yはxより大きな数で選び，すべての組み合わせを調べ，\n",
        "\n",
        "約数になるということは，「yをxで割ると割り切れる」ということだから\n",
        "\n",
        "条件は，`y % x == 0`と表すことができる"
      ],
      "metadata": {
        "id": "FUz4aNrAl4C3"
      }
    },
    {
      "cell_type": "code",
      "metadata": {
        "id": "wS9NlA4vl4C3"
      },
      "source": [
        "#sample\n",
        "\n",
        "for x in range(2, 9) :\n",
        "  for y in range(x + 1, 10) :\n",
        "    if y % x == 0 :\n",
        "      print(x, \"は\", y, \"の約数\")\n"
      ],
      "execution_count": null,
      "outputs": []
    },
    {
      "cell_type": "markdown",
      "metadata": {
        "id": "Gc45zhZ9l4C3"
      },
      "source": [
        "---\n",
        "Q?\n",
        "\n",
        "207，2007，20007，・・・のように先頭が2で末尾が7，間はすべて0である整数のうち，\n",
        "\n",
        "27で割り切れるが，81では割り切れない数の中で最も小さい数は？"
      ]
    },
    {
      "cell_type": "markdown",
      "metadata": {
        "id": "ICUEtibkl4C4"
      },
      "source": [
        "ーーーーーーーーーーーーーーーーーーーーーーーーーーーーーーーーーーーーーーーーー\n",
        "\n",
        "＜算数解法＞\n",
        "\n",
        "2 ＋7＝ 9 だから，この数は9で割り切れることが分かる\n",
        "\n",
        "27 ＝ 9 × 3　で　81 ＝ 9 × 9　だから，順番に割っていき，商が3で割れて9で割れない数を探す\n",
        "\n",
        "207 ÷ ９ ＝ 23　　　　　　・・・3で割れない\n",
        "\n",
        "2007 ÷ ９ ＝ 223　　　　　・・・3で割れない\n",
        "\n",
        "20007 ÷ ９ ＝ 2223　　　　・・・各位の数の和＝３＋２×３＝９で，３で割り切れるが，９でも割り切れる\n",
        "\n",
        "200007 ÷ ９ ＝ 22223　　・・・3で割れない\n",
        "\n",
        "2000007 ÷ ９ ＝ 222223　・・・3で割れない\n",
        "\n",
        "20000007 ÷ ９ ＝ 2222223・・・3で割り切れるが，９では割り切れない → 200000007・・・(答)\n",
        "\n",
        "全部計算しなくても，商の数字の規則性が分かれば割り算は不要\n",
        "\n",
        "\n",
        "\\\n",
        "＜[ Python ]\n",
        "\n",
        "207 = 2 × 100 + 7 ＝ 2 × (10 × 10) ＋ 7\n",
        "\n",
        "2007 = 2 × 1000 + 7＝ 2 × (10 × 10 × 10) ＋ 7\n",
        "\n",
        "20007 = 2 × 10000 + 7＝ 2 × (10 × 10 × 10 × 10）＋ ７\n",
        "\n",
        "だから，10を何回かけるかを表す数(べき乗)をxとして，2から10くらいまで動かし問題の数をつくり，\n",
        "\n",
        "式は，`2 ＊ (10 ** x) + 7`  算術演算子の`**`(べき乗）を利用\n",
        "\n",
        "見やすくするために，この式を変数`n`に代入\n",
        "\n",
        "「つくった数が27で割り切れて，81で割り切れない数」という条件\n",
        "\n",
        "`if n % 27 == 0 and n % 81 != 0:`\n",
        "\n",
        "にあてはまれば，その数を出力して，forループを中断(break)\n",
        "\n"
      ]
    },
    {
      "cell_type": "code",
      "source": [
        ""
      ],
      "metadata": {
        "id": "hcHO3Cd9l4C4"
      },
      "execution_count": null,
      "outputs": []
    },
    {
      "cell_type": "code",
      "source": [
        "#sample\n",
        "\n",
        "for x in range(2, 10) :\n",
        "  n = 2 * (10 ** x) + 7\n",
        "  if n % 27 == 0 and n % 81 != 0:\n",
        "    print(n)\n",
        "    break\n",
        "    "
      ],
      "metadata": {
        "id": "ipInoQOUl4C4"
      },
      "execution_count": null,
      "outputs": []
    },
    {
      "cell_type": "markdown",
      "source": [
        "while文にすると，次のようなコードになる"
      ],
      "metadata": {
        "id": "AJ8Rmj5jl4C4"
      }
    },
    {
      "cell_type": "code",
      "metadata": {
        "id": "79WmKa63l4C4"
      },
      "source": [
        "#while文 sample\n",
        "\n",
        "x = 100\n",
        "while True:                  #「条件に合うまで繰り返す」という意味の決まり文句\n",
        "  n = 2 * x +7\n",
        "  if n % 27 == 0 and n % 81 != 0:\n",
        "    print(n)\n",
        "    break\n",
        "  else:\n",
        "    x *= 10"
      ],
      "execution_count": null,
      "outputs": []
    },
    {
      "cell_type": "markdown",
      "metadata": {
        "id": "pNrwynaTFkY4"
      },
      "source": [
        "Summary of Arithmetic Operators\n",
        "\n",
        "\n",
        "\n",
        "| Arithmetic | Symbol |\n",
        "|:------:|:------:|\n",
        "| Addition | `+` |\n",
        "| Subtraction | `-` |\n",
        "| Multiplication | `*` |\n",
        "| Division | `/` |\n",
        "|Exponentiation | `**` |  \n",
        "| Division (quotient only) | `//` |\n",
        "| Division (remainder only) | `%` |\n",
        "\n",
        "\n",
        "\\\n"
      ]
    },
    {
      "cell_type": "markdown",
      "source": [
        "###数"
      ],
      "metadata": {
        "id": "vGC-0Hl4WX0W"
      }
    },
    {
      "cell_type": "markdown",
      "source": [
        "---\n",
        "Q?\n",
        "\n",
        "3以上9999以下の奇数$a$で，$a × a－a$ が10000で割り切れる数を求めなさい\n",
        "\n"
      ],
      "metadata": {
        "id": "A5CzZJwQ2PSc"
      }
    },
    {
      "cell_type": "markdown",
      "source": [
        "ーーーーーーーーーーーーーーーーーーーーーーーーーーーーーーーーーーーーーーーーー\n",
        "\n",
        "$a×a$ は `a**2`と表せることは知っているので，この問題は算数の解法はできないが\n",
        "\n",
        "Pythonではラクに解けます\n",
        "\n",
        "$a$が奇数の場合は，`for a in range(3, 10000, 2)`\n",
        "\n",
        "`range(start=はじめの数，stop=最後の数の次の数，step=増やす数)`\n",
        "\n",
        "と書きます\n",
        "\n",
        "これで，「はじめは3，最後は9999，2ずつ増やす」となり，\n",
        "\n",
        "３，５，７，・・・・，9999が変数に代入されます\n",
        "\n",
        "あとは，`a ** 2 ー a`を10000で割ったあまりが0となる数を出力"
      ],
      "metadata": {
        "id": "xwMFUpS42PSd"
      }
    },
    {
      "cell_type": "code",
      "source": [
        ""
      ],
      "metadata": {
        "id": "0wJesgnb6mVY"
      },
      "execution_count": null,
      "outputs": []
    },
    {
      "cell_type": "code",
      "source": [
        "#a = 2x - 1 = 9999のとき，x = 10000/2=5000\n",
        "\n",
        "for a in range(3, 9999, 2):\n",
        "  if (a**2 - a) % 10000 == 0:\n",
        "    print(a)"
      ],
      "metadata": {
        "id": "7adoH8n92PSd"
      },
      "execution_count": null,
      "outputs": []
    },
    {
      "cell_type": "markdown",
      "source": [
        "ーーーーーーーーーーーーーーーーーーーーーーーーーーーーーーーーーーーーーーーーー\n",
        "\n",
        "奇数$a$を，$x = 1,2,3,・・・$のとき，$a = 2 × x ー1$と表すことあります\n",
        "\n",
        "具体的には\n",
        "\n",
        "$x＝1$のとき，$a = 2 × 1 ー1＝1$\n",
        "\n",
        "$x＝2$のとき，$a = 2 × 2 ー1＝3$\n",
        "\n",
        "$x＝3$のとき，$a = 2 × 3 ー1＝5$\n",
        "\n",
        "です\n",
        "\n",
        "$a＝9999$のとき，$x = (9999＋1)÷2＝5000$　だから\n",
        "\n",
        "下は，2から5000までの数をxに入れて計算するパターン"
      ],
      "metadata": {
        "id": "CFhkyNiw2PSd"
      }
    },
    {
      "cell_type": "code",
      "source": [
        ""
      ],
      "metadata": {
        "id": "3GvgvDXW6k7S"
      },
      "execution_count": null,
      "outputs": []
    },
    {
      "cell_type": "code",
      "source": [
        "#a = 2x - 1 = 9999のとき，x = 10000/2=5000\n",
        "\n",
        "for x in range(2, 5001):\n",
        "  a = 2 * x - 1\n",
        "  if (a**2 - a) % 10000 == 0:\n",
        "    print(a)\n",
        "  "
      ],
      "metadata": {
        "id": "GiyPh9-_2PSd"
      },
      "execution_count": null,
      "outputs": []
    },
    {
      "cell_type": "markdown",
      "metadata": {
        "id": "oDuj5uJ32PSe"
      },
      "source": [
        "---\n",
        "Q?\n",
        "\n",
        "次のように２つの整数の積をつくる\n",
        "\n",
        "１×１９９８，２×１９９７，３×１９９６，・・・・・・・，９９９×１０００\n",
        "\n",
        "これら９９９個のうち，12で割り切れるものは何個？\n",
        "\n"
      ]
    },
    {
      "cell_type": "markdown",
      "source": [
        "ーーーーーーーーーーーーーーーーーーーーーーーーーーーーーーーーーーーーーーーーー\n",
        "\n",
        "＜算数解法＞\n",
        "\n",
        "この手の問題は必ず「周期性」があると考えて取り組む\n",
        "\n",
        "\\\n",
        "並んだ式のすべての組み合わせは，(偶数) × (奇数)か(奇数) × (偶数)\n",
        "\n",
        "12の倍数になるためには，(12の倍数) × (その他)か(3の倍数) × (4の倍数）\n",
        "\n",
        "(2の倍数) × (6の倍数）は(偶数) × (偶数)になるのでこの中にはない\n",
        "\n",
        "はじめの12組の1 × 1998　2 × 1998　3 × 1997　……　12 × 1987までの数を見たとき\n",
        "\n",
        "(12の倍数) × (その他)は7 × 1992，12 × 1987\n",
        "\n",
        "(3の倍数) × (4の倍数)は3 × 1996，4 × 1995\n",
        "\n",
        "次の12個を調べても同じ順番で4個あることがわかる\n",
        "\n",
        "999 ÷ 12 ＝ 83…3より，12個の周期が83個，残り3個のうち3番目の999 × 1000の1個\n",
        "\n",
        "求める個数は，83 × 4 ＋ 1 ＝ 333個・・・(答)\n",
        "\n",
        "\\\n",
        "[ Python ]\n",
        "\n",
        "はじめに，あてはまる個数をカウントするcountに0を，\n",
        "\n",
        "また，1~999を入れる変数xにかける数yに1998を代入\n",
        "\n",
        "\\\n",
        "1~999の数を取り出してx変数に入れ，順番に`x × y`をつくり\n",
        "\n",
        "12で割り，余りが0になればカウントし，yが999になったら`break`\n",
        "\n",
        "yは1ずつ減らしていく\n",
        "\n",
        "\\\n",
        "forループが終わったら最後にcountを出力\n",
        "\n"
      ],
      "metadata": {
        "id": "FIORExLs2PSe"
      }
    },
    {
      "cell_type": "code",
      "source": [
        ""
      ],
      "metadata": {
        "id": "w0luai027Bk_"
      },
      "execution_count": null,
      "outputs": []
    },
    {
      "cell_type": "code",
      "source": [
        "#sample\n",
        "\n",
        "count = 0\n",
        "y = 1998\n",
        "\n",
        "for x in range(1, 1000):\n",
        "  if y == 999:\n",
        "    break\n",
        "  elif x * y % 12 == 0:\n",
        "    count += 1\n",
        "    #print(x,\"×\", y)\n",
        "  y -= 1\n",
        "\n",
        "print(count, \"個\")\n",
        "\n"
      ],
      "metadata": {
        "id": "dlv-IUYp2PSe"
      },
      "execution_count": null,
      "outputs": []
    },
    {
      "cell_type": "markdown",
      "source": [
        "while文でも同じ計算内容のコードがつくれます"
      ],
      "metadata": {
        "id": "IfVnfp8o2PSe"
      }
    },
    {
      "cell_type": "code",
      "source": [
        ""
      ],
      "metadata": {
        "id": "5C-ifCQr7Coi"
      },
      "execution_count": null,
      "outputs": []
    },
    {
      "cell_type": "code",
      "source": [
        "#while文 sample\n",
        "\n",
        "count = 0 \n",
        "x = 1\n",
        "y = 1998\n",
        "\n",
        "while True:\n",
        "  if y == 999:\n",
        "    break\n",
        "  elif x * y % 12 == 0:\n",
        "    count += 1\n",
        "    #print(x, '×', y)\n",
        "  x += 1\n",
        "  y -= 1\n",
        "  \n",
        "print(count,\"個\")"
      ],
      "metadata": {
        "id": "2lb5_J_02PSe"
      },
      "execution_count": null,
      "outputs": []
    },
    {
      "cell_type": "markdown",
      "source": [
        "###約束記号"
      ],
      "metadata": {
        "id": "7BmmSGVlVGJ1"
      }
    },
    {
      "cell_type": "markdown",
      "source": [
        "---\n",
        "Q?\n",
        "\n",
        "\n",
        "$[a]$という記号である数$a$の整数部分を表すことにします。\n",
        "\n",
        "例えば$\\left[\\dfrac{1}{2}\\right]=0$,　$\\left[\\dfrac{7}{3}\\right]=2$となります。\n",
        "\n",
        "(1)　$\\left[\\dfrac{1}{2}\\right] + \\left[\\dfrac{2}{2}\\right] +\\left[\\dfrac{3}{2}\\right] +\\left[\\dfrac{4}{2}\\right] +　・・・+\\left[\\dfrac{50}{2}\\right] $はいくつになるか求めなさい。\n",
        "\n",
        "(2)　$\\left[\\dfrac{3}{4}\\right] + \\left[\\dfrac{6}{4}\\right] +\\left[\\dfrac{9}{4}\\right] +\\left[\\dfrac{12}{4}\\right] +　・・・+\\left[\\dfrac{99}{4}\\right] $はいくつになるか求めなさい。\n",
        "\n",
        "(3)　$\\left[\\dfrac{2}{4}\\right] + \\left[\\dfrac{3}{4}\\right] +\\left[\\dfrac{4}{4}\\right] +\\left[\\dfrac{6}{4}\\right] + \\left[\\dfrac{8}{4}\\right] +\\left[\\dfrac{9}{4}\\right] +　・・・+\\left[\\dfrac{100}{4}\\right] $はいくつになるか求めなさい。\n",
        "\n",
        "　　ただし，分子は2または3の倍数であるとします。\n"
      ],
      "metadata": {
        "id": "k5I6CbhMVGJ1"
      }
    },
    {
      "cell_type": "markdown",
      "source": [
        "ーーーーーーーーーーーーーーーーーーーーーーーーーーーーーーーーーーーーーーーー\n",
        "\n",
        "(1)\n",
        "\n",
        "＜算数解法＞\n",
        "\n",
        "整数部分に注目すると，分子(numeratorニューメレイタ）が偶数(Even numberイーブン)のとき，\n",
        "\n",
        "整数部分は，１，２，３，４，・・・・，25\n",
        "\n",
        "その和は，(1＋25) × 25 ÷ 2 ＝ 325\n",
        "\n",
        "\\\n",
        "\n",
        "分子が奇数(odd numberオッド）のとき，０，１，２，３，・・・・，24で，\n",
        "\n",
        "その和は，(1 ＋ 24) × 24 ÷ ２ ＝ 300\n",
        "\n",
        "\\\n",
        "あわせて，325＋300＝625・・・(答)\n",
        "\n",
        "\n",
        "\\\n",
        "[ Python ]\n",
        "\n",
        "和を足していく`sum`をはじめに0に設定\n",
        "\n",
        "分子`n`を1~50まで動かし，nを分母(denominatorデノミネイタ)2で割った整数部分の数をsumに足していく\n"
      ],
      "metadata": {
        "id": "hzpX_9OOVGJ2"
      }
    },
    {
      "cell_type": "code",
      "metadata": {
        "id": "Fkk01ht_GL_r"
      },
      "source": [
        "#(1)sample\n",
        "\n",
        "sum = 0\n",
        "\n",
        "for n in range(1, 51) :\n",
        "  sum += n // 2\n",
        "  #print(sum)  #途中経過の確認用\n",
        "\n",
        "print(sum)\n"
      ],
      "execution_count": null,
      "outputs": []
    },
    {
      "cell_type": "markdown",
      "source": [
        "ーーーーーーーーーーーーーーーーーーーーーーーーーーーーーーーーーーーーーーーー\n",
        "\n",
        "(2)\n",
        "\n",
        "＜算数解法＞\n",
        "\n",
        "分子が3の倍数で分母が4なので，1~12を1周期として調べてみると\n",
        "\n",
        "はじめの1周期の和 ＝ 0 ＋ 1 ＋ 2 ＋ 3 ＝ ６\n",
        "\n",
        "次の1周期の和 ＝ 3 ＋ 4 ＋ 5 ＋ 6 ＝ 18と，3 × 4 ＝ 12ずつ増えていることが分かる\n",
        "\n",
        "99 ÷ 12 ＝ 8…3より，8周期と99に分かれる\n",
        "\n",
        "8周期目の和 ＝ 6 ＋ 12 × (8 － 1) ＝ 90\n",
        "\n",
        "1~8周期の和 ＝ (6 ＋ 90) × 8 ÷ 2 ＝ 384\n",
        "\n",
        "99 ÷ 4 ＝ 24…3より，すべての和は，384 ＋ 24 ＝ 408・・・(答)\n",
        "\n",
        "\\\n",
        "[ Python ]\n",
        "\n",
        "(1)と解法は同じで，分子が3から99まで，3ずつ増えるから\n",
        "\n",
        "    for n in range(3, 100, 3) :\n",
        "\n"
      ],
      "metadata": {
        "id": "Bztu4YoaGL_r"
      }
    },
    {
      "cell_type": "code",
      "source": [
        ""
      ],
      "metadata": {
        "id": "GW4WnjzRVGJ3"
      },
      "execution_count": null,
      "outputs": []
    },
    {
      "cell_type": "code",
      "metadata": {
        "id": "sEfjfuNdGL_s"
      },
      "source": [
        "#(2)sample\n",
        "\n",
        "sum = 0\n",
        "\n",
        "for n in range(3, 100, 3) :\n",
        "  sum += n // 4\n",
        "  #print(sum)  #途中経過の確認用\n",
        "\n",
        "print(sum)\n"
      ],
      "execution_count": null,
      "outputs": []
    },
    {
      "cell_type": "markdown",
      "source": [
        "ーーーーーーーーーーーーーーーーーーーーーーーーーーーーーーーーーーーーーーーー\n",
        "\n",
        "(3)\n",
        "\n",
        "＜算数解法＞\n",
        "\n",
        "分子が2か3の倍数で分母が4なので，1~12を1周期として調べてみると\n",
        "\n",
        "1周期には8個の数があり，はじめの1周期の和＝0＋0＋1＋1＋2＋2＋2＋3＝11\n",
        "\n",
        "次の1周期の和＝3＋3＋4＋4＋5＋5＋5＋6＝35と，3×8＝24ずつ増えていることが分かる\n",
        "\n",
        "100 ÷ 12 ＝ 8…4より，8周期と9周期目は，98，99，100の3個\n",
        "\n",
        "8周期目の和 ＝ 11 ＋ 24 × (8 － 1) ＝ 179\n",
        "\n",
        "1~8周期の和 ＝ (11 ＋ 179) × 8 ÷ 2 ＝ 760\n",
        "\n",
        "98 ÷ 4 ＝ 24…2，より，9周期目の和は，24 ∔ 24 ∔ 25 ＝ 73　より，\n",
        "\n",
        "すべての和は，760 ＋ 73 ＝ 833・・・(答)\n",
        "\n",
        "\\\n",
        "[ Python ]\n",
        "\n",
        "(1)と解法は同じで，分子が2か3で割り切れたら，`n // 4`を計算\n",
        "\n",
        "\n",
        "\n"
      ],
      "metadata": {
        "id": "qOXLd7FYVGJ3"
      }
    },
    {
      "cell_type": "code",
      "source": [
        ""
      ],
      "metadata": {
        "id": "EUppuc3RVGJ4"
      },
      "execution_count": null,
      "outputs": []
    },
    {
      "cell_type": "code",
      "metadata": {
        "id": "g510epV9GL_s"
      },
      "source": [
        "#(3)sample\n",
        "\n",
        "sum = 0\n",
        "\n",
        "for n in range(1, 101) :\n",
        "  if n % 2 == 0 or n % 3 == 0:\n",
        "    sum += n // 4\n",
        "    #print(sum)  #途中経過の確認用\n",
        "\n",
        "print(sum)\n"
      ],
      "execution_count": null,
      "outputs": []
    },
    {
      "cell_type": "markdown",
      "source": [
        "###数の問題"
      ],
      "metadata": {
        "id": "nOB-EZcnSpJC"
      }
    },
    {
      "cell_type": "markdown",
      "source": [
        "---\n",
        "Q?\n",
        "\n",
        "Nを整数とします。1からNまでの整数のうち，3の倍数の個数をA，4の倍数の個数をB，\n",
        "\n",
        "3の倍数でも4の倍数でもない数の個数をCとします。\n",
        "\n",
        "(1)　Nが50のとき，A，B，Cをそれぞれ求めなさい\n",
        "\n",
        "(2)　Cが12となるようなNをすべて求めなさい\n",
        "\n",
        "(3)　Nを1から250までの整数とします。NがCの2倍となるようなNは何個ありますか\n",
        "\n",
        "(4)　AとBの差が15となるようなNは何個ありますか。\n",
        "\n",
        "　　 また，これらの数のうち，最も小さい数と最も大きい数をそれぞれ求めなさい。"
      ],
      "metadata": {
        "id": "Q1ZK1btJul39"
      }
    },
    {
      "cell_type": "markdown",
      "source": [
        "ーーーーーーーーーーーーーーーーーーーーーーーーーーーーーーーーーーーーーーーー\n",
        "\n",
        "Answer\n",
        "\n",
        "(1)\n",
        "\n",
        "A = 16, B = 12, C = 26\n",
        "\n",
        "(2)\n",
        "\n",
        "N = 23, 24\n",
        "\n",
        "(3)\n",
        "\n",
        "104 pieces\n",
        "\n",
        "(4)\n",
        "\n",
        "N = 12 pieces\n",
        "\n",
        "Smallest = 171\n",
        "\n",
        "Largest = 188\n",
        "\n",
        "\\\n"
      ],
      "metadata": {
        "id": "_pjWOAq9VJdQ"
      }
    },
    {
      "cell_type": "markdown",
      "source": [
        "ーーーーーーーーーーーーーーーーーーーーーーーーーーーーーーーーーーーーーーーーー\n",
        "\n",
        "(1)\n",
        "\n",
        "＜算数解法＞\n",
        "\n",
        "50÷3＝16あまり2→Aは16個・・・(答)\n",
        "\n",
        "50÷4＝12あまり2→Bは12個・・・(答)\n",
        "\n",
        "50÷12＝4あまり2より12の倍数は4個\n",
        "\n",
        "Cは，50－(16＋12－4)＝26個・・・(答)\n",
        "\n",
        "\\\n",
        "[ Python ]\n",
        "\n",
        "A，B，Cの数をカウントするカウンタA,B,Cをつくり0を入れる\n",
        "\n",
        "1から50までの数を順に変数Nに入れて\n",
        "\n",
        "Nを3で割ったあまりが0の場合は，Aのカウントを増やし\n",
        "\n",
        "Nを4で割ったあまりが0の場合は，Bのカウントを増やし\n",
        "\n",
        "3で割っても4で割ってもあまりが0にならない場合は，Cのカウンタを増やす\n",
        "\n",
        "forループが終わったら結果を最後に出力"
      ],
      "metadata": {
        "id": "q472J33owGfd"
      }
    },
    {
      "cell_type": "code",
      "source": [
        ""
      ],
      "metadata": {
        "id": "GEEXb02q7lsL"
      },
      "execution_count": null,
      "outputs": []
    },
    {
      "cell_type": "code",
      "metadata": {
        "id": "a4sWwX5Prf8b"
      },
      "source": [
        "#(1)sample\n",
        "\n",
        "A = 0\n",
        "B = 0\n",
        "C = 0\n",
        "\n",
        "for N in range (1, 51):\n",
        "  if N % 3 == 0:\n",
        "    A += 1\n",
        "  if N % 4 == 0:\n",
        "    B += 1\n",
        "  if (N % 3 != 0) and (N % 4 != 0):\n",
        "    C += 1\n",
        "\n",
        "print(\"A=\", A, \"B=\", B, \"C=\", C)\n",
        "   "
      ],
      "execution_count": null,
      "outputs": []
    },
    {
      "cell_type": "markdown",
      "source": [
        "ーーーーーーーーーーーーーーーーーーーーーーーーーーーーーーーーーーーーーーーーー\n",
        "\n",
        "(2)\n",
        "\n",
        "＜算数解法＞\n",
        "\n",
        "3と4の最小公倍数12の中にCが何個かを確認\n",
        "\n",
        "1，2，5，7，10，11の6個\n",
        "\n",
        "12÷6＝2より，C＝12になるのは，\n",
        "\n",
        "12個目の11＋12＝23と13個目の12×2＋1＝25の1つ手前まで\n",
        "\n",
        "したがって，23と24・・・(答)\n",
        "\n",
        "\\\n",
        "[ Python ]\n",
        "\n",
        "CをカウントするCを0\n",
        "\n",
        "調べる数を1から1000くらいにして，\n",
        "\n",
        "Cにあてはまるとき，Cのカウントを増やし，Cが12になるときのNを出力\n",
        "\n",
        "Cが13になったらbreakでforループ中断\n",
        "\n"
      ],
      "metadata": {
        "id": "rIUZd2DgxM9p"
      }
    },
    {
      "cell_type": "code",
      "source": [
        ""
      ],
      "metadata": {
        "id": "W0kBBX-e7img"
      },
      "execution_count": null,
      "outputs": []
    },
    {
      "cell_type": "code",
      "metadata": {
        "id": "mpdpDEfsuXD-"
      },
      "source": [
        "#(2)sample\n",
        "\n",
        "C = 0\n",
        "for N in range (1, 1000):\n",
        "  if (N % 3 != 0) and (N % 4 != 0):\n",
        "    C += 1\n",
        "  if C == 12:\n",
        "    print(N)\n",
        "  if C == 13:\n",
        "    break\n"
      ],
      "execution_count": null,
      "outputs": []
    },
    {
      "cell_type": "markdown",
      "source": [
        "ーーーーーーーーーーーーーーーーーーーーーーーーーーーーーーーーーーーーーーーーー\n",
        "\n",
        "(3)\n",
        "\n",
        "＜算数解法＞\n",
        "\n",
        "(2)と同じく12個1周期で調べてみる\n",
        "\n",
        "1周期目で条件にあてはまるCとNの組み合わせは，\n",
        "\n",
        "(C，N）＝(2，4)，(3，6)，(4，8)，(5，10)，(6，12)\n",
        "\n",
        "2周期目は，(C，N）＝(8，16)，(9，18)，(10，20)，(11，22)，(12，24)\n",
        "\n",
        "1周期に5個ずつあるから，250 ÷ 12 ＝ 20あまり10より，\n",
        "\n",
        "最後の10個の中には4個あるので，5 × 20 ＋ 4 ＝ 104個・・・(答)\n",
        "\n",
        "\n",
        "\\\n",
        "[ Python ]\n",
        "\n",
        "Cと条件にあてはまるNを数えるcount変数を0で設定\n",
        "\n",
        "1から250までの数をNに入れて，CにあてはまるNがあればCのカウントを増やし，\n",
        "\n",
        "NがCの2倍であればcountを増やす\n",
        "\n",
        "全部調べ終わったら結果出力\n"
      ],
      "metadata": {
        "id": "BpcXo5EHxWco"
      }
    },
    {
      "cell_type": "code",
      "source": [
        ""
      ],
      "metadata": {
        "id": "70xZaOkT7sB_"
      },
      "execution_count": null,
      "outputs": []
    },
    {
      "cell_type": "code",
      "metadata": {
        "id": "BLcYrOTrvDdm"
      },
      "source": [
        "#(3)sample\n",
        "\n",
        "C = 0\n",
        "count = 0\n",
        "for N in range (1, 251):\n",
        "  if (N % 3 != 0) and (N % 4 != 0):\n",
        "    C += 1\n",
        "  if N == C * 2:\n",
        "    count += 1\n",
        "    #print(C,N)\n",
        "\n",
        "print(count, \"個\")\n"
      ],
      "execution_count": null,
      "outputs": []
    },
    {
      "cell_type": "markdown",
      "source": [
        "ーーーーーーーーーーーーーーーーーーーーーーーーーーーーーーーーーーーーーーーーー\n",
        "\n",
        "(4)\n",
        "\n",
        "＜算数解法＞\n",
        "\n",
        "これも1，2周期を調べると，\n",
        "\n",
        "AとBの差は1周期目は，0か1で，0にあるNが5個，1になるNが7個\n",
        "\n",
        "2周期目は1周期目の0のところが1，1のところが2になる\n",
        "\n",
        "このことから，差が15になるのは15周期目に7個，16周期目に5個で，合計12個・・・(答)\n",
        "\n",
        "最も小さい数は，12 × 14 ＋ 3 ＝ 171・・・(答)\n",
        "\n",
        "最も大きい数は，12 × 15 ＋ 8 ＝ 188・・・(答)\n",
        "\n",
        "\\\n",
        "＜[ Python ]\n",
        "\n",
        "カウンタはA，Bの数を数えるA，Bと，あてはまるNを入れておくリストのnumと，\n",
        "\n",
        "Nの数をカウントするcountで，いずれも0にする\n",
        "\n",
        "1から500くらいまでの数を順番に調べ\n",
        "\n",
        "(1)と同じ要領でA,Bをしらべ，AとB差が15の場合は，Nをnumリストにappend(アペンド＝追加する)\n",
        "\n",
        "    `num.append(N)`  \n",
        "\n",
        "で追加できましたね\n",
        "\n",
        "countも1つふやす\n",
        "\n",
        "AとBの差は，Aが多くなることが分かるので，`A - B == 15`でもよいが，\n",
        "\n",
        "分からないものとして，`abs(A - B) == 15`としておく\n",
        "\n",
        "`abs()`は，もう出てきましたが，中の数値の絶対値を出力する(返す）組み込み関数です\n",
        "\n",
        "1周期の中でAとBの差が15にならなくなったらforループを中断(最後までループさせてもいいが)\n",
        "\n",
        "そのためのコードは\n",
        "\n",
        "    if abs(A - B) == 17:\n",
        "      break\n",
        "\n",
        "となることに注意\n",
        "\n",
        "AとBの差が15になる周期には，差が15と16の場合があるので，`abs(A - B) == 16`とすると\n",
        "\n",
        "差が15の最後の方の数がひろえなくなります\n",
        "\n",
        "最後にcountを出力\n",
        "\n",
        "最も小さい数と最も大きい数は，前に出てきた`min()`と`max()`\n",
        "\n",
        "numリストの中に入っている数を調べ，最も小さい数と最も大きい数を出力します(返す）\n",
        "\n"
      ],
      "metadata": {
        "id": "cC9NcQbWxZ7z"
      }
    },
    {
      "cell_type": "code",
      "source": [
        ""
      ],
      "metadata": {
        "id": "fcBfFDp7VJdT"
      },
      "execution_count": null,
      "outputs": []
    },
    {
      "cell_type": "code",
      "metadata": {
        "id": "Qf5EblPMfUcU"
      },
      "source": [
        "#(4)sample\n",
        "\n",
        "A = 0\n",
        "B = 0\n",
        "num = []\n",
        "count = 0\n",
        "\n",
        "for N in range (1, 500):\n",
        "  if N % 3 == 0:\n",
        "    A += 1\n",
        "  if N % 4 == 0:\n",
        "    B += 1\n",
        "  if abs(A - B) == 15:    #(A - B == 15) or (B - A == 15):でもOK，A - B == 15:だけでもOK\n",
        "    num.append(N)\n",
        "    count += 1\n",
        "  if abs(A - B) == 17:\n",
        "    break\n",
        "\n",
        "print(count, \"個\")\n",
        "print(\"最も小さい数は\", min(num))\n",
        "print(\"最も大きい数は\", max(num))\n"
      ],
      "execution_count": null,
      "outputs": []
    },
    {
      "cell_type": "markdown",
      "metadata": {
        "id": "ept6jL-HJFRE"
      },
      "source": [
        "### 約束記号＋簡単な関数・if for"
      ]
    },
    {
      "cell_type": "markdown",
      "metadata": {
        "id": "X-VSm9a8kNST"
      },
      "source": [
        "---\n",
        "Q?\n",
        "\n",
        "☆の記号 は，２つの数 ＡとＢについて，\n",
        "\n",
        "Ａ☆Ｂ＝Ａ × (Ａ－Ｂ）の計 算 をするものと約 束 します。\n",
        "\n",
        " このとき，（５☆２）☆１２＝ ?  \n"
      ]
    },
    {
      "cell_type": "markdown",
      "metadata": {
        "id": "7PdK26rE1dt7"
      },
      "source": [
        "ーーーーーーーーーーーーーーーーーーーーーーーーーーーーーーーーーーーーーーーー\n",
        "\n",
        "約 束 に従 って正 確 に計 算 する。\n",
        "\n",
        "（５☆２ ）＝５×（５－２ ）＝１５\n",
        "\n",
        "１５☆１２＝１５×（１５－１２ ）＝４５ ・・・・・・・・（答 え） "
      ]
    },
    {
      "cell_type": "markdown",
      "source": [
        "ーーーーーーーーーーーーーーーーーーーーーーーーーーーーーーーーーーーーーーーー\n",
        "\n",
        "この計算をする関数を作ってみます。\n",
        "\n",
        "関数を定義するので，`def`\n",
        "\n",
        "関数名に☆は使えないので，`A_B()`として，引数は2つの数A, B\n",
        "\n",
        "計算は，A × (A - B) なので，`A * ( A - B)`というコードになり，この計算式を`return`します。 \n",
        "\n",
        "非常にシンプルですね。\n",
        "\n",
        "(5 ☆ 2) ☆ 12を計算するには，(5 ☆ 2)の計算結果を変数Cに代入してから，\n",
        "\n",
        "C ☆ 12を計算すればいいですね。"
      ],
      "metadata": {
        "id": "dlUAFgTRktJ5"
      }
    },
    {
      "cell_type": "code",
      "source": [
        ""
      ],
      "metadata": {
        "id": "Kle2_Mc3kenq"
      },
      "execution_count": null,
      "outputs": []
    },
    {
      "cell_type": "code",
      "metadata": {
        "colab": {
          "base_uri": "https://localhost:8080/"
        },
        "outputId": "31036b0b-a660-42d7-d861-1b651ce803c8",
        "id": "JhA2E65qJFRF"
      },
      "source": [
        "#sample\n",
        "\n",
        "def A_B(A,B):\n",
        "  return A * (A - B)\n",
        "\n",
        "C = A_B(5, 2)\n",
        "\n",
        "print(A_B(C, 12))"
      ],
      "execution_count": null,
      "outputs": [
        {
          "output_type": "stream",
          "text": [
            "45\n"
          ],
          "name": "stdout"
        }
      ]
    },
    {
      "cell_type": "markdown",
      "metadata": {
        "id": "hi3oVGji1dt8"
      },
      "source": [
        "---\n",
        "Q?\n",
        "\n",
        "記号 _をＡ_Ｂ＝３×Ａ－Ｂ＋２と約 束 します。\n",
        "\n",
        "(1)この約束記号の仕組みを関数defにする\n",
        "\n",
        "(2) (16_24)_(21_7) = ?\n",
        "\n",
        "\\\n",
        "(2)算数解答\n",
        "\n",
        "（16_24）＝3 × 16 － 24 + 2 ＝ 26\n",
        "\n",
        "（21_7）＝3 × 21 －７ ＋２＝ 58\n",
        "\n",
        "（26_58）＝3 × 26 － 58 ＋２＝ 22 ・・・・・・・・（答 え） "
      ]
    },
    {
      "cell_type": "markdown",
      "source": [
        "ーーーーーーーーーーーーーーーーーーーーーーーーーーーーーーーーーーーーーーーー\n",
        "\n",
        "< Python >\n",
        "\n",
        "(1)\n",
        "\n",
        "上の問題と同じで，約束記号の関数を作ると，`def A_B(A, B):`\n",
        "\n",
        "計算式を返します，`return 3 * A - B + 2`\n",
        "\n",
        "(2)\n",
        "\n",
        "(16_24)の計算結果を変数Cに代入，同じく(21_7)の計算結果を変数Dに代入し，\n",
        "\n",
        "C_Dを計算\n"
      ],
      "metadata": {
        "id": "SLJoTWY6u8d0"
      }
    },
    {
      "cell_type": "code",
      "source": [
        ""
      ],
      "metadata": {
        "id": "hYsSMtYTwAea"
      },
      "execution_count": null,
      "outputs": []
    },
    {
      "cell_type": "code",
      "metadata": {
        "id": "42ihcAZG1dt9"
      },
      "source": [
        "#(1)\n",
        "\n",
        "def A_B(A,B):\n",
        "  return 3 * A - B + 2\n",
        "\n",
        "#(2)\n",
        "\n",
        "C = A_B(16,24)\n",
        "D = A_B(21, 7)\n",
        "print(A_B(C,D))"
      ],
      "execution_count": null,
      "outputs": []
    },
    {
      "cell_type": "markdown",
      "metadata": {
        "id": "_sY4ozQx1dt9"
      },
      "source": [
        "---\n",
        "Q?\n",
        "\n",
        "＜Ａ，Ｂ＞＝ （Ａ＋Ｂ）× Ａ － 2とします。\n",
        "\n",
        "このとき，＜X ，2＞＝ 61です。\n",
        "\n",
        "\\\n",
        "＜A，B＞を関数defで定義して，Xを求める\n",
        "\n",
        "ーーーーーーーーーーーーーーーーーーーーーーーーーーーーーーーーーーーーーーーー\n",
        "\n",
        "算数解答\n",
        "\n",
        "約束に従って式を作ると，\n",
        "\n",
        "(X＋2) × X－2 ＝ 61 で，（X＋2) × X ＝ 63 となるので，これに当てはまる数は，\n",
        "\n",
        "(7 + 2) × 7= 63 より，X ＝ 7 ・・・・・・ ・・（答 え）  "
      ]
    },
    {
      "cell_type": "markdown",
      "source": [
        "ーーーーーーーーーーーーーーーーーーーーーーーーーーーーーーーーーーーーーーーー\n",
        "\n",
        "前の問題と同じで，`def`と`return`を使って関数を定義\n",
        "\n",
        "Xの範囲を1から20くらいに設定し，その範囲であてはまるXがあれば出力し，forループはbreak\n",
        "\n",
        "`if statement`の中で，つくった関数を利用して条件を作成する\n",
        "\n",
        " "
      ],
      "metadata": {
        "id": "x1HKOogVJFRG"
      }
    },
    {
      "cell_type": "code",
      "source": [
        ""
      ],
      "metadata": {
        "id": "vUS-mSAdGsky"
      },
      "execution_count": null,
      "outputs": []
    },
    {
      "cell_type": "code",
      "metadata": {
        "id": "KHRr6RQcJFRG"
      },
      "source": [
        "\n",
        "def A_B(A, B):\n",
        "  return (A + B) * A - 2\n",
        "\n",
        "for X in range(1, 21):\n",
        "  if A_B(X, 2) == 61:\n",
        "    print(X)\n",
        "    break\n"
      ],
      "execution_count": null,
      "outputs": []
    },
    {
      "cell_type": "markdown",
      "source": [
        "###最大公約数"
      ],
      "metadata": {
        "id": "1TUha33hpKSO"
      }
    },
    {
      "cell_type": "markdown",
      "metadata": {
        "id": "dbl8hpGD74yN"
      },
      "source": [
        "---\n",
        "Q?\n",
        "\n",
        "2つの整数をinputし，最大公約数を求めるには？\n"
      ]
    },
    {
      "cell_type": "markdown",
      "source": [
        "ーーーーーーーーーーーーーーーーーーーーーーーーーーーーーーーーーーーーーーーーー\n",
        "\n",
        "input()関数(プログラム)で2つの数a，bを入力\n",
        "\n",
        "aの方が小さければaでbを割り，bの方が小さければbでaを割る\n",
        "\n",
        "    if a < b :\n",
        "      divisor = a\n",
        "    else:\n",
        "      divisor = b\n",
        "\n",
        "`a, b = b, a`など入れかえを利用する方法もありますので，お好みで\n",
        "\n",
        "この問題の場合は，数の範囲が定まらないので`while文`の利用します\n",
        "\n",
        "\\\n",
        "divisorがaとb両方を割り切るならば`break`で反復を終了\n",
        "\n",
        "そうでない場合はdivisorの数を1減らす\n",
        "\n",
        "`break`で反復終了のときは終了時のdivisorが最大公約数になり，出力\n",
        "\n"
      ],
      "metadata": {
        "id": "EYbdZ-Im2dfu"
      }
    },
    {
      "cell_type": "code",
      "source": [
        ""
      ],
      "metadata": {
        "id": "1E9hXaU2cANJ"
      },
      "execution_count": null,
      "outputs": []
    },
    {
      "cell_type": "code",
      "metadata": {
        "id": "KMxR73cU74yN"
      },
      "source": [
        "#sample\n",
        "\n",
        "a = int(input(\"整数aを入力：a = \"))\n",
        "b = int(input(\"整数bを入力：b = \"))\n",
        "\n",
        "if a < b :\n",
        "  divisor = a\n",
        "else:\n",
        "  divisor = b\n",
        "while True :                                               #while divisor > 1:でもOK\n",
        "  if a % divisor == 0 and b % divisor == 0:\n",
        "    break\n",
        "  else :                                                      #else :はつけずにifと同じインデントでdivisor -= 1でもOK\n",
        "    divisor -= 1\n",
        "\n",
        "print(\"最大公約数は\", divisor, \"です。\")\n",
        "\n"
      ],
      "execution_count": null,
      "outputs": []
    },
    {
      "cell_type": "markdown",
      "source": [
        "---\n",
        "最小公倍数については，\n",
        "\n",
        "(最大公約数) × (最小公倍数) ＝ (2つの数の積)\n",
        "\n",
        "なので，最大公約数を求めて\n",
        "\n",
        "\\\n",
        "(最小公倍数)＝$\\dfrac{(2つの数の積)}{(最大公約数)}$\n",
        "\n",
        "で計算できます"
      ],
      "metadata": {
        "id": "38MMapDwEEFH"
      }
    },
    {
      "cell_type": "markdown",
      "source": [
        "---\n",
        "Q?\n",
        "\n",
        "次のように2つの自然数`a`, `b` の最大公約数を求める方法を ユークリッドの互除法といいます\n",
        "\n",
        "➀　`a`を`b`で割り，余り`x`を求める\n",
        "\n",
        "②　`b` を①で求めた余り`x`で割り，その余り`y`を求める\n",
        "\n",
        "③　`x` を②で求めた余り`y`で割り，その余り`z`を求める\n",
        "\n",
        "この操作を繰り返すと最後に割り切れます\n",
        "\n",
        "割り切れたときに割った数が，求める`a`, `b`の最大公約数になります\n",
        "\n",
        "\\\n",
        "例えば，2453と10704の最大公約数をユークリッドの互除法でやると，\n",
        "\n",
        "10704 ÷ 2453 ＝ 4あまり892\n",
        "\n",
        "2453 ÷ 892 ＝ 2あまり669\n",
        "\n",
        "892 ÷ 669 ＝ 1あまり223\n",
        "\n",
        "669 ÷ 223 ＝ 3\n",
        "\n",
        "\\\n",
        "この計算から，2453と10704の最大公約数は223\n",
        "\n",
        "\\\n",
        "このユークリッドの互除法で最大公約数を求めるプログラムは？\n",
        "\n",
        "また2つの数をinputするようにしてください\n"
      ],
      "metadata": {
        "id": "zWBHL6z4F_qA"
      }
    },
    {
      "cell_type": "markdown",
      "source": [
        "ーーーーーーーーーーーーーーーーーーーーーーーーーーーーーーーーーーーーーーーーー\n",
        "\n",
        "a,bのどちらが大きいにかからわず，`a % b`を計算し`r`に余りを代入\n",
        "\n",
        "`r`が0になったところで，`break`で，`b`を最大公約数として出力\n",
        "\n",
        "`r`が0にならない場合は，`a = b`でaにbを代入し，`b = r`で，bにrを代入\n",
        "\n",
        "これにより，a < bだった場合はaとbが入れ替わるようにします\n"
      ],
      "metadata": {
        "id": "GICzPymqRQiq"
      }
    },
    {
      "cell_type": "code",
      "source": [
        ""
      ],
      "metadata": {
        "id": "U6qehjf4cANK"
      },
      "execution_count": null,
      "outputs": []
    },
    {
      "cell_type": "code",
      "metadata": {
        "id": "K3TbwGG4_4bm"
      },
      "source": [
        "#sample\n",
        "\n",
        "a = int(input(\"整数aを入力：a = \"))\n",
        "b = int(input(\"整数bを入力：b = \"))\n",
        "\n",
        "while True:\n",
        "  r = a % b\n",
        "  if r == 0:\n",
        "    break\n",
        "  else:                  #else:入れずにifと同じインデントでa = bとb = rでもOK\n",
        "    a = b\n",
        "    b = r\n",
        "\n",
        "print(\"最大公約数は\", b, \"です。\")\n"
      ],
      "execution_count": null,
      "outputs": []
    },
    {
      "cell_type": "markdown",
      "source": [
        "###素因数分解"
      ],
      "metadata": {
        "id": "M1ohHMVMo-ZG"
      }
    },
    {
      "cell_type": "markdown",
      "metadata": {
        "id": "GOekqDlbkuAG"
      },
      "source": [
        "---\n",
        "Q?\n",
        "\n",
        "自然数(10000くらいまで）を入れると素因数分解するプログラムは？\n"
      ]
    },
    {
      "cell_type": "markdown",
      "source": [
        "ーーーーーーーーーーーーーーーーーーーーーーーーーーーーーーーーーーーーーーーーー\n",
        "\n",
        "自然数(Natural number ナチュラル　ナンバー)は，1以上の整数のことで，\n",
        "\n",
        "自然数は整数(integerインテガー)の一部というイメージ\n",
        "\n",
        "\\\n",
        "➀　素因数分解する数をinput\n",
        "\n",
        "②　最初の割り算をする素数(prime number プライム　ナンバー）を入れる変数を`p`として\n",
        "\n",
        "はじめは2を入れる，\n",
        "\n",
        "また，素因数(prime factorプライムファクタ―）を入れるリストの空箱`factor = []`を用意\n",
        "\n",
        "③　自然数nがpで割り切れる場合，pをfactorにappendし，\n",
        "\n",
        "nをpで割った数を新たなnとし，この処理をnがpで割り切れなくなるまで繰り返す\n",
        "\n",
        "④　nをpで割り切れなくなったら，pに1をたす\n",
        "\n",
        "⑤　n > 1　であれば③に戻り，n＝1の場合は終了する\n",
        "\n",
        "\\\n",
        "while文が2つダブって分かりにくいですが，\n",
        "\n",
        "1番目のwhileは，「nが1より大きい場合にPに1をたして2番目のwhileを繰り返す」というwhileで，\n",
        "\n",
        "2番目のwhileは，「同じ素因数で割れる場合は割り算を繰り返す」というwhile\n",
        "\n"
      ],
      "metadata": {
        "id": "kbD8A0_sT5JN"
      }
    },
    {
      "cell_type": "code",
      "source": [
        ""
      ],
      "metadata": {
        "id": "PaCLFcP5mB66"
      },
      "execution_count": null,
      "outputs": []
    },
    {
      "cell_type": "code",
      "metadata": {
        "id": "g2DmZBmokuAH"
      },
      "source": [
        "#sample\n",
        "\n",
        "n = int(input(\"素因数分解する数を入力：\"))\n",
        "p = 2\n",
        "factor =[]\n",
        "\n",
        "while n > 1:\n",
        "  while n % p == 0:\n",
        "    factor.append(p)\n",
        "    n = n / p\n",
        "  p += 1\n",
        "print('素因数は', factor)\n",
        "#print('最大の素因数は', max(factor))   #1番大きい素因数を出力したいとき\n",
        "\n"
      ],
      "execution_count": null,
      "outputs": []
    },
    {
      "cell_type": "markdown",
      "source": [
        "###素因数分解する関数"
      ],
      "metadata": {
        "id": "NaZMHyVAp3nY"
      }
    },
    {
      "cell_type": "markdown",
      "source": [
        "---\n",
        "Q?\n",
        "\n",
        "素因数分解をする関数は？"
      ],
      "metadata": {
        "id": "r0R9Bx9pmt5t"
      }
    },
    {
      "cell_type": "markdown",
      "source": [
        "ーーーーーーーーーーーーーーーーーーーーーーーーーーーーーーーーーーーーーーーー\n",
        "\n",
        "上で作ったプログラムを関数にするだけです。\n",
        "\n",
        "ここでは，`while文`を1つにして，`for ループ`を加えています。"
      ],
      "metadata": {
        "id": "nm8b62Pkm0hw"
      }
    },
    {
      "cell_type": "code",
      "source": [
        "#sample\n",
        "\n",
        "def p_factorize(x):\n",
        "  factor = []\n",
        "  for i in range(2, x+1):\n",
        "      while x % i==0:\n",
        "        factor.append(i)\n",
        "        x = x / i\n",
        "  return factor\n",
        "\n",
        "p_factorize(300)"
      ],
      "metadata": {
        "id": "jTsejEtYextt"
      },
      "execution_count": null,
      "outputs": []
    },
    {
      "cell_type": "markdown",
      "source": [
        "###素数"
      ],
      "metadata": {
        "id": "TWk2t6Q57C-q"
      }
    },
    {
      "cell_type": "markdown",
      "metadata": {
        "id": "3gcI66O-7C-s"
      },
      "source": [
        "---\n",
        "Q?\n",
        "\n",
        "1から100までの中にある素数を書き出すプログラムは？"
      ]
    },
    {
      "cell_type": "markdown",
      "source": [
        "ーーーーーーーーーーーーーーーーーーーーーーーーーーーーーーーーーーーーーーーーー\n",
        "\n",
        "素数(prime numberプライムナンバー）は，\n",
        "\n",
        "約数(divisorディバイザ)が1とその数自身の2個だけの数のこと\n",
        "\n",
        "\\\n",
        "ちなみに，１と素数以外の数を合成数(composit numberコンポジットナンバー)というそうです\n",
        "\n",
        "約数の数が3個以上の数のことです\n",
        "\n",
        "ーーーーーーーーーーーーーーーーーーーーーーーーーーーーーーーーーーーーーーーーー\n",
        "\n",
        "2から100までの数(1は素数ではないので２から)をforループで変数aに入れて，\n",
        "\n",
        "約数の候補である数を，2から(取り出した数)－1までの数を順に取り出して変数bに入れる\n",
        "\n",
        "\\\n",
        "aがbで割れたらaは素数ではないので`break`でforループを中断し，次の数にうつる\n",
        "\n",
        "そうでない場合(`else`)，つまり，aがどのbでも割れなかったらaは素数なので，`print`で出力\n"
      ],
      "metadata": {
        "id": "A_WPDaHFbBge"
      }
    },
    {
      "cell_type": "code",
      "source": [
        ""
      ],
      "metadata": {
        "id": "eoOp8YQD7C-u"
      },
      "execution_count": null,
      "outputs": []
    },
    {
      "cell_type": "code",
      "source": [
        "#sample\n",
        "\n",
        "for a in range(2, 101):\n",
        "    for b in range(2, a):\n",
        "        if a % b == 0:\n",
        "            break\n",
        "    else:\n",
        "        print(a, end=', ')    #別にカンマ(，)commaで区切る必要はありませんが\n"
      ],
      "metadata": {
        "id": "hFw8GSBXWkue"
      },
      "execution_count": null,
      "outputs": []
    },
    {
      "cell_type": "markdown",
      "metadata": {
        "id": "j0Q-MPeJ7C-w"
      },
      "source": [
        "---\n",
        "Q?\n",
        "\n",
        "入力された自然数が素数であるかの判定するプログラムは？"
      ]
    },
    {
      "cell_type": "markdown",
      "source": [
        "ーーーーーーーーーーーーーーーーーーーーーーーーーーーーーーーーーーーーーーーーー\n",
        "\n",
        "input関数で自然数を入力し，それをint()関数で整数に直して変数`a`に代入\n",
        "\n",
        "aが1だったら「1(a)は素数ではありません」と出力\n",
        "\n",
        "\n",
        "\n",
        "aが2以上の場合は，合成数か素数なので，その計算は上と同じで，\n",
        "\n",
        "合成数の場合は，「＜入力数＞(a)は素数ではありません」と出力\n",
        "\n",
        "それ以外(`else`)は素数なので「＜入力数＞(a)は素数です」と出力\n"
      ],
      "metadata": {
        "id": "SdboZ7x-7y9U"
      }
    },
    {
      "cell_type": "code",
      "source": [
        ""
      ],
      "metadata": {
        "id": "4hFY6V0J7C-y"
      },
      "execution_count": null,
      "outputs": []
    },
    {
      "cell_type": "code",
      "metadata": {
        "id": "VEIP0d-jtApr"
      },
      "source": [
        "#sample\n",
        "\n",
        "a = int(input(\"自然数を入力：\"))\n",
        "\n",
        "if a == 1:\n",
        "   print(a, \"は素数ではありません\")\n",
        "\n",
        "elif a >= 2 :\n",
        "  for b in range(2, a):\n",
        "    if a % b == 0:\n",
        "      print(a, \"は素数ではありません\")\n",
        "      break\n",
        "\n",
        "  else:\n",
        "    print(a, \"は素数です\")\n"
      ],
      "execution_count": null,
      "outputs": []
    },
    {
      "cell_type": "markdown",
      "source": [
        "###場合の数"
      ],
      "metadata": {
        "id": "g53WvUwhUFhG"
      }
    },
    {
      "cell_type": "markdown",
      "source": [
        "###選ぶ"
      ],
      "metadata": {
        "id": "fno8ERT_-ymK"
      }
    },
    {
      "cell_type": "markdown",
      "metadata": {
        "id": "PNEszgcidK5a"
      },
      "source": [
        "---\n",
        "Q?\n",
        "\n",
        "5人の生徒の中から2人のそうじ当番を選ぶ選び方は何通り？"
      ]
    },
    {
      "cell_type": "markdown",
      "source": [
        "ーーーーーーーーーーーーーーーーーーーーーーーーーーーーーーーーーーーーーーーーー\n",
        "\n",
        "＜算数解法＞\n",
        "\n",
        "5人から2人を選ぶ選び方は，$\\dfrac{5×4}{2×1}＝10通り$・・・(答)\n",
        "\n",
        "\\\n",
        "[ Python ]\n",
        "\n",
        "選び方を数えるcount変数を0に設定\n",
        "\n",
        "a，b，c，d，eの5人で，掃除当番の場合は1，当番でない場合は0とすると，\n",
        "\n",
        "5人とも1か0のどちらかだから，すべての場合をforループでつくると，\n",
        "\n",
        "    for a in range(2):\n",
        "      for b in range(2):\n",
        "        for c in range(2):\n",
        "          for d in range(2):\n",
        "            for e in range(2):\n",
        "\n",
        "当番は2人だから，和が2の場合にカウントし，すべて調べ終わったところでcount出力\n",
        "\n",
        "               if a + b + c + d + e == 2:\n",
        "                  count += 1\n",
        "\n",
        "    print(count, '通り')\n",
        "\n"
      ],
      "metadata": {
        "id": "mbUhSyoFUm33"
      }
    },
    {
      "cell_type": "code",
      "source": [
        ""
      ],
      "metadata": {
        "id": "wLc28BpXTGyJ"
      },
      "execution_count": null,
      "outputs": []
    },
    {
      "cell_type": "code",
      "metadata": {
        "id": "2EjhRL3jdZw8"
      },
      "source": [
        "#sample\n",
        "\n",
        "count = 0\n",
        "\n",
        "for a in range(2):\n",
        "  for b in range(2):\n",
        "    for c in range(2):\n",
        "      for d in range(2):\n",
        "        for e in range(2):\n",
        "          if a + b + c + d + e == 2:\n",
        "            print(a,b,c,d,e)\n",
        "            count += 1\n",
        "\n",
        "print(count, '通り')"
      ],
      "execution_count": null,
      "outputs": []
    },
    {
      "cell_type": "markdown",
      "metadata": {
        "id": "Ie3k7nrakIDm"
      },
      "source": [
        "---\n",
        "Q?\n",
        "\n",
        "5人の生徒の中からそうじ当番を選ぶ選び方は何通り？人数は1人～5人のいずれか"
      ]
    },
    {
      "cell_type": "markdown",
      "source": [
        "ーーーーーーーーーーーーーーーーーーーーーーーーーーーーーーーーーーーーーーーーー\n",
        "\n",
        "＜算数解法＞\n",
        "\n",
        "5人それぞれに掃除当番医なるかならないかで2通りだから，全部で\n",
        "\n",
        "2 × 2 × 2 × 2 × 2 ＝ 32通り\n",
        "\n",
        "この中には全員当番にならない場合が1つ含まれるので，それをのぞいて，\n",
        "\n",
        "32 － 1 ＝ 31通り・・・(答)\n",
        "\n",
        "\\\n",
        "[ Python ]\n",
        "\n",
        "前の問題と考え方は全く同じで，カウントする場合は，和が0以外の場合で，\n",
        "\n",
        "               if a + b + c + d + e != 0:\n",
        "   \n"
      ],
      "metadata": {
        "id": "P_E8iNQtcJQM"
      }
    },
    {
      "cell_type": "code",
      "source": [
        ""
      ],
      "metadata": {
        "id": "LKWcWkQjTGyK"
      },
      "execution_count": null,
      "outputs": []
    },
    {
      "cell_type": "code",
      "metadata": {
        "id": "8l44mmGIa_Zl"
      },
      "source": [
        "#各人はそうじ当番になるかならないかで，なる＝1，ならない＝0として\n",
        "#全部の場合の数を調べる\n",
        "#ただし全員0をのぞく\n",
        "\n",
        "count = 0\n",
        "for a in range(2):\n",
        "  for b in range(2):\n",
        "    for c in range(2):\n",
        "      for d in range(2):\n",
        "        for e in range(2):\n",
        "          if a + b + c + d + e != 0:\n",
        "            count += 1               \n",
        "print(count,\"通り\")"
      ],
      "execution_count": null,
      "outputs": []
    },
    {
      "cell_type": "markdown",
      "source": [
        "###並べる"
      ],
      "metadata": {
        "id": "cC95GuHJ-2CV"
      }
    },
    {
      "cell_type": "markdown",
      "metadata": {
        "id": "dfdIaIs3o7at"
      },
      "source": [
        "---\n",
        "Q?\n",
        "\n",
        "白いボール3個と，黒いボール6個の9個のボールを一列に並べるときの並べ方は何通り？"
      ]
    },
    {
      "cell_type": "markdown",
      "source": [
        "ーーーーーーーーーーーーーーーーーーーーーーーーーーーーーーーーーーーーーーーーー\n",
        "\n",
        "＜算数解法＞\n",
        "\n",
        "「一列に並べた9個の箱に3個の白いボールを入れる入れ方は何通りか」と読みかえることができます\n",
        "\n",
        "白を入れたら黒を入れる箱は自動的に決まる\n",
        "\n",
        "そうすると，9個から3個選ぶ選び方の場合の数で，$\\dfrac{9×8×7}{3×2×1}＝84通り$・・・(答)\n",
        "\n",
        "\\\n",
        "[ Python ]\n",
        "\n",
        "場合の数に関しては，Pythonでもいくつかのプログラム(関数)があり，\n",
        "\n",
        "将来はそれを使って場合の数を求めることになるでしょうが，\n",
        "\n",
        "ここではfor文，if文など，基本的な考え方を利用してコードを考えます。\n",
        "\n",
        "\\\n",
        "選び方を数えるcount変数を0に設定\n",
        "\n",
        "白ボール＝1，黒ボール＝0としてa~iの箱に白か黒を入れる入れ方を考える\n",
        "\n",
        "a，b，c，d，e，f，g，h，iの9箱で，それぞれ白か黒が入るから，すべての場合をforループでつくると，\n",
        "\n",
        "    for a in range(2):\n",
        "      for b in range(2):\n",
        "        for c in range(2):\n",
        "          for d in range(2):\n",
        "            for e in range(2):\n",
        "              for f in range(2):\n",
        "                for g in range(2):\n",
        "                  for h in range(2):\n",
        "                    for i in range(2):\n",
        "\n",
        "白は3個，和が3の場合にカウントし，すべて調べ終わったところでcount出力\n",
        "\n",
        "               if a + b + c + d + e + f + g + h + i == 3:\n",
        "                  count += 1\n",
        "\n",
        "    print(count, '通り')\n"
      ],
      "metadata": {
        "id": "mRn1FlDmyDiy"
      }
    },
    {
      "cell_type": "code",
      "source": [
        ""
      ],
      "metadata": {
        "id": "Jf6XVwFF-IOY"
      },
      "execution_count": null,
      "outputs": []
    },
    {
      "cell_type": "code",
      "metadata": {
        "id": "g-gt-ZpypZXd"
      },
      "source": [
        "#sample\n",
        "\n",
        "count=0\n",
        "for a in range(2):\n",
        "  for b in range(2):\n",
        "    for c in range(2):\n",
        "      for d in range(2):\n",
        "        for e in range(2):\n",
        "          for f in range(2):\n",
        "            for g in range(2):\n",
        "              for h in range(2):\n",
        "                for i in range(2):\n",
        "                  #print(a,b,c,d,e,f,g,h,i)\n",
        "                  if a + b + c + d + e + f + g + h + i == 3:\n",
        "                    count+=1\n",
        "print(count,\"通り\")"
      ],
      "execution_count": null,
      "outputs": []
    },
    {
      "cell_type": "markdown",
      "source": [
        "forループの部分を，こののノートの後半で出てくる(おそらく)「リストの内包表記」を利用した方法で書くと"
      ],
      "metadata": {
        "id": "Pedl-_8bhkD0"
      }
    },
    {
      "cell_type": "code",
      "source": [
        "#リスト内包表記\n",
        "\n",
        "list1 = [0,1]\n",
        "list2 = [[a,b,c,d,e,f,g,h,i] for a in list1 for b in list1 for c in list1 for d in list1 for e in list1 for f in list1 for g in list1 for h in list1 for i in list1]\n",
        "\n",
        "for a,b,c,d,e,f,g,h,i in list2:\n",
        "  print(a,b,c,d,e,f,g,h,i)\n",
        "\n"
      ],
      "metadata": {
        "id": "lK6wm0W-faz0"
      },
      "execution_count": null,
      "outputs": []
    },
    {
      "cell_type": "markdown",
      "source": [
        "###itertools"
      ],
      "metadata": {
        "id": "pOKcu_6WrsaK"
      }
    },
    {
      "cell_type": "markdown",
      "source": [
        "さらに，前にも少し説明しましたitertoolsというプログラム(モジュール）\n",
        "\n",
        "を利用する方法もありますが，考え方はsampleと全く同じです"
      ],
      "metadata": {
        "id": "8U4J5uqSiEUc"
      }
    },
    {
      "cell_type": "code",
      "metadata": {
        "id": "iywwVxhGnwHn"
      },
      "source": [
        "#itertoolsを利用\n",
        "\n",
        "import itertools\n",
        "\n",
        "list1 = itertools.product(range(2),repeat=9)\n",
        "\n",
        "count=0\n",
        "for a,b,c,d,e,f,g,h,i in list1:\n",
        "  if a + b + c + d + e + f + g + h + i ==3:\n",
        "    count+=1\n",
        "\n",
        "print(count, '通り')\n"
      ],
      "execution_count": null,
      "outputs": []
    },
    {
      "cell_type": "markdown",
      "source": [
        "###scipy"
      ],
      "metadata": {
        "id": "ckSlTOyg_vuo"
      }
    },
    {
      "cell_type": "markdown",
      "source": [
        "さらにちなみにscipyというプログラム(モジュール)には組み合わせを計算する\n",
        "\n",
        "special.com()というプログラムがあり，それを使うと＜算数解法＞をそのまま計算します"
      ],
      "metadata": {
        "id": "0a2wJkQ3qHqr"
      }
    },
    {
      "cell_type": "code",
      "source": [
        "# scipylモジュールからspecialプログラムをインポート\n",
        "from scipy import special\n",
        "\n",
        "# 9個から3個をとって並べる組合わせの数\n",
        "x = special.comb(9, 3)\n",
        "\n",
        "print(int(x), \"通り\")\n"
      ],
      "metadata": {
        "id": "ILK_ITaMnF2t"
      },
      "execution_count": null,
      "outputs": []
    },
    {
      "cell_type": "markdown",
      "source": [
        "---\n",
        "＜Check it Out　その2＞\n",
        "\n",
        "算数の問題は，問題文を正確に読み，問題文に書かれている条件を自分が理解しやすいように\n",
        "\n",
        "整理できればほとんど解けますよね\n",
        "\n",
        "\\\n",
        "問題を正確に解釈して条件整理をすることが大切なわけです\n",
        "\n",
        "\\\n",
        "Pythonでも同じで，数や文字などのデータ(情報とも言うようです）\n",
        "\n",
        "を整理できればプログラムが作れますので\n",
        "\n",
        "どのようにデータを整理するかを考えることが大切です\n",
        "\n",
        "\\\n",
        "コード作成のテクニックは基本が身についていればすぐに覚えられます\n",
        "\n",
        "\\\n",
        "今のうちに`考える力(基本力）`を養いましょう\n"
      ],
      "metadata": {
        "id": "KEUsgyE-01gl"
      }
    },
    {
      "cell_type": "markdown",
      "metadata": {
        "id": "CXq-ABpy0j21"
      },
      "source": [
        "---\n",
        "Q?\n",
        "\n",
        "7個の数字1, 1, 1, 2, 2, 3, 3を同じ数字が隣り合わないように一列に並べる並べ方は何通り？"
      ]
    },
    {
      "cell_type": "markdown",
      "source": [
        "ーーーーーーーーーーーーーーーーーーーーーーーーーーーーーーーーーーーーーーーーー\n",
        "\n",
        "＜算数解法＞\n",
        "\n",
        "1番目が1，2，3になる場合で，それぞれ樹系図で調べる\n",
        "\n",
        "ただし，ここでは2と3の数が同じなので，3の場合は2の場合と同じになる\n",
        "\n",
        "このテキストで樹系図がかけなかったのでちょっと見にくい表になってしまいました\n",
        "\n",
        "\\\n",
        "➀　1番目が1で，2番目が2の場合を調べると，下の表のように10通り\n",
        "\n",
        "②　1番目が1で，2番目が3の場合も同じ条件なので10通り\n",
        "\n",
        "\\\n",
        "\n",
        "| 1番 | 2番 | 3番 | 4番  | 5番  | 6番  | 7番  |\n",
        "|:------:|:------:|:------:|:------:|:------:|:------:|:------:|\n",
        "|  |  |  |  | 1 | 3 | NG |\n",
        "|  |  |  | 2 |  |  |  |\n",
        "|  |  |  |  | 3 | 1 | 3 |\n",
        "|  |  | 1 |  |  |  |  |\n",
        "|  |  |  |  |  | 2 | 3 |\n",
        "|  |  |  |  | 1 |  |  |\n",
        "|  |  |  |  |  | 3 | 2 |\n",
        "|  |  |  | 3 |  |  |  |\n",
        "|  |  |  |  |  | 1 | 3 |\n",
        "|  |  |  |  | 2 |  |  |\n",
        "|  |  |  |  |  | 3 | 1 |\n",
        "| 1 | 2 |  |  |  |  |  |\n",
        "|  |  |  |  |  |  |  |\n",
        "|  |  |  |  |  | 1 | 3 |\n",
        "|  |  |  |  | 2 |  |  |\n",
        "|  |  |  | 1 |  | 3 | 1 |\n",
        "|  |  |  |  |  |  |  |\n",
        "|  |  |  |  |  | 1 | 2 |\n",
        "|  |  |  |  | 3 |  |  |\n",
        "|  |  | 3 |  |  | 2 | 1 |\n",
        "|  |  |  |  |  |  |  |\n",
        "|  |  |  |  | 1 | 3 | 1 |\n",
        "|  |  |  | 2 |  |  |  |\n",
        "|  |  |  |  | 3 | 1 | NG |\n",
        "\n",
        "\\\n",
        "③　1番目が2で，2番目が1と3の場合を調べると，下の表のように9通り\n",
        "\n",
        "\\\n",
        "④　1番目が3で，2番目が1と2の場合も9通り\n",
        "\n",
        "\\\n",
        "\n",
        "| 1番 | 2番 | 3番 | 4番  | 5番  | 6番  | 7番  |\n",
        "|:------:|:------:|:------:|:------:|:------:|:------:|:------:|\n",
        "|  |  |  | 1 | 3 | 1 | 3 |\n",
        "|  |  | 2 |  |  |  |  |\n",
        "|  |  |  | 3 | 1 | 3 | 1 |\n",
        "|  | 1 |  |  |  |  |  |\n",
        "|  |  |  |  |  | 1 | 3 |\n",
        "|  |  |  |  | 2 |  | |\n",
        "|  |  |  | 1 |  | 3 | 1 |\n",
        "|  |  |  |  |  |  |  |\n",
        "|  |  |  |  |  | 1 | 2 |\n",
        "|  |  |  |  | 3 |  |  |\n",
        "|  |  | 3 |  |  | 2 | 1 |\n",
        "|  |  |  |  |  |  |  |\n",
        "| 1 |  |  |  |  |  |  |\n",
        "|  |  |  |  |  |  |  |\n",
        "|  |  |  |  | 1 | 3 | 1 |\n",
        "|  |  |  | 2 |  |  |  |\n",
        "|  |  |  |  | 3 | 1 | NG |\n",
        "|  |  |  |  |  |  |  |\n",
        "|  |  |  |  | 1 | 3 | 1 |\n",
        "|  |  |  | 2 |  |  |  |\n",
        "|  |  | 1 |  | 3 | 1 | NG |\n",
        "|  |  |  |  |  |  |  |\n",
        "|  |  |  |  | 1 | 2 | 1 |\n",
        "|  |  |  | 3 |  |  |  |\n",
        "|  |  |  |  | 2 | 1 | NG |\n",
        "|  | 3 |  |  |  |  |  |\n",
        "|  |  |  |  |  |  |  |\n",
        "|  |  |  | 1 | 3 | 1 | NG |\n",
        "|  |  | 2 |  |  |  |  |\n",
        "|  |  |  | 3 | 1 | NG |  |\n",
        "\n",
        "\\\n",
        "以上➀～④の合計で，10＋10＋9×2＝38通り・・・(答)\n",
        "\n",
        "\n",
        "\\\n",
        "＜Python＞\n",
        "\n",
        "7個の変数のすべてのとり得る場合をの中から，1 + 1 + 1 + 2 + 2 + 3 + 3 = 13\n",
        "\n",
        "となる場合を計算しようとすると，1 + 1 + 1 + 1 + 3 + 3 + 3 = 13など，\n",
        "\n",
        "合計が13になるほかの組み合わせもカウントしてしまう。\n",
        "\n",
        "\\\n",
        "そこで，1, 1, 1, 2, 2, 3, 3を1, 1, 1, 20, 20, 300, 300としてプログラムを作り，\n",
        "\n",
        "合計が1＋1＋2＋20＋20＋300＋300＝643となる場合を考える\n",
        "\n",
        "\\\n",
        "そうすると，1が3個，2が2個，3が2個の場合だけをカウントできる\n",
        "\n",
        "\\\n",
        "カウンタを0に設定し，\n",
        "\n",
        "    count = 0\n",
        "\n",
        "a～gが1，20，300のいずれかになるすべての場合をつくり，\n",
        "\n",
        "    for a in [1,20,300]:\n",
        "      for b in [1,20,300]:\n",
        "        for c in [1,20,300]:\n",
        "          for d in [1,20,300]:\n",
        "            for e in [1,20,300]:\n",
        "              for f in [1,20,300]:\n",
        "                for g in [1,20,300]:\n",
        "\n",
        "合計が643になり，となり合う数が異なる場合をif文でつくり，\n",
        "\n",
        "                  if a + b + c + d + e + f + g == 643 and \\\n",
        "                  a != b and b != c and c != d and d != e and e != f and f != g :\n",
        "\n",
        "条件にあう場合をカウントし，すべてのループが終了したら，最後にカウントを出力\n",
        "\n",
        "                    count+=1\n",
        "\n",
        "    print(count, '通り')\n",
        "\n",
        "\n"
      ],
      "metadata": {
        "id": "5VGHLuEusf1S"
      }
    },
    {
      "cell_type": "code",
      "source": [
        ""
      ],
      "metadata": {
        "id": "oBjrau9E_vuq"
      },
      "execution_count": null,
      "outputs": []
    },
    {
      "cell_type": "code",
      "metadata": {
        "id": "qWID78L-0wpv"
      },
      "source": [
        "#sample\n",
        "\n",
        "count = 0\n",
        "\n",
        "for a in [1, 20, 300] :\n",
        "  for b in [1, 20, 300] :\n",
        "    for c in [1, 20, 300] :\n",
        "      for d in [1, 20, 300] :\n",
        "        for e in [1, 20, 300] :\n",
        "          for f in [1, 20, 300] :\n",
        "            for g in [1, 20, 300] :\n",
        "              if a + b + c + d + e + f + g == 643 and \\\n",
        "              a != b and b != c and c != d and d != e and e != f and f != g:\n",
        "                #print(a,b,c,d,e,f,g)\n",
        "                count += 1\n",
        "\n",
        "print(count, '通り')\n",
        "\n"
      ],
      "execution_count": null,
      "outputs": []
    },
    {
      "cell_type": "markdown",
      "source": [
        "###プレゼント交換"
      ],
      "metadata": {
        "id": "dDVUKWuS-n2L"
      }
    },
    {
      "cell_type": "markdown",
      "metadata": {
        "id": "KHKY6ghMucb_"
      },
      "source": [
        "---\n",
        "Q?\n",
        "\n",
        "何人かの子供がプレゼントを持ち寄って交換します。\n",
        "\n",
        "必ず，自分が持ってきたプレゼントとは異なるプレゼントを持ち帰ることにします。\n",
        "\n",
        "次の場合，プレゼントの交換の仕方は何通りありますか。\n",
        "\n",
        "(1)3人で交換する場合\n",
        "\n",
        "(2)4人で交換する場合\n",
        "\n",
        "(3)5人で交換する場合\n",
        "\n"
      ]
    },
    {
      "cell_type": "markdown",
      "metadata": {
        "id": "3zXGb9NS2FUM"
      },
      "source": [
        "ーーーーーーーーーーーーーーーーーーーーーーーーーーーーーーーーーーーーーーーー\n",
        "\n",
        "＜算数解法＞\n",
        " \n",
        "(1)\n",
        "\n",
        "a, b, cの3人がもらうプレゼントの組み合わせは\n",
        "\n",
        "(a, b, c) = (b, c, a), (c, a, b) の2通り・・・(答)\n",
        "\n",
        "(2)\n",
        "\n",
        "a, b, c, dの4人の場合，aのプレゼントをbがもらう場合，\n",
        "\n",
        "(a, b, c, d) = (b, a, d, c), (b, c, d, a), (b, d, a, c)の3通りで，\n",
        "\n",
        "aのプレゼントをc,dがもらう場合もそれぞれ3通りなので，3 × 3 ＝ 9通り・・・(答)\n",
        "\n",
        "(3)\n",
        "\n",
        "a, b, c, d, eの5人の場合，aがbのプレゼントをもらう場合を考える\n",
        "\n",
        "\\\n",
        "bがaのプレゼントをもらう場合は，残りc, d, eの3人が交換することになるので(1)より2通り，\n",
        "\n",
        "bがcのプレゼントをもらう場合は，b, c, d, eの4人が交換する場合と同じなので(2)より3通り，\n",
        "\n",
        "bがdのプレゼントをもらう場合も，b, c, d, eの4人が交換する場合と同じなので(2)より3通り，\n",
        "\n",
        "bがeのプレゼントをもらう場合も，b, c, d, eの4人が交換する場合と同じなので(2)より3通り，\n",
        "\n",
        "\\\n",
        "以上からaがbのプレゼントをもらう場合は全部で11通り\n",
        "\n",
        "\\\n",
        "aがc, d, eのプレゼントをもらう場合も上と同じようにそれぞれ11通りあるから\n",
        "\n",
        "全部で11 × 4 ＝ 44通り・・・(答)\n"
      ]
    },
    {
      "cell_type": "markdown",
      "source": [
        "＜Python＞\n",
        "\n",
        "\n",
        "(1),(2)の場合は同様なので(3)だけのプログラム\n",
        "\n",
        "a,b,c,d,eの持ってきたプレゼントをそれぞれ1, 10, 100, 1000, 10000とする\n",
        "\n",
        "a,b,c,d,eがもらう可能性のあるプレゼントをリストにする(自分のプレゼントはもらわない)\n",
        "\n",
        "組み合わせがOKであればcountで数える\n",
        "\n",
        "条件は，1, 10, 100, 1000, 10000は一人一つなので，合計が11111であればOK\n",
        "\n",
        "    count = 0\n",
        "\n",
        "    for a in [10, 100, 1000, 10000] :\n",
        "      for b in [1, 100, 1000, 10000] :\n",
        "        for c in [1, 10, 1000, 10000] :\n",
        "          for d in [1, 10, 100, 10000] :\n",
        "            for e in [1, 10, 100, 1000] :\n",
        "              if a + b + c + d + e == 11111 :\n",
        "                count += 1\n",
        " \n",
        "    print(count, '通り')\n",
        "\n",
        "\n"
      ],
      "metadata": {
        "id": "mrHAWnSC2wCz"
      }
    },
    {
      "cell_type": "code",
      "source": [
        ""
      ],
      "metadata": {
        "id": "Ns1MWbM7_vur"
      },
      "execution_count": null,
      "outputs": []
    },
    {
      "cell_type": "code",
      "metadata": {
        "id": "AgW-NEO53QWf"
      },
      "source": [
        "#sample (3)だけ\n",
        "\n",
        "count = 0\n",
        "\n",
        "for a in [10, 100, 1000, 10000] :\n",
        "  for b in [1, 100, 1000, 10000] :\n",
        "    for c in [1, 10, 1000, 10000] :\n",
        "      for d in [1, 10, 100, 10000] :\n",
        "        for e in [1, 10, 100, 1000] :\n",
        "          if a + b + c + d + e == 11111 :\n",
        "            count += 1\n",
        "            #print([a, b, c, d, e])        #確認用\n",
        "\n",
        "print(count, '通り')\n"
      ],
      "execution_count": null,
      "outputs": []
    },
    {
      "cell_type": "markdown",
      "source": [
        "###オオカミとヒツジ　　len()"
      ],
      "metadata": {
        "id": "SaMMXHu0uBQU"
      }
    },
    {
      "cell_type": "markdown",
      "metadata": {
        "id": "t724M0zYMDTJ"
      },
      "source": [
        "---\n",
        "Q?\n",
        "\n",
        "別々のオリに入っているオオカミ3匹とヒツジ4匹を1つのオリに入れたいのですが，\n",
        "\n",
        "オオカミの数がヒツジの数より多くなると（同じときは大丈夫）ヒツジはオオカミに食べられてしまいます。\n",
        "\n",
        "ヒツジがオオカミに食べられないような入れ方は何通り？\n",
        "\n"
      ]
    },
    {
      "cell_type": "markdown",
      "source": [
        "ーーーーーーーーーーーーーーーーーーーーーーーーーーーーーーーーーーーーーーーーー\n",
        "\n",
        "＜算数解法＞\n",
        "\n",
        "下のような道順の場合の数を数える表で求めることができ，全部で19通り・・・(答)\n",
        "\n"
      ],
      "metadata": {
        "id": "1obX9QXrUcsq"
      }
    },
    {
      "cell_type": "markdown",
      "source": [
        "\n",
        "\n",
        "\n",
        "|  |  |  |   |   |   |   |  | |  |  |\n",
        "|:----:|:----:|:----:|:----:|:----:|:----:|:----:|:----:|:----:|:----:|:----:|\n",
        "| オ | 1 | NG | ー | NG |ー  | NG | ー | 7 | ー | 19 |\n",
        "| オ |  | ｜ |  | ｜ |  | ｜ | |｜ |   | ｜  |\n",
        "|カ | 1 | NG | ー | NG | ー | 3 | ー  |  7 | ー  | 12  |\n",
        "| ミ |  | ｜ |  | ｜ |  | ｜ |   | ｜  |   | ｜  |\n",
        "| の | 1 | 1 | ー | 2 | ー | 3 | ー  |  4 | ー  | 5  |\n",
        "| 数 |  | ｜ |  | ｜ |  | ｜ |   | ｜  |   | ｜  |\n",
        "|  | 0 | 0 | ー | 1 | ー | 1 | ー  |  1 | ー  |  1 |\n",
        "|  |  | ひ |つ  |じ  | の | 数 |   |\n",
        "\n",
        "\n",
        "\n"
      ],
      "metadata": {
        "id": "GJsL_k3ZQJ9G"
      }
    },
    {
      "cell_type": "markdown",
      "source": [
        "＜Python＞\n",
        "\n",
        "オリに入れる1番目から7番目の順番をa～gとして，オオカミ(wolf)を1，ヒツジ(sheep)を10とし，\n",
        "\n",
        "どちらかをいれるすべての場合をforループでつくり，\n",
        "\n",
        "合計が1＋1＋1＋10＋10＋10＋10＝43となる場合の順番のリストlist1をつくる\n",
        "\n",
        "    list1 = []\n",
        "\n",
        "    for a in [1 ,10] :\n",
        "      for b in [1 ,10] :\n",
        "       for c in [1 ,10] :\n",
        "          for d in [1 ,10] :\n",
        "            for e in [1 ,10] :\n",
        "              for f in [1 ,10] :\n",
        "                for g in [1 ,10] :\n",
        "                  if a + b + c + d + e + f + g == 43 :\n",
        "                    list1.append([a, b, c, d, e, f, g])\n",
        "\n",
        "    print(list1)           #リスト確認用         \n",
        "    print(len(list1))     #リスト数確認用\n",
        "\n",
        "ーーーーーーーーーーーーーーーーーーーーーーーーーーーーーーーーーーーーーーーーー\n",
        "\n",
        "`len()`は，`(  )`の中の個数を表示する組み込み関数です\n",
        "\n",
        "上の`len(list1)`ではリストの中の要素の数を表示します(「返す」という)\n",
        "\n",
        "list1の要素は1と10を並べたリストになっているので，リストの個数を表示します\n",
        "\n",
        "文字にも使えます\n",
        "\n",
        "`len(\"alphabet\")`とすると，alphabetをつくる英文字の数＝8となります\n",
        "\n",
        "`len([\"dog犬\", \"catネコ\", \"horse馬\", \"giraffeキリン\", \"bear熊\", \"elephant象\", `\n",
        "\n",
        "`\"tiger虎\", \"monkeyサル\", \"gorillaゴリラ\", \"rabbitうさぎ\", \"snakeヘビ\", \"lionライオン\"])`\n",
        "\n",
        "だとリストの中の動物の名前の要素の数＝12を返します\n",
        "\n",
        "ーーーーーーーーーーーーーーーーーーーーーーーーーーーーーーーーーーーーーーーーー\n",
        "\n",
        "コードのつづきですが，\n",
        "\n",
        "条件にあてはまる順番を数える`count`を0\n",
        "\n",
        "list1の中の順番リストを1つずつ取り出して別のリスト`list_n`に入れます\n",
        "\n",
        "\\\n",
        "`list_n`の中の7つの要素を順番に取り出し，その合計を変数`total`で数えていきます\n",
        "\n",
        "新しいループが始まるときは`total`は0に設定\n",
        "\n",
        "\\\n",
        "オオカミの数の合計は一の位で，ヒツジの数の合計は十の位になるので，\n",
        "\n",
        "はじめにオオカミが1匹入るのはＯＫなので，\n",
        "\n",
        "1以外で，一の位が十の位より大きくなった場合はＮＧとなり，\n",
        "\n",
        "`break`でループを止めて，次の順番リストに移る\n",
        "\n",
        "\\\n",
        "`total % 10`で一の位を，`total // 10`で十の位を表せます（下で「算術演算子」確認）\n",
        "\n",
        "中断せずにリストの最後の要素まで進み，`total`が43になったらＯＫなのでカウント\n",
        "\n",
        "\\\n",
        "全部調べ終わったら最後に`count`をprintで出力\n",
        "\n",
        "\\\n",
        "`range()`では，例えば０~4の場合は，`range(0,5)`でもOKですが，\n",
        "\n",
        "普通0は省略して`range(5)`と書きます\n",
        "\n",
        "`range(len(list1))`も`range(0, len(list1))`のことです\n",
        "\n",
        "`(  )`の中の引数(ひきすう）は数字だけでなく，変数や組み込み関数も使えます\n",
        "\n",
        "\n",
        "    count = 0\n",
        "\n",
        "    for a in range(len(list1)):\n",
        "      listn = list1[a]\n",
        "      #print(listn)\n",
        "      total = 0\n",
        "      for b in range(7):\n",
        "        total += listn[b]\n",
        "        #print(total)\n",
        "        if total != 1 and total % 10 > total // 10:\n",
        "          break\n",
        "        elif total == 43:\n",
        "          count += 1\n",
        "          #print(total)\n",
        "\n",
        "    print(count, '通り')\n",
        "\n",
        "ちょっとめんどくさいコードになりましたが，もっと工夫ができそうです\n",
        "\n"
      ],
      "metadata": {
        "id": "qMnqQLA_lDCi"
      }
    },
    {
      "cell_type": "code",
      "source": [
        ""
      ],
      "metadata": {
        "id": "Nm9z2sf7PJx5"
      },
      "execution_count": null,
      "outputs": []
    },
    {
      "cell_type": "code",
      "source": [
        "#sample\n",
        "\n",
        "list1 = []\n",
        "\n",
        "for a in [1 ,10] :\n",
        "  for b in [1 ,10] :\n",
        "   for c in [1 ,10] :\n",
        "      for d in [1 ,10] :\n",
        "        for e in [1 ,10] :\n",
        "          for f in [1 ,10] :\n",
        "            for g in [1 ,10] :\n",
        "              if a + b + c + d + e + f + g == 43 :\n",
        "                list1.append([a, b, c, d, e, f, g])\n",
        "\n",
        "print(list1)           #リスト確認用         \n",
        "print(len(list1))     #リスト数確認用\n",
        "\n",
        "count = 0\n",
        "\n",
        "for a in range(len(list1)):\n",
        "  list_n = list1[a]\n",
        "  #print(listn)\n",
        "  total = 0\n",
        "  for b in range(7):\n",
        "    total += list_n[b]\n",
        "    #print(total)\n",
        "    if total != 1 and total % 10 > total // 10:\n",
        "      break\n",
        "    elif total == 43:\n",
        "      count += 1\n",
        "      #print(total)\n",
        "\n",
        "print(count, '通り')"
      ],
      "metadata": {
        "id": "Vmf5hti7s3jk"
      },
      "execution_count": null,
      "outputs": []
    },
    {
      "cell_type": "markdown",
      "metadata": {
        "id": "Z6bf9aho2Mbw"
      },
      "source": [
        "★算術演算子(さんじゅつえんざんし）まとめ\n",
        "\n",
        "| 演算 | 記号 |\n",
        "|------|------|\n",
        "| 足し算 | `+` |\n",
        "| 引き算 | `-` |\n",
        "| かけ算 | `*` |\n",
        "| 割り算 | `/` |\n",
        "| べき乗 | `**` |  \n",
        "| 割り算(商だけ） | `//` |\n",
        "| 割り算(余りだけ） | `%` |\n"
      ]
    },
    {
      "cell_type": "markdown",
      "source": [
        "###len, set"
      ],
      "metadata": {
        "id": "3BZVtlp2X0HY"
      }
    },
    {
      "cell_type": "markdown",
      "source": [
        "---\n",
        "Q?\n",
        "\n",
        "いくつを返すでしょうか？\n",
        "\n",
        "    len([0, 1, 2, 3, 4, 5, 6, 7, 8, 9, 3, 6, 2, 4, 8])\n",
        "\n",
        "    len({0, 1, 2, 3, 4, 5, 6, 7, 8, 9, 3, 6, 2, 4, 8})"
      ],
      "metadata": {
        "id": "N8qR9X9qPSF_"
      }
    },
    {
      "cell_type": "code",
      "source": [
        ""
      ],
      "metadata": {
        "id": "R7RtXYzLX0HZ"
      },
      "execution_count": null,
      "outputs": []
    },
    {
      "cell_type": "markdown",
      "source": [
        "`{ }`（波カッコ）は`集合 = set`を表します\n",
        "\n",
        "\\\n",
        "(`set`の説明→[▲セット](https://colab.research.google.com/github/utokyo-ipp/utokyo-ipp.github.io/blob/master/colab/appendix/2-set.ipynb#scrollTo=fzbK-1ZQVLYk) )\n",
        "\n",
        "\\\n",
        "集合に`len()`すると，ダブっている数字は数えません"
      ],
      "metadata": {
        "id": "DiX9FdVrUYfW"
      }
    },
    {
      "cell_type": "markdown",
      "source": [
        "###お菓子の詰め合わせ"
      ],
      "metadata": {
        "id": "Z4HWVOFJszHu"
      }
    },
    {
      "cell_type": "markdown",
      "source": [
        "---\n",
        "Q?\n",
        "\n",
        "お菓子Aが1個，お菓子Bが2個，お菓子Cが3個あります。\n",
        "\n",
        "この中からいくつかを袋に詰めプレゼントをつくるとき，プレゼントの作り方は何通り？\n",
        "\n"
      ],
      "metadata": {
        "id": "ms1Wab6LCihF"
      }
    },
    {
      "cell_type": "markdown",
      "source": [
        "ーーーーーーーーーーーーーーーーーーーーーーーーーーーーーーーーーーーーーーーーー\n",
        "\n",
        "＜算数解法＞\n",
        "\n",
        "Aは0個か1個の2通り，Bは0～2個の3通り，Cは0~3個の4通りだから，\n",
        "\n",
        "組み合わせは全部で，2×3×4＝24通りだが，これにはどれも0個の場合が含まれているので\n",
        "\n",
        "24－1＝23通り・・・(答)\n",
        "\n",
        "(別解)\n",
        "\n",
        "数え上げていく練習もしておきましょう\n",
        "\n",
        "1個~6個の場合があるので，数え上げていく\n",
        "\n",
        "➀　1個の場合：A,B,Cの3通り\n",
        "\n",
        "②　2個の場合：AB,AC,BB,BC,CCの5通り\n",
        "\n",
        "③　3個の場合：ABB,ACC,ABC,BBC,BCC,CCCの6通り\n",
        "\n",
        "④　4個の場合：ABBC,ABCC,ACCC,BBCC,BCCCの5通り\n",
        "\n",
        "⑤　5個の場合：ABCCC,ABBCC,BBCCCの3通り\n",
        "\n",
        "⑥　6個の場合：ABBCCCの1通り\n",
        "\n",
        "全部で，3＋5＋6＋5＋3＋1＝23通り・・・(答)\n",
        "\n",
        "\\\n",
        "＜Python＞\n",
        "\n",
        "Aは0個か1個，Bは0～2個，Cは0~3個ですべての場合をつくり，\n",
        "\n",
        "どれも0個の場合を除いてカウント\n"
      ],
      "metadata": {
        "id": "vq52VWE6CwES"
      }
    },
    {
      "cell_type": "code",
      "source": [
        ""
      ],
      "metadata": {
        "id": "JngRuu-7_qhy"
      },
      "execution_count": null,
      "outputs": []
    },
    {
      "cell_type": "code",
      "metadata": {
        "id": "p_ciinVtVK-K"
      },
      "source": [
        "#sample\n",
        "\n",
        "count=0\n",
        "for A in [0, 1] :\n",
        "  for B in [0, 1, 2] :\n",
        "    for C in [0, 1, 2, 3] :\n",
        "      if A + B + C != 0 :\n",
        "        count += 1\n",
        "        #print(A,B,C)\n",
        "print(count, \"通り\")\n",
        "\n"
      ],
      "execution_count": null,
      "outputs": []
    },
    {
      "cell_type": "markdown",
      "source": [
        "###8枚から3枚取り出しならべる"
      ],
      "metadata": {
        "id": "u2EKaPv9RBvj"
      }
    },
    {
      "cell_type": "markdown",
      "metadata": {
        "id": "aQhypU7nbAV6"
      },
      "source": [
        "---\n",
        "Q?\n",
        "\n",
        "\n",
        "\n",
        "1から8までの8枚のカードから3枚を取り出し，小さいほうからならべるとき，\n",
        "\n",
        "(1) 3枚のカードの数字が連続した3つの数になるのは何通り？\n",
        "\n",
        "(2) 3枚のカードの数字が等間隔に並ぶのは何通り？\n",
        "\n",
        "(3) 3枚のカードの数字のうち2つだけが連続した数になるのは何通り？\n",
        "\n"
      ]
    },
    {
      "cell_type": "markdown",
      "source": [
        "ーーーーーーーーーーーーーーーーーーーーーーーーーーーーーーーーーーーーーーーーー\n",
        "\n",
        "＜算数解法＞\n",
        "\n",
        "(1)\n",
        "\n",
        "123, 234, 345, 456, 567, 678 の6通り・・・(答)\n",
        "\n",
        "(2)\n",
        "\n",
        "(1)も等間隔になっているので含まれます\n",
        "\n",
        "他に，135, 246, 357, 468, 147, 258の6通りで，全部で6＋6＝12通り・・・(答)\n",
        "\n",
        "(3)\n",
        "\n",
        "調べ上げていきましょう\n",
        "\n",
        "1,2,□：　5通り\\\n",
        "2,3,□：　4通り\\\n",
        "3,4,□：　4通り\\\n",
        "4,5,□：　4通り\\\n",
        "5,6,□：　4通り\\\n",
        "6,7,□：　4通り\\\n",
        "7,8,□：　5通り\n",
        "\n",
        "以上全部で30通り・・・(答)\n",
        "\n",
        "\\\n",
        "＜Python＞\n",
        "\n",
        "(1)\n",
        "\n",
        "カウント設定\n",
        "\n",
        "a < b < c とすると，aは3つの数の先頭なので1～6まで，\n",
        "\n",
        "bはaより1以上大きい数なので，ｂの範囲をa+1～7までという設定ができます\n",
        "\n",
        "cはbより1以上大きい数なので，cの範囲はb+1～8までとできます\n",
        "\n",
        "それぞれの数の範囲の中ですべての数を数え上げて，\n",
        "\n",
        "b＝a＋1，c＝b＋１となる場合はカウント\n"
      ],
      "metadata": {
        "id": "VGtK0weoRMje"
      }
    },
    {
      "cell_type": "code",
      "source": [
        ""
      ],
      "metadata": {
        "id": "Wk-y2S-UnpKT"
      },
      "execution_count": null,
      "outputs": []
    },
    {
      "cell_type": "code",
      "metadata": {
        "id": "pFm_2JQ8Xkg9"
      },
      "source": [
        "#sample\n",
        "\n",
        "count1 = 0\n",
        "\n",
        "for a in range(1, 7) :\n",
        "  for b in range(a+1, 8) :\n",
        "    for c in range(b+1, 9) :\n",
        "      if b == a + 1 and c == b + 1:\n",
        "        count1 += 1\n",
        "        #print(a,b,c)\n",
        "\n",
        "print(\"(1) \", count1, \"通り\")\n"
      ],
      "execution_count": null,
      "outputs": []
    },
    {
      "cell_type": "markdown",
      "source": [
        "＜Python＞\n",
        "\n",
        "(2)\n",
        "\n",
        "カウント設定\n",
        "\n",
        "数の範囲は(1)と同じ\n",
        "\n",
        "(1)の場合，または(or)，差が2，または(or)，3，または(or)，4の場合をカウント"
      ],
      "metadata": {
        "id": "e8LOA4CCrvz6"
      }
    },
    {
      "cell_type": "code",
      "source": [
        ""
      ],
      "metadata": {
        "id": "H6Qdsrv2npKU"
      },
      "execution_count": null,
      "outputs": []
    },
    {
      "cell_type": "code",
      "metadata": {
        "id": "3epfFUCmXnqq"
      },
      "source": [
        "#sample\n",
        "\n",
        "count2 = 0\n",
        "\n",
        "for a in range(1, 7) :\n",
        "  for b in range(a+1, 8) :\n",
        "    for c in range(b+1, 9) :\n",
        "      if (b == a + 1 and c == b + 1) or \\\n",
        "      (b == a + 2 and c == b + 2) or (b == a + 3 and c == b + 3) \\\n",
        "        or (b == a + 4 and c == b + 4):\n",
        "        count2 += 1\n",
        "        print(a,b,c)\n",
        " \n",
        "print(\"(2) \", count2, \"通り\")\n"
      ],
      "execution_count": null,
      "outputs": []
    },
    {
      "cell_type": "markdown",
      "source": [
        "＜Python＞\n",
        "\n",
        "(3)\n",
        "\n",
        "カウント設定\n",
        "\n",
        "数の範囲は(1)と同じ\n",
        "\n",
        "aとbの差が1で，cはbより大きい場合と，または(or)，\n",
        "\n",
        "bとcの差が1で，aはbより小さい場合をカウント"
      ],
      "metadata": {
        "id": "WmP7ay6LsXxa"
      }
    },
    {
      "cell_type": "code",
      "source": [
        ""
      ],
      "metadata": {
        "id": "yzacSHuVnpKU"
      },
      "execution_count": null,
      "outputs": []
    },
    {
      "cell_type": "code",
      "metadata": {
        "id": "Irzj4EPCXpzS"
      },
      "source": [
        "#sample\n",
        "\n",
        "count3 = 0\n",
        "\n",
        "for a in range(1, 7) :\n",
        "  for b in range(a+1, 8) :\n",
        "    for c in range(b+1, 9) :\n",
        "      if (b == a + 1 and c > b + 1) or (b > a + 1 and c == b + 1):\n",
        "        count3 += 1\n",
        "        print(a,b,c)\n",
        "\n",
        "print(\"(3) \", count3, \"通り\")\n"
      ],
      "execution_count": null,
      "outputs": []
    },
    {
      "cell_type": "markdown",
      "source": [
        "(1)～(3)をまとめて書いたコード"
      ],
      "metadata": {
        "id": "cjBRIbXdZOS0"
      }
    },
    {
      "cell_type": "code",
      "source": [
        ""
      ],
      "metadata": {
        "id": "7UPzNX--njtE"
      },
      "execution_count": null,
      "outputs": []
    },
    {
      "cell_type": "code",
      "metadata": {
        "id": "TeJ1fEFHWj7P"
      },
      "source": [
        "#sample\n",
        "\n",
        "count1 = 0\n",
        "count2 = 0\n",
        "count3 = 0\n",
        "\n",
        "for a in range(1, 7) :\n",
        "  for b in range(a+1, 8) :\n",
        "    for c in range(b+1, 9) :\n",
        "      if b == a + 1 and c == b + 1:\n",
        "        count1 += 1\n",
        "        print(a,b,c)\n",
        "      if (b == a + 2 and c == b + 2) or (b == a + 3 and c == b + 3) \\\n",
        "        or (b == a + 4 and c == b + 4):\n",
        "        count2 += 1\n",
        "        print(a,b,c)\n",
        "      if (b == a + 1 and c > b + 1) or (b > a + 1 and c == b + 1):\n",
        "        count3 += 1\n",
        "        print(a,b,c)\n",
        "\n",
        "print(\"(1) \", count1, \"通り\")\n",
        "print(\"(2) \", count1 + count2, \"通り\")\n",
        "print(\"(3) \", count3, \"通り\")\n"
      ],
      "execution_count": null,
      "outputs": []
    },
    {
      "cell_type": "markdown",
      "source": [
        "###ツルカメ和と差"
      ],
      "metadata": {
        "id": "IhMixubOoRh0"
      }
    },
    {
      "cell_type": "markdown",
      "metadata": {
        "id": "FfDSf9ZcEKme"
      },
      "source": [
        "---\n",
        "Q?\n",
        "\n",
        "つる[crane](https://translate.google.co.jp/?hl=ja&sl=auto&tl=ja&text=crane&op=translate)(クレイン)とカメ[turtle](https://translate.google.co.jp/?hl=ja&sl=auto&tl=ja&text=turtle&op=translate)(タートル）が合わせて42います。\n",
        "\n",
        "その足の数を合わせると124本です。\n",
        "\n",
        "つるは何羽いますか。\n",
        "\n",
        "\\\n",
        "There are 42 carnes and tutles in total.\n",
        "\n",
        "Sum of legs is 124.\n",
        "\n",
        "Find the number of cranes.\n",
        "\n"
      ]
    },
    {
      "cell_type": "markdown",
      "metadata": {
        "id": "HO1zGLk4AzUm"
      },
      "source": [
        "ーーーーーーーーーーーーーーーーーーーーーーーーーーーーーーーーーーーーーーーーー\n",
        "\n",
        "＜算数解法＞\n",
        "\n",
        "足の数は，つるは2本，カメは4本\n",
        "\n",
        "全部カメだとすると，足の数の合計は4×42＝168本\n",
        "\n",
        "この数は実際より168－124＝44本多い\n",
        "\n",
        "これは全部カメとしたからで，カメ1匹とつる1羽を入れかえると\n",
        "\n",
        "いれかえるごとに4－2＝2本づつ足の数がへるから\n",
        "\n",
        "124本にするために44本へらすには44÷2＝22回入れかえればよい。\n",
        "\n",
        "22回入れかえるから入れかえたつるの数は22羽・・・(答え）\n",
        "\n",
        "\\\n",
        "＜Python＞\n",
        "\n",
        "つるの数をcrane(クレイン＝つる)羽として，つるの数の最大は42で，カメの数は42－crane\n",
        "\n",
        "つるが1羽から42羽までの数を変数craneに入れて調べていく\n",
        "\n",
        "足の数を式で表し，それが124になる場合，その時のcraneを出力\n",
        "\n",
        "文字列の書式を整える書式化文字列`f`を使って書いてます\n",
        "\n",
        "        print(f'鶴は{crane}羽・・・(答)　亀は{42 - crane}匹')\n",
        "\n",
        "答えが見つかったら`break`で，ループ終了"
      ]
    },
    {
      "cell_type": "code",
      "source": [
        ""
      ],
      "metadata": {
        "id": "EEU23zoCmOAo"
      },
      "execution_count": null,
      "outputs": []
    },
    {
      "cell_type": "code",
      "metadata": {
        "id": "4delteyMmOAp"
      },
      "source": [
        "#sample\n",
        "\n",
        "for crane in range(1, 43):\n",
        "  if 2 * crane + 4 * (42 - crane) == 124 :\n",
        "    print(f'鶴は{crane}羽・・・(答)　亀は{42 - crane}匹')\n",
        "    break\n"
      ],
      "execution_count": null,
      "outputs": []
    },
    {
      "cell_type": "markdown",
      "source": [
        "---\n",
        "###書式化文字列 f-strings (Formatted String Literals)"
      ],
      "metadata": {
        "id": "hWRdUe24-Pl1"
      }
    },
    {
      "cell_type": "markdown",
      "source": [
        "この構文を使用すると，{変数}と書くと，変数の値(中身)に置き換わった文字列になります。\n",
        "\n",
        "下のセルがサンプルです。\n",
        "\n",
        "このノートでも時々出てくると思いますので，使い方に慣れていってください。"
      ],
      "metadata": {
        "id": "LTE3iUOtACD8"
      }
    },
    {
      "cell_type": "code",
      "source": [
        ""
      ],
      "metadata": {
        "id": "76UmJHAL-g0W"
      },
      "execution_count": null,
      "outputs": []
    },
    {
      "cell_type": "code",
      "source": [
        "name = '久美子'\n",
        "score = 95\n",
        "animal = 'いのしし'\n",
        "\n",
        "print(f\"私の名前は{name}です。算数の点数は{score}でした。好きな動物は{animal}です。\")\n"
      ],
      "metadata": {
        "id": "Yn22rbNGGjgC"
      },
      "execution_count": null,
      "outputs": []
    },
    {
      "cell_type": "markdown",
      "source": [
        "###比と割合"
      ],
      "metadata": {
        "id": "E41-gflnicIs"
      }
    },
    {
      "cell_type": "markdown",
      "metadata": {
        "id": "lfRZUIriRxfr"
      },
      "source": [
        "---\n",
        "Q?\n",
        "\n",
        "普通の生木は72％の水分を含む。\n",
        "\n",
        "乾かしてもはじめの半分の水分は残るとすると，乾かした木には何％の水分が含まれますか。"
      ]
    },
    {
      "cell_type": "markdown",
      "source": [
        "ーーーーーーーーーーーーーーーーーーーーーーーーーーーーーーーーーーーーーーーーー\n",
        "\n",
        "＜算数解法＞\n",
        "\n",
        "乾かす前の生木の重さを100gとすると，水分は72gで，木の部分は28g\n",
        "\n",
        "乾かしたあとの水分は，$72×\\dfrac{1}{2}＝36g$で木の重さはそのまま28g\n",
        "\n",
        "水分の割合は，$\\dfrac{36}{36 + 28}＝0.5625$＝56.25%・・・(答)\n",
        "\n",
        "\\\n",
        "＜Python＞\n",
        "\n",
        "for文などで総当たりする問題ではなく，算数の解法をそのままコードにするだけ\n",
        "\n",
        "変数名の英語で，\n",
        "\n",
        "raw_wood＝生木の重さ　(raw生，wood木)\n",
        "\n",
        "water＝乾燥前の水分　(water水）\n",
        "\n",
        "after_dry＝乾燥後の水分　(after：「～の後に」という意味の前置詞，dry乾燥）\n",
        "\n"
      ],
      "metadata": {
        "id": "WScERYX4ieKM"
      }
    },
    {
      "cell_type": "code",
      "metadata": {
        "id": "-Ss4AcgPleE2"
      },
      "source": [
        "#sample\n",
        "\n",
        "raw_wood = 100\n",
        "water = raw_wood * 0.72\n",
        "wood = 100 - water\n",
        "after_dry = water * 0.5\n",
        "answer = after_dry / (after_dry + wood) * 100\n",
        "print(answer, \"%\")\n",
        "\n"
      ],
      "execution_count": null,
      "outputs": []
    },
    {
      "cell_type": "markdown",
      "metadata": {
        "id": "CxeZ6CIQR2Vj"
      },
      "source": [
        "---\n",
        "Q?\n",
        "\n",
        "ある選挙区で投票率が61％，投票者が48800人でした。\n",
        "\n",
        "この選挙区の女子有権者数は32000人，女子の投票率が70％とすると，男子の投票率は何％？\n"
      ]
    },
    {
      "cell_type": "markdown",
      "source": [
        "ーーーーーーーーーーーーーーーーーーーーーーーーーーーーーーーーーーーーーーーーー\n",
        "\n",
        "＜算数解法＞\n",
        "\n",
        "投票率＝投票者÷有権者数×100\n",
        "\n",
        "この選挙区の有権者数＝48800÷0.61＝80000人\n",
        "\n",
        "女子の投票者数＝32000×0.7＝22400人\n",
        "\n",
        "男子の有権者数＝80000－32000＝48000人\n",
        "\n",
        "男子の投票者数＝48800－22400＝26400人\n",
        "\n",
        "男子の投票率＝26400÷48000×100＝55%・・・(答)\n",
        "\n",
        "\\\n",
        "＜Python＞\n",
        "\n",
        "上の問題と同じく総当たりで解く問題ではない\n",
        "\n",
        "英語では，投票者も有権者も，voter(ヴォ―ター）を使うみたい　　\n",
        "\n",
        "ちなみに投票/投票するはvote，選挙はelection(イレクション）\n",
        "\n",
        "女子＝female, 男子＝male  (フィメイルとメイル）\n",
        "\n",
        "sampleの変数は，この選挙区の有権者数はtotal，女子の投票者数はfv，男子の投票率はxとしました\n"
      ],
      "metadata": {
        "id": "f4j8Gr36nwGv"
      }
    },
    {
      "cell_type": "code",
      "metadata": {
        "id": "pA3mhpqTleE3"
      },
      "source": [
        "#sample\n",
        "\n",
        "total = 48800 / 0.61\n",
        "fv = 32000 * 0.7\n",
        "x = (48800 -  fv) / (total - 32000) * 100\n",
        "print(x, \"％\")\n"
      ],
      "execution_count": null,
      "outputs": []
    },
    {
      "cell_type": "markdown",
      "metadata": {
        "id": "I3useXP3HDoJ"
      },
      "source": [
        "---\n",
        "Q?\n",
        "\n",
        "Aの持っているシールの枚数の$\\dfrac{2}{5}$とBの持っているシールの枚数の$\\dfrac{3}{4}$が等しく，\n",
        "\n",
        "AはBより21枚多く持っているとき，Bは何枚持っていますか。"
      ]
    },
    {
      "cell_type": "markdown",
      "source": [
        "ーーーーーーーーーーーーーーーーーーーーーーーーーーーーーーーーーーーーーーーーー\n",
        "\n",
        "＜算数解法＞\n",
        "\n",
        "$(Aの枚数)×\\dfrac{2}{5}＝(Bの枚数)×\\dfrac{3}{4}$だから，\n",
        "\n",
        "(Aの枚数)：(Bの枚数)＝$\\dfrac{5}{2}：\\dfrac{4}{3}＝15:8$\n",
        "\n",
        "15－8＝7が21枚に相当するから，(Bの枚数)＝21枚 × $\\dfrac{8}{7}$＝24枚・・・(答)\n",
        "\n",
        "\n",
        "\\\n",
        "＜Python＞\n",
        "\n",
        "AとBの枚数をそれぞれ99枚までと決めてその範囲であてはまる数を探す\n",
        "\n",
        "if文は，問題の2つの条件を式で表す\n",
        "\n",
        "見つかったら，Bの枚数を出力\n"
      ],
      "metadata": {
        "id": "Uk-wxqh0v5Ia"
      }
    },
    {
      "cell_type": "code",
      "metadata": {
        "id": "d_NuhbHWHJsT"
      },
      "source": [
        "#sample\n",
        "\n",
        "for A in range(100) :\n",
        "  for B in range(100) :\n",
        "    if A * 2/5 == B * 3/4 and A - B == 21 :\n",
        "      print(B, \"枚\")\n",
        " "
      ],
      "execution_count": null,
      "outputs": []
    },
    {
      "cell_type": "markdown",
      "metadata": {
        "id": "KZNu4T7PLfQy"
      },
      "source": [
        "###濃度 食塩水"
      ]
    },
    {
      "cell_type": "markdown",
      "metadata": {
        "id": "LKdw4TAnLjTy"
      },
      "source": [
        "---\n",
        "Q?\n",
        "\n",
        "容器Aには濃度20%の食塩水が入っています。\n",
        "\n",
        "容器Bには容器Aとは異なる濃度の食塩水が240g入っています。\n",
        "\n",
        "容器Aと容器Bに含まれる食塩の重さは等しく，\n",
        "\n",
        "容器Aと容器Bの食塩水を全部混ぜると10%の食塩水ができます。\n",
        "\n",
        "容器Aに入っていた食塩水の重さは何g？\n"
      ]
    },
    {
      "cell_type": "markdown",
      "metadata": {
        "id": "TdzY13bz0Ymp"
      },
      "source": [
        "ーーーーーーーーーーーーーーーーーーーーーーーーーーーーーーーーーーーーーーーーー\n",
        "\n",
        "＜算数解法＞\n",
        "\n",
        "容器Aに入っていた食塩水の重さをaグラムとすると，\n",
        "\n",
        "容器A，Bに入っている食塩の重さは同じだから，それぞれ a×0.2\n",
        "\n",
        "両方全部まぜると10%の食塩水になるから，(a × 0.2 × 2) ÷ (a ＋ 240) ＝ 0.1\n",
        "\n",
        "a × 0.4 ＝ (a ∔ 240) × 0.1\n",
        "\n",
        "分配法則で計算して\n",
        "\n",
        "a × 0.4 ＝ a × 0.1 ＋ 24\n",
        "\n",
        "この式から\n",
        "\n",
        "a × 0.3 ＝ 24とわかるから，\n",
        "\n",
        "a ＝ 80g・・・(答)\n",
        "\n",
        "\\\n",
        "＜Python＞\n",
        "\n",
        "aが整数の場合を想定して，for文を使って考える\n",
        "\n",
        "ほかの解法はの後ほど(sympyモジュールの利用）\n",
        "\n",
        "aを500gまでの範囲で，if文の条件式は上と同じ\n",
        "\n",
        "aがみつかったら出力して`break`\n",
        "\n",
        "\n"
      ]
    },
    {
      "cell_type": "code",
      "source": [
        ""
      ],
      "metadata": {
        "id": "P9Y3YNWR57Ej"
      },
      "execution_count": null,
      "outputs": []
    },
    {
      "cell_type": "code",
      "metadata": {
        "id": "7YePZPTcNEmM"
      },
      "source": [
        "#sample\n",
        "\n",
        "for a in range(1,500):\n",
        "  if a * 0.2 * 2 / (a + 240) == 0.1 :\n",
        "    print(a,'g')\n",
        "    break\n"
      ],
      "execution_count": null,
      "outputs": []
    },
    {
      "cell_type": "markdown",
      "source": [
        "###数の操作"
      ],
      "metadata": {
        "id": "8roPGeCkxE3j"
      }
    },
    {
      "cell_type": "markdown",
      "metadata": {
        "id": "2sRzYs5Pwsyh"
      },
      "source": [
        "---\n",
        "Q?\n",
        "\n",
        "ある整 数 について，次 のような操 作 をします\n",
        "\n",
        "＜操 作 ＞\n",
        "① その数 が３の倍 数 ならば３でわります\n",
        "\n",
        "② その数 が３の倍 数 でなければ３でわったときのあまりをその数 からひきます\n",
        "\n",
        "③ ①または②の操 作 をくり返 し，０になったときに，その操 作 を終 わりにします\n",
        "\n",
        "例 えば，はじめの整 数 が３６のときは\n",
        "\n",
        "３６ →１２ → ４ → ３ →１→ ０\n",
        "\n",
        "のように，５回 の操 作 で０となります\n",
        "\n",
        "このとき，次 の問 いに答 えなさい\n",
        "\n",
        "（１） ７８は何 回 の操 作 で０になりますか\n",
        "\n",
        "（２） ５回 の操 作 で０になる数 は何 個 ありますか\n",
        "\n"
      ]
    },
    {
      "cell_type": "markdown",
      "metadata": {
        "id": "Q0qoF0FKZ8N3"
      },
      "source": [
        "ーーーーーーーーーーーーーーーーーーーーーーーーーーーーーーーーーーーーーーーーー\n",
        "\n",
        "＜算数解法＞\n",
        "\n",
        "（１ ） 正 確 に操 作 を実 行 する\n",
        "\n",
        "１回 目 ： ７８÷３＝２６\n",
        "\n",
        "２回 目 ： ２６÷３＝８ ・・・２ となるから，２６－２＝２４\n",
        "\n",
        "３回 目 ： ２４÷３＝８\n",
        "\n",
        "４回 目 ： ８÷３＝２ ・・・２ となるから，８－２＝６\n",
        "\n",
        "５回 目 ： ６÷３＝２\n",
        "\n",
        "６回 目 ： ２÷３＝０ ・・・２ となるから，２－２＝０\n",
        "\n",
        "したがって，６回 ・・・・・ ・・・（答 え）\n",
        "\n",
        "（２ ） ５回 の操 作 で０になるためには，４回 目 の操 作 で１か２になっていなければならない\n",
        "\n",
        " 下のように樹 形 図 を使 ってさかのぼっていく\n",
        "\n",
        "樹 形 図 を作 るにあたっては，一 定 の規則 があることに気 がつく\n",
        "\n",
        " 操 作 の結 果 が３の倍 数 であれば，その前 の数 は，その数 の３倍 の数 ，２を加 えた数 ，\n",
        "\n",
        " １を加 えた数 の３通 り\n",
        "\n",
        "操 作 の結 果 が３の倍 数 でなければ，その前 の数 は，その数 の３倍 の数となる\n",
        "\n",
        "\n",
        "\\\n",
        "\n",
        "|4回目| 3回目|2回目|1回目|はじめの数|\n",
        "|:---:|:---:|:---:|:---:|:---:|\n",
        "||||27|28, 29, 81|\n",
        "|||9|11|33|\n",
        "||||10|30|\n",
        "||||||\n",
        "|1|3||||\n",
        "|||5|15|16, 17, 45|\n",
        "|||4|12|13, 14, 36|\n",
        "\n",
        "\\\n",
        "\n",
        "\n",
        "|4回目| 3回目|2回目|1回目|はじめの数|\n",
        "|:---:|:---:|:---:|:---:|:---:|\n",
        "||||54|55, 56, 162|\n",
        "|||18|20|60|\n",
        "||||19|57|\n",
        "||||||\n",
        "|2|6||||\n",
        "|||8|24|25, 26, 72|\n",
        "|||7|21|22, 23, 63|\n",
        "\n",
        "\\\n",
        "\n",
        "上 の樹 形 図 から，５回 の操 作 で０になる数 の個 数 は，２２個 ・・・(答) \n"
      ]
    },
    {
      "cell_type": "markdown",
      "source": [
        "＜Python＞\n",
        "\n",
        "(1)\n",
        "\n",
        "この問題のように反復回数が決まっていない場合は`while文`が利用できる\n",
        "\n",
        "操作回数のカウントを設定\n",
        "\n",
        "78を変数xに入れ，\n",
        "\n",
        "xが0より大きい場合に操作を反復させ，0になったら終了\n",
        "\n",
        "条件は問題文通りに式で表す\n",
        "\n",
        "3で割り切れるかどうかの2択なので，`if`と`else`で\n",
        "\n",
        "どちらの条件でもカウント\n",
        "\n",
        "最後にcountを出力"
      ],
      "metadata": {
        "id": "WeOTumnERv9F"
      }
    },
    {
      "cell_type": "code",
      "source": [
        ""
      ],
      "metadata": {
        "id": "LELXWKQCEFFl"
      },
      "execution_count": null,
      "outputs": []
    },
    {
      "cell_type": "code",
      "metadata": {
        "id": "Enr5Yli37uOH"
      },
      "source": [
        "#(1) sample\n",
        "\n",
        "count = 0\n",
        "x = 78\n",
        "\n",
        "while x > 0 :\n",
        "  if x % 3 == 0 :\n",
        "    x = x / 3\n",
        "    count += 1\n",
        "  else :\n",
        "    x = x - (x % 3)\n",
        "    count += 1\n",
        "\n",
        "print(count, '回')\n"
      ],
      "execution_count": null,
      "outputs": []
    },
    {
      "cell_type": "markdown",
      "source": [
        "＜Python＞\n",
        "\n",
        "(2)\n",
        "\n",
        "はじめに条件にあてはまる数をカウントする`count_n`を設定\n",
        "\n",
        "反復と条件の部分は(1)と同じ\n",
        "\n",
        "1~500くらいまでの数で調べることにしてfor文で変数をyとしてすべての数を調べる\n",
        "\n",
        "本来ならば＜算数解法＞のようにさかのぼるプログラムでないと，\n",
        "\n",
        "500以上の数で操作が5回ある可能性が残ってしまいますが，難しそうなので…\n",
        "\n",
        "yが0で操作回数が5になった場合は，count_nをカウント\n",
        "\n",
        "最後にcount_nを出力"
      ],
      "metadata": {
        "id": "ixAPO8H_S-xe"
      }
    },
    {
      "cell_type": "code",
      "source": [
        ""
      ],
      "metadata": {
        "id": "38S7IM_AEFFl"
      },
      "execution_count": null,
      "outputs": []
    },
    {
      "cell_type": "code",
      "source": [
        "#(2) sample\n",
        "\n",
        "count_n = 0\n",
        "\n",
        "for y in range(1, 500) :\n",
        "  count = 0\n",
        "  while count <= 5 :\n",
        "    if y % 3 == 0 :\n",
        "      y = y / 3\n",
        "      count += 1\n",
        "    else :\n",
        "      y = y - (y % 3)\n",
        "      count += 1\n",
        "      if y == 0 and count == 5:\n",
        "        count_n += 1\n",
        " \n",
        "print(count_n)\n"
      ],
      "metadata": {
        "id": "pXvVbrAWoidV"
      },
      "execution_count": null,
      "outputs": []
    },
    {
      "cell_type": "markdown",
      "source": [
        "###random関数"
      ],
      "metadata": {
        "id": "sUC6UjUk9lWj"
      }
    },
    {
      "cell_type": "markdown",
      "source": [
        "ランダムに数をつくる関数があります。\n",
        "\n",
        "Pythonのrandomモジュールの中にある関数です。\n",
        "\n",
        "`randint()`は整数を作ります。\n",
        "\n",
        "`randint(a, b)`は，a以上b以下の範囲でランダムな整数を作ります(返します）。"
      ],
      "metadata": {
        "id": "7qxdCDaQNo_m"
      }
    },
    {
      "cell_type": "markdown",
      "source": [
        "---\n",
        "Q?\n",
        "\n",
        "10歳から30歳までのランダムな年齢を作り，\n",
        "\n",
        "その年齢が20歳以上であれば「成人です」と表示し，\n",
        "\n",
        "20歳御南であれば「未成年です」と表示させるプログラムは？"
      ],
      "metadata": {
        "id": "0PoRFIvxh8Zi"
      }
    },
    {
      "cell_type": "markdown",
      "source": [
        "ーーーーーーーーーーーーーーーーーーーーーーーーーーーーーーーーーーーーーーーー\n",
        "\n",
        "`randint`関数をインポート\n",
        "\n",
        "`from random import randint`であれば，randint関数を使うときは，`renadint(10, 30)`\n",
        "\n",
        "`import random`とすると，randinti関数を使うときは，`random.randiint(10, 30)`と書きます。\n",
        "\n",
        "randiinti関数で作成された数が20以上か未満かで`if文`で場合分けして，\n",
        "\n",
        "「成年です」か「未成年です」かを表示させます。"
      ],
      "metadata": {
        "id": "EdDQwZZVo164"
      }
    },
    {
      "cell_type": "code",
      "metadata": {
        "id": "8zKZMagxyyBu"
      },
      "source": [
        "#sample\n",
        "\n",
        "from random import randint\n",
        "\n",
        "age = randint(10, 30)    \n",
        "\n",
        "if age >= 20:\n",
        "    print(age, \"歳は，成人です\")\t\n",
        "else:\n",
        "    print(age, \"歳は，未成年です\")\t"
      ],
      "execution_count": null,
      "outputs": []
    },
    {
      "cell_type": "markdown",
      "source": [
        "###2つの乱数の比較"
      ],
      "metadata": {
        "id": "4UmqblgAG_4P"
      }
    },
    {
      "cell_type": "markdown",
      "metadata": {
        "id": "JNW01au2J6UZ"
      },
      "source": [
        "---\n",
        "Q?\n",
        "\n",
        "1～50の乱数を2つ作り，2つの数を表示して，\n",
        "\n",
        "大きいほうを「大＞小」と表示し，\n",
        "\n",
        "同じであれば「等しい」と表示させるプログラムは？"
      ]
    },
    {
      "cell_type": "markdown",
      "source": [
        "ーーーーーーーーーーーーーーーーーーーーーーーーーーーーーーーーーーーーーーーーー\n",
        "\n",
        "整数の乱数2つだから，変数`x`と`y`に`randint`でつくる乱数を代入\n",
        "\n",
        "`print`で2つの数を出力\n",
        "\n",
        "`if`,`elif`,`else`文で比較し，「大きい」か「小さい」か「等しい」の3つの場合で表示させる\n"
      ],
      "metadata": {
        "id": "Nnzm-NqvK721"
      }
    },
    {
      "cell_type": "code",
      "source": [
        ""
      ],
      "metadata": {
        "id": "J3ncK_hACFs2"
      },
      "execution_count": null,
      "outputs": []
    },
    {
      "cell_type": "code",
      "metadata": {
        "id": "y3KRkshnJ6Ua"
      },
      "source": [
        "#sample\n",
        "\n",
        "from random import randint\n",
        "\n",
        "x, y = randint(1, 50), randint(1, 50)    #まとめて書くこともできる\n",
        "\n",
        "print(\"x =\", x, \"，\", \"y ＝\", y)\n",
        "\n",
        "if x > y:\n",
        "  print(x, \">\", y)\n",
        "elif x < y:\n",
        "  print(y, \">\", x)\n",
        "else:\n",
        "  print(f\"{x} ＝ {y} だから，等しい\")\n",
        "  "
      ],
      "execution_count": null,
      "outputs": []
    },
    {
      "cell_type": "markdown",
      "metadata": {
        "id": "uCzSpwMRJ6Ua"
      },
      "source": [
        "---\n",
        "Q?\n",
        "\n",
        "1~200のランダムな数で，その数が2で割り切れるが3で割り切れない場合，\n",
        "\n",
        "2で割り切れないが3で割り切れる場合，\n",
        "\n",
        "2でも3でも割り切れる場合，2でも3でも割り切れない場合で，\n",
        "\n",
        "それぞれ表示させるプログラムは？"
      ]
    },
    {
      "cell_type": "markdown",
      "source": [
        "ーーーーーーーーーーーーーーーーーーーーーーーーーーーーーーーーーーーーーーーーー\n",
        "\n",
        "randintで乱数発生\n",
        "\n",
        "4つの条件の場合で，問題のように表示させる"
      ],
      "metadata": {
        "id": "S1W-QqiEN6YC"
      }
    },
    {
      "cell_type": "code",
      "source": [
        ""
      ],
      "metadata": {
        "id": "Zys13qufCHrW"
      },
      "execution_count": null,
      "outputs": []
    },
    {
      "cell_type": "code",
      "metadata": {
        "id": "u3RQoYRbJ6Ub"
      },
      "source": [
        "#sample\n",
        "\n",
        "from random import randint\n",
        "\n",
        "x = randint(1,200)\n",
        "\n",
        "if x % 2 == 0 and x % 3 != 0:\n",
        "  print(x,  \"は，2で割り切れるが3で割り切れない\")\n",
        "elif x % 2 != 0 and x % 3 == 0:\n",
        "  print(x, \"は，2で割り切れないが3で割り切れる\")\n",
        "elif x % 2 == 0 and x % 3 == 0:\n",
        "  print(x, \"は，2でも3でも割り切れる\")\n",
        "else:\n",
        "  print(x, \"は，2でも３でも割り切れない\")  \n",
        "  \n",
        "  "
      ],
      "execution_count": null,
      "outputs": []
    },
    {
      "cell_type": "markdown",
      "source": [
        "###random 当たりはずれ"
      ],
      "metadata": {
        "id": "7nKGpJwzJWxe"
      }
    },
    {
      "cell_type": "markdown",
      "metadata": {
        "id": "Hz3Zacd1_rB3"
      },
      "source": [
        "---\n",
        "Q?\n",
        "\n",
        "1から5までの数を言ってもらい(inputしてもらい），\n",
        "\n",
        "その数があたりかハズレかを表示させるプログラムは？\n",
        "\n",
        "ハズレの場合は正解も表示\n",
        "\n",
        "正解の数はrandomで乱数発生\n"
      ]
    },
    {
      "cell_type": "markdown",
      "source": [
        "ーーーーーーーーーーーーーーーーーーーーーーーーーーーーーーーーーーーーーーーーー\n",
        "\n",
        "整数なので`random`モジュールから`randint`を`import`\n",
        "\n",
        "正解を`answer`変数に入れる\n",
        "\n",
        "「1から5までの数をあてて下さい」と表示して\n",
        "\n",
        "「1~5の数字を入れてください」で入力してもらい\n",
        "\n",
        "inputでは文字で入力されるので`int`に変換を忘れずに\n",
        "\n",
        "同じだったら「あたりです」，違っていたら「ハズレです。正解は`answer`です」"
      ],
      "metadata": {
        "id": "y0nSWezf_jPq"
      }
    },
    {
      "cell_type": "code",
      "metadata": {
        "id": "Z2e-ZuIz_rB3"
      },
      "source": [
        "#sample\n",
        "\n",
        "from random import randint\n",
        "\n",
        "answer = randint(1,5)\n",
        "\n",
        "print('1から5までの数をあてて下さい')\n",
        "\n",
        "x = int(input(\"1～5の数を入力してください :\"))\n",
        "\n",
        "if answer == x:\n",
        "  print(\"あたりです\")\n",
        "else:\n",
        "  print(f\"ハズレです。正解は{answer}です\")\n",
        "\n",
        "  "
      ],
      "execution_count": null,
      "outputs": []
    },
    {
      "cell_type": "markdown",
      "source": [
        "###random 数字と曜日"
      ],
      "metadata": {
        "id": "oAZu2rY_1tVg"
      }
    },
    {
      "cell_type": "markdown",
      "source": [
        "---\n",
        "Q?\n",
        "\n",
        "ランダムに1~7の整数をつくり，出た数字から，\n",
        "\n",
        "1＝月曜日Monday，2＝火曜日Tuesday，3＝水曜日Wednesday，４＝木曜日Thursday，\n",
        "\n",
        "５＝金曜日Friday，6＝土曜日Saturday，7＝日曜日Sunday\n",
        "\n",
        "と表示させるプログラムは？\n"
      ],
      "metadata": {
        "id": "MlcEzOEs36qn"
      }
    },
    {
      "cell_type": "markdown",
      "source": [
        "ーーーーーーーーーーーーーーーーーーーーーーーーーーーーーーーーーーーーーーーー\n",
        "\n",
        "randint関数で1~7の乱数をつくり，つくった数を変数dayに入れる\n",
        "\n",
        "    day = randint(1, 7)\n",
        "\n",
        "`randint(1, 7)`の`(   )`の中の数字(**「引数ひきすう」**)は，1も7も入ります(1から7まで）\n",
        "\n",
        "range()関数では`range(1, 7)`だと1から6までだったことと違うことに注意\n",
        "\n",
        "あとはif文で1だったら月曜日，2だったら火曜日・・・・とするだけ\n",
        "\n"
      ],
      "metadata": {
        "id": "Kf2o1y3a6V0b"
      }
    },
    {
      "cell_type": "code",
      "source": [
        ""
      ],
      "metadata": {
        "id": "hBM1BUK6dITm"
      },
      "execution_count": null,
      "outputs": []
    },
    {
      "cell_type": "code",
      "metadata": {
        "id": "04cAzPvQn3WD"
      },
      "source": [
        "#sample\n",
        "\n",
        "from random import randint      #ここを import random  としたら\n",
        "\n",
        "day = randint(1,7)                  #ここは，day = random.randint(1, 7)\n",
        "\n",
        "if day == 1:\n",
        "  print(day, \"なのでMonday\")\n",
        "elif day == 2:\n",
        "  print(day, \"なのでTuesday\") \n",
        "elif day == 3:\n",
        "  print(day, \"なのでWednesday\") \n",
        "elif day == 4:\n",
        "  print(day, \"なのでThursday\") \n",
        "elif day == 5:\n",
        "  print(day, \"なのでFriday\") \n",
        "elif day == 6:\n",
        "  print(day, \"なのでSaturday\") \n",
        "elif day == 7:                         #else:もあり\n",
        "  print(day, \"なのでSunday\") \n",
        "  \n",
        " "
      ],
      "execution_count": null,
      "outputs": []
    },
    {
      "cell_type": "markdown",
      "source": [
        "`from random import randint`の部分は，`import random`として\n",
        "\n",
        "randint関数を使うときは，`random.randint`と書く人が多いみたいです\n",
        "\n",
        "    ➀　from random import randint\n",
        "          randint()\n",
        "\n",
        "    ②　import random\n",
        "          random.randint()\n",
        "\n",
        "両方とも同じ意味です\n",
        "\n",
        "使い分け方としては，randomモジュールの中のrandintだけを使いたいときは①で，\n",
        "\n",
        "いろいろなプログラムを使いたいときは②の書き方\n",
        "\n",
        "という感じですが，まｱお好みだと思いますが"
      ],
      "metadata": {
        "id": "WhUQguuO1xRL"
      }
    },
    {
      "cell_type": "markdown",
      "source": [
        "###random おみくじ"
      ],
      "metadata": {
        "id": "4Sn6LeMekRmb"
      }
    },
    {
      "cell_type": "markdown",
      "source": [
        "---\n",
        "Q?\n",
        "\n",
        "1~20の乱数をつくり，おみくじで，1，2で大吉，３，４，５で中吉，\n",
        "\n",
        "６，７，８，９，１０で小吉，１１，１２，１３で末吉，\n",
        "\n",
        "１４，１５，１６，17で凶，18，19，20で大凶となるプログラムは？\n"
      ],
      "metadata": {
        "id": "cg0EgO-39CN-"
      }
    },
    {
      "cell_type": "markdown",
      "source": [
        "ーーーーーーーーーーーーーーーーーーーーーーーーーーーーーーーーーーーーーーーーー\n",
        "\n",
        "条件の表し方はありますが，考え方は上と同じです\n",
        "\n",
        "\\\n",
        "条件文の書き方で，\n",
        "\n",
        "例えば，中吉が出る場合は，`elif omikuji >= 3 and omikuji <= 5`と\n",
        "\n",
        "書かずに`elif omikuji <= 5`だけでOKです\n",
        "\n",
        "`elif`は「上の条件に書かれた条件をみたされない場合だけ計算し，\n",
        "\n",
        "上の条件が満たされる場合は計算されない」\n",
        "\n",
        "という意味\n",
        "\n",
        "2が出た場合，`2 <= 5`ですが「中吉」にならないのは，2は大吉になる条件なので，\n",
        "\n",
        "上の`if`が計算されて，その下に書かれた`elif`は計算されません\n",
        "\n",
        "`else`も「17以下以外だったら計算」という意味です\n",
        "\n",
        "\\\n",
        "「書式化文字列`f`」も使ってみました"
      ],
      "metadata": {
        "id": "v6YJ9oGAVGsa"
      }
    },
    {
      "cell_type": "code",
      "source": [
        ""
      ],
      "metadata": {
        "id": "ffFmGpbJkTNF"
      },
      "execution_count": null,
      "outputs": []
    },
    {
      "cell_type": "code",
      "metadata": {
        "id": "uuqJ3u0YCjpb",
        "colab": {
          "base_uri": "https://localhost:8080/"
        },
        "outputId": "7bda2f68-a676-4695-dadb-139d6ad401d6"
      },
      "source": [
        "#sample\n",
        "\n",
        "from random import randint\n",
        "\n",
        "omikuji = randint(1, 20)\n",
        "\n",
        "word = 'が出たので，'\n",
        "\n",
        "if omikuji <= 2:\n",
        "  print(f'{omikuji} {word} 大吉')\n",
        "\n",
        "elif omikuji <= 5 :\n",
        "  print(f'{omikuji} {word} 中吉')\n",
        "\n",
        "elif omikuji <= 10:\n",
        "  print(f'{omikuji} {word} 小吉')\n",
        "\n",
        "elif omikuji <= 13:\n",
        "  print(f'{omikuji} {word} 末吉')\n",
        "\n",
        "elif omikuji <= 17:\n",
        "  print(f'{omikuji} {word} 凶')\n",
        "  \n",
        "else:\n",
        "  print(f'{omikuji} {word} 大凶')\n"
      ],
      "execution_count": null,
      "outputs": [
        {
          "output_type": "stream",
          "name": "stdout",
          "text": [
            "15 が出たので， 凶\n"
          ]
        }
      ]
    },
    {
      "cell_type": "markdown",
      "source": [
        "###random 当たりはずれ　ヒントあり"
      ],
      "metadata": {
        "id": "lFV1C_sYPa1P"
      }
    },
    {
      "cell_type": "markdown",
      "metadata": {
        "id": "Y-soBrZqCzF7"
      },
      "source": [
        "---\n",
        "Q?\n",
        "\n",
        "1から10までの数を言ってもらい(inputしてもらい），\n",
        "\n",
        "その数があたりかハズレかを表示させるプログラムは？\n",
        "\n",
        "\\\n",
        "正解の数はrandomで1回だけ乱数発生\n",
        "\n",
        "ハズレの場合は正解より大きいか小さいかを言ってあげて，\n",
        "\n",
        "正解するまで数を入れてもらい，繰り返す\n",
        "\n"
      ]
    },
    {
      "cell_type": "markdown",
      "source": [
        "ーーーーーーーーーーーーーーーーーーーーーーーーーーーーーーーーーーーーーーーーー\n",
        "\n",
        "整数なので`random`モジュールから`randint`を`import`\n",
        "\n",
        "正解を`answer`変数に入れる\n",
        "\n",
        "「1~10の数をあててください」と表示し\n",
        "\n",
        "「数を入れてください」で`input`してもらい，(これもwhile文の中）\n",
        "\n",
        "\\\n",
        "繰り返しの回数が決まったいないので`while True:`文で，反復計算処理\n",
        "\n",
        "同じだったら「あたりです」，違っていたら「もっと小さい数です」か\n",
        "\n",
        "「もっと大きい数です」と表示し，\n",
        "\n",
        "while文の最初に戻り，「数を入れて下さい」と表示\n",
        "\n",
        "\\\n",
        "条件は，「あたり」，「もっと小さい」，「もっと大きい」の3つの場合だから，\n",
        "\n",
        "`if`，`elif`，`else`\n",
        "\n",
        "これの繰り返し"
      ],
      "metadata": {
        "id": "abMxw2cmC4B2"
      }
    },
    {
      "cell_type": "code",
      "source": [
        ""
      ],
      "metadata": {
        "id": "p949DbnTCsOw"
      },
      "execution_count": null,
      "outputs": []
    },
    {
      "cell_type": "code",
      "metadata": {
        "id": "MftV9adF_rB3"
      },
      "source": [
        "#sample\n",
        "\n",
        "from random import randint\n",
        "\n",
        "answer = randint(1,10)\n",
        "\n",
        "print(\"1から10までの数をあてて下さい\")\n",
        "\n",
        "while True :\n",
        "  x = int(input(\"1から10までの数を入れて下さい : \"))\n",
        "  if answer == x :\n",
        "    print(\"あたりです，おめでとう\")\n",
        "    break\n",
        "  elif answer < x :\n",
        "    print(\"もっと小さいです！\")\n",
        "  else :\n",
        "    print(\"もっと大きいです！\")\n",
        "                  \n"
      ],
      "execution_count": null,
      "outputs": []
    },
    {
      "cell_type": "markdown",
      "source": [
        "###約数　完全数"
      ],
      "metadata": {
        "id": "bjFQzL_esmJi"
      }
    },
    {
      "cell_type": "markdown",
      "metadata": {
        "id": "i5rGwKE7ToLr"
      },
      "source": [
        "---\n",
        "\n",
        "自分自身を除く約数の和がその数自身と等しくなる数を完全数といいます。\n",
        "\n",
        "\\\n",
        "6の約数は，1, 2, 3, 6で，1 + 2 + 3 = 6となるので，6は完全数です。\n",
        "\n",
        "\\\n",
        "完全数を小さいほうから4つ表示させるプログラムは？\n"
      ]
    },
    {
      "cell_type": "markdown",
      "source": [
        "ーーーーーーーーーーーーーーーーーーーーーーーーーーーーーーーーーーーーーーーー\n",
        "\n",
        "2から順に探していくので，はじめに完全数の候補`n`を2に設定します。\n",
        "\n",
        "```\n",
        "n = 2\n",
        "count = 0\n",
        "```\n",
        "\n",
        "見つかった完全数の数を数える`count`変数を0に設定し，3になるまで作業を繰り返す。\n",
        "\n",
        "いくつまでの整数を調べればよいかわからないのでwhile文で繰り返し処理を作ります。\n",
        "\n",
        "はじめに，約数の和の`m`を0に設定。\n",
        "\n",
        "```\n",
        "while count < 4 :\n",
        "  m = 0\n",
        "```\n",
        "\n",
        "`for文`を使って，整数がnの場合，約数を1から(n - 1)まで取り出して，\n",
        "\n",
        "nを割り切れればその約数を`m`にたす。\n",
        "```\n",
        " for i in range(1,n):\n",
        "         if n % i == 0:\n",
        "             m += i\n",
        "```\n",
        "ここで`while ループ`に戻り，n = mとなれば，nを出力し，\n",
        "\n",
        "nの個数をカウントし，次のnにすすむ。\n",
        "```\n",
        "if n == m:\n",
        "  print(n)\n",
        "  count += 1\n",
        "n += 1\n",
        "```\n",
        "\n",
        "\n"
      ],
      "metadata": {
        "id": "RO94tYYItMEi"
      }
    },
    {
      "cell_type": "code",
      "source": [
        ""
      ],
      "metadata": {
        "id": "dSJDLV8IC9gD"
      },
      "execution_count": null,
      "outputs": []
    },
    {
      "cell_type": "code",
      "metadata": {
        "id": "ndQHe0wh2pIL"
      },
      "source": [
        "#sample\n",
        "\n",
        "n = 2\n",
        "count = 0\n",
        "while count < 4:\n",
        "    m = 0\n",
        "    for i in range(1,n):\n",
        "        if n % i == 0:\n",
        "            m += i\n",
        "    if n == m:\n",
        "        print(n)\n",
        "        count += 1\n",
        "    n += 1\n"
      ],
      "execution_count": null,
      "outputs": []
    },
    {
      "cell_type": "markdown",
      "source": [
        "###濃度　＜Python/sympyで解く＞"
      ],
      "metadata": {
        "id": "HEu_zi1KPwbC"
      }
    },
    {
      "cell_type": "markdown",
      "metadata": {
        "id": "zNLCsc5ATo5p"
      },
      "source": [
        "---\n",
        "Q?\n",
        "\n",
        "5%の食塩水500gと6%の食塩水400gに\n",
        "\n",
        "それぞれ同じ量の水を加えたら濃度が等しくなりました。\n",
        "\n",
        "加えた水は何g？\n",
        "\n"
      ]
    },
    {
      "cell_type": "markdown",
      "source": [
        "ーーーーーーーーーーーーーーーーーーーーーーーーーーーーーーーーーーーーーーーー\n",
        "\n",
        "＜Python/sympyで解く＞\n",
        "\n",
        "逆算のところで利用した`sympy module`の`var()`関数と`solve()`関数を\n",
        "\n",
        "ここでも利用します。\n",
        "\n",
        "この2つの関数は，いろいろな文章題を解くのに役に立ちます。\n",
        "\n",
        "ーーーーーーーーーーーーーーーーーーーーーーーーーーーーーーーーーーーーーーーー\n",
        "\n",
        "問題文を文字式で表してsympyで解答\n",
        "\n",
        "sympyからvar()とsolve()のインポート\n",
        "```\n",
        "from sympy import var, solve\n",
        "```\n",
        "加える水の量をxグラムとするのでxを文字として登録\n",
        "```\n",
        "var(\"x\")\n",
        "```\n",
        "(濃度)＝(食塩の重さ)÷(食塩水の重さ)\n",
        "\n",
        "5%の食塩水の食塩の重さ＝500 × 0.05 ＝ 25，\n",
        "\n",
        "6%の食塩水の食塩の重さ＝600 × 0.06 ＝ 24\n",
        "\n",
        "食塩水の重さは，500＋xと400＋xだから，\n",
        "\n",
        "濃度が等しいことを表す式は\n",
        "\n",
        "500 * 0.05 / (500 + x) = 600 * 0.06 / (400 + x)\n",
        "\n",
        "\\\n",
        "solveで解くために(左辺) = 0 の式のかたちにすると，\n",
        "\n",
        "500 * 0.05 / (500 + x) - 600 * 0.06 / (400 + x) = 0\n",
        "\n",
        "左辺の式をEに入れる\n",
        "```\n",
        "E = 500 * 0.05 / (500 + x) - 400 * 0.06 / (400 + x) \n",
        "```\n",
        "この式をsolve()で解いて，答えをanswerに入れる\n",
        "```\n",
        "answer = solve(E)\n",
        "```\n",
        "変数が1つの場合は，answerはリスト型になっていて，\n",
        "\n",
        "xは1番目の要素で，小数(浮動小数点)になっているなので，printで答えを出力するには\n",
        "\n",
        "answer[0]として，それを整数にするためにint()に入れる\n",
        "```\n",
        "print(int(answer[0]), 'g')\n",
        "```\n"
      ],
      "metadata": {
        "id": "E_USI4iUlLob"
      }
    },
    {
      "cell_type": "code",
      "source": [
        ""
      ],
      "metadata": {
        "id": "ySBdNWTkDa02"
      },
      "execution_count": null,
      "outputs": []
    },
    {
      "cell_type": "code",
      "metadata": {
        "id": "Roo-j5b2To5r"
      },
      "source": [
        "#sample\n",
        "\n",
        "from sympy import var, solve\n",
        "\n",
        "var(\"x\")\n",
        "\n",
        "E = 500 * 0.05 / (500 + x) - 400 * 0.06 / (400 + x) \n",
        "\n",
        "answer = solve(E)\n",
        "\n",
        "print(int(answer[0]), 'g')\n",
        "\n"
      ],
      "execution_count": null,
      "outputs": []
    },
    {
      "cell_type": "markdown",
      "source": [
        "###比と割合"
      ],
      "metadata": {
        "id": "DSnyjWG8PzQW"
      }
    },
    {
      "cell_type": "markdown",
      "metadata": {
        "id": "kYzYgXD3To5s"
      },
      "source": [
        "---\n",
        "Q?\n",
        "\n",
        "熊さん(bear)は持っていたお金(money)の$\\dfrac{1}{3}$よりも200円少ない金額で本(book)を買い(buy)，\n",
        "\n",
        "次に1000円で文房具(stationery)を買いました。\n",
        "\n",
        "残ったお金は最初の金額の$\\dfrac{2}{5}$でした。\n",
        "\n",
        "bearが最初に持っていた金額は？\n"
      ]
    },
    {
      "cell_type": "markdown",
      "source": [
        "ーーーーーーーーーーーーーーーーーーーーーーーーーーーーーーーーーーーーーーーー\n",
        "\n",
        "＜Python/sympyで解く＞\n",
        "\n",
        "問題文を文字式で表してsympyで解答\n",
        "\n",
        "sympyからvar()とsolve()のインポート\n",
        "```\n",
        "from sympy import var, solve\n",
        "```\n",
        "熊さんが最初に持っていた金額をb円とし，bを文字として登録\n",
        "\n",
        "```\n",
        "var(\"b\")\n",
        "```\n",
        "\n",
        "(本の値段)＝b * 1/3 - 200\n",
        "\n",
        "(使った金額の合計) = (本の値段) + (文房具の値段) =  b * 1/3 - 200 + 1000 \n",
        "\n",
        "使った金額の合計は，最初の金額の1 - 2/5 = 3/5だからそれを式で表すと，b * 3/5\n",
        "\n",
        "b * 1/3 - 200 + 1000 と b * 3/5 は等しい\n",
        "\n",
        "これを式で表すと，b * 1/3 - 200 + 1000 = b * 3/5\n",
        "\n",
        "sympyで解くために(左辺) = 0 の式のかたちにする\n",
        "\n",
        "b * 1/3 - 200 + 1000 - b * 3/5 = 0\n",
        "\n",
        "左辺の式をEに入れる\n",
        "```\n",
        "E = b * 1/3 - 200 + 1000 - b * 3/5\n",
        "```\n",
        "この式をsolve()で解いて答をanswerに入れる\n",
        "```\n",
        "answer = solve(E)\n",
        "```\n",
        "変数が1つの場合は，answerはリスト型になっていて，\n",
        "\n",
        "bは1番目の要素で，小数(浮動小数点)になっているなので，printで答えを出力するには\n",
        "\n",
        "answer[0]として，それを整数にするためにint()に入れる\n",
        "\n",
        "```\n",
        "print(int(answer[0]), '円')\n",
        "```\n"
      ],
      "metadata": {
        "id": "8b1sN7Uvs_AP"
      }
    },
    {
      "cell_type": "code",
      "metadata": {
        "id": "q8-mN9U_To5t"
      },
      "source": [
        "#sample\n",
        "\n",
        "from sympy import var, solve\n",
        "\n",
        "var(\"b\")\n",
        "\n",
        "E = b * 1/3 - 200 + 1000 - b * 3/5\n",
        "\n",
        "answer = solve(E)\n",
        "\n",
        "print(int(answer[0]), '円')\n"
      ],
      "execution_count": null,
      "outputs": []
    },
    {
      "cell_type": "markdown",
      "source": [
        "###和と差　つるかめ"
      ],
      "metadata": {
        "id": "yYnwls1g4brL"
      }
    },
    {
      "cell_type": "markdown",
      "metadata": {
        "id": "2AO_wMUtCSCM"
      },
      "source": [
        "---\n",
        "Q?\n",
        "\n",
        "あるお店で，1個600円のサンドイッチと1個750円の弁当をあわせて17個売ったところ，\n",
        "\n",
        "このお店の売り上げは11400円でした。サンドイッチは何個売れた？\n"
      ]
    },
    {
      "cell_type": "markdown",
      "metadata": {
        "id": "lRf6XOkXIVMS"
      },
      "source": [
        "ーーーーーーーーーーーーーーーーーーーーーーーーーーーーーーーーーーーーーーーーー\n",
        "\n",
        "＜算数解法＞\n",
        "\n",
        "つるかめ算で，(750 × 17－11400) ÷ (750 － 600) ＝ 9個・・・(答)\n",
        "\n",
        "\\\n",
        "＜Python＞\n",
        "\n",
        "サンドイッチと弁当をそれぞれ1~17個の場合で変数s個，b個に代入し，全部数え上げ，\n",
        "\n",
        "問題の条件を式で表し，あてはまるs,bがある場合，sを出力\n"
      ]
    },
    {
      "cell_type": "code",
      "source": [
        ""
      ],
      "metadata": {
        "id": "UKSuZKR5DlyE"
      },
      "execution_count": null,
      "outputs": []
    },
    {
      "cell_type": "code",
      "metadata": {
        "id": "UFKVivcPDGbs"
      },
      "source": [
        "#sample\n",
        "\n",
        "for s in range(1,18):\n",
        "  for b in range(1,18):\n",
        "    if s + b == 17 and 600 * s + 750 * b == 11400:\n",
        "      print(s,'個')\n"
      ],
      "execution_count": null,
      "outputs": []
    },
    {
      "cell_type": "markdown",
      "source": [
        "＜Python別解＞\n",
        "\n",
        "**`！！sympyのsolve関数の使い方は覚えておきましょう！！`**\n",
        "\n",
        "この問題は，中学で学ぶ連立一次方程式で，\n",
        "\n",
        "Pythonには方程式(equationイクエイション）を解くための\n",
        "\n",
        "プログラムがあるので，すでに「逆算」のところで利用したsympyモジュールを利用します。\n",
        "\n",
        "\\\n",
        "サンドイッチと弁当の個数をそれぞれs個，b個として問題の条件を式で表すと，\n",
        "\n",
        "`s + b = 17`  (ここの`＝`は等号(equalイコール))\n",
        "\n",
        "`600 × s + 750 × b = 11400`\n",
        "\n",
        "2つの式を`(左辺)＝0`の形にすると，\n",
        "\n",
        "➀：`s + b ー 17 = 0`\n",
        "\n",
        "②：`600 × s + 750 × b ― 11400 ＝ 0`\n",
        "\n",
        "となるので，①の(左辺)を，`E1 `    (`E1`は変数なので，名前は自分で決められる）\n",
        "\n",
        "②の(左辺)を，`E2 = 600 × s + 750 × b ― 11400`  とする\n",
        "\n",
        "(左辺)というのは「＝の左側」という意味\n",
        "\n",
        "\\\n",
        "このE1,E2をsympyモジュールの`solve`(ソルブ＝「(問題を)解く」という意味の英語）\n",
        "\n",
        "という関数に入れると，sとbを求めてくれます。\n",
        "\n",
        "\\\n",
        "具体的なコードは，まず，`sympy`モジュールからs,bは変数だと決める\n",
        "\n",
        "`var`関数と`solve`関数を`import`\n",
        "\n",
        "    from sympy import var, solve\n",
        "\n",
        "sとbは変数ですとする\n",
        "\n",
        "    var('s, b')      #これは，s, b = var('s, b')  と書いても同じ\n",
        "\n",
        "2つの条件の式を`E1`,`E2`に入れ（E1,E2は`var`しなくていい)\n",
        "\n",
        "    E1 = s + b ー 17\n",
        "    E2 = 600 * s + 750 * b ― 11400\n",
        "\n",
        "この2つの式を`solve`関数に入れて，計算した答えを`answer`(アンサー答）に入れる。\n",
        "\n",
        "\\\n",
        "上の式をそのままsolveに入れても同じだが，見にくくなるので，`E1``E2`を使いましょう\n",
        "\n",
        "この書き方は，今は「こう書くんだ」とだけ覚えておけばOK\n",
        "\n",
        "    answer = solve([E1, E2], [s, b])\n",
        "\n",
        "最後にanswerを出力すると，\n",
        "\n",
        "    {s:9, b:8}\n",
        "\n",
        "と表示され，サンドイッチだけ表示したいときは\n",
        "\n",
        "    print('サンドイッチは', answer[s], '個')\n",
        "\n",
        "とする\n",
        "\n",
        "`answer`は実は「辞書」の型になっていて，`answer[s]`とキーを指定すると，\n",
        "\n",
        "ｓとペアになっている9が表示されます。\n",
        "\n",
        "\n"
      ],
      "metadata": {
        "id": "ZmafdY8ffg3W"
      }
    },
    {
      "cell_type": "code",
      "source": [
        ""
      ],
      "metadata": {
        "id": "4mq-Ej3wEDe3"
      },
      "execution_count": null,
      "outputs": []
    },
    {
      "cell_type": "code",
      "metadata": {
        "id": "iqUmYfxMEIv8"
      },
      "source": [
        "#sympyプログラムを使った場合\n",
        "\n",
        "from sympy import var, solve\n",
        "\n",
        "var('s, b')\n",
        "\n",
        "E1 = s + b - 17\n",
        "E2 = 600 * s + 750 * b - 11400\n",
        "\n",
        "answer = solve([E1, E2], [s, b])\n",
        "\n",
        "print(answer)\n",
        "\n",
        "print('サンドイッチは', answer[s], '個')\n"
      ],
      "execution_count": null,
      "outputs": []
    },
    {
      "cell_type": "markdown",
      "source": [
        "###消去算"
      ],
      "metadata": {
        "id": "uDjv5ANLQAEt"
      }
    },
    {
      "cell_type": "markdown",
      "metadata": {
        "id": "0SS2n6wSTNLx"
      },
      "source": [
        "---\n",
        "Q?\n",
        "\n",
        "Aは500円持って，ノートと手帳を3冊ずつ買おうとしましたが，10円足りなかったので，\n",
        "\n",
        "手帳を2冊と，ノートを4冊にしたら，40円のおつりをもらえました\n",
        "\n",
        "手帳とノートはそれぞれいくら？\n",
        "\n"
      ]
    },
    {
      "cell_type": "markdown",
      "metadata": {
        "id": "2vNbC0kzZsZg"
      },
      "source": [
        "ーーーーーーーーーーーーーーーーーーーーーーーーーーーーーーーーーーーーーーーー\n",
        "\n",
        "＜算数解法＞\n",
        "\n",
        "消去算でとく\n",
        "\n",
        "ノート(note)1冊＝n円，手帳(pocket book)1冊＝p円として問題文を式で表す\n",
        "\n",
        "前半の条件から\n",
        "\n",
        "n × 3 + p × 3 = 500 + 10  ・・・➀\n",
        "\n",
        "後半の条件から\n",
        "\n",
        "n × 4 + p × 2 = 500 ー 40  ・・・②\n",
        "\n",
        "② × 3 － ① × 2より\n",
        "\n",
        "12 × n － 6 × n ＝ 1380 － 1020\n",
        "\n",
        "6 × n ＝ 360　より，n＝60円　これを①に代入して。p＝110円\n",
        "\n",
        "ノート60円，手帳110円・・・(答)\n",
        "\n",
        "\n",
        "\\\n",
        "＜Python/sympy＞\n",
        "\n",
        "算数解法は「消去算」といわれていますが，これは中学で学ぶ「連立方程式」の解法と同じ\n",
        "\n",
        "sympyで解く解法は方程式の解法なので，消去算の解法と同じです\n",
        "\n",
        "\\\n",
        "手順は以下の通り\n",
        "\n",
        "sympyから`var`と`solve`を`import`\n",
        "\n",
        "    from sympy import var, solve\n",
        "\n",
        "算数解法と同じで，`n`と`p`を`var( )`で変数として登録\n",
        "\n",
        "(nとpの文字を変数として使うことを宣言）\n",
        "\n",
        "    var('n, p')\n",
        "\n",
        "`'   '`をつけることを忘れないように\n",
        "\n",
        "上の➀，②の式を(左辺)＝0の形にしてPythonで書いて，\n",
        "\n",
        "(左辺）を`E`(equationイクエイション方程式の頭文字）に代入\n",
        "\n",
        "式が2つなので，`E1`と`E2`にそれぞれ代入\n",
        "\n",
        "    E1 = n * 3 + p * 3 - 510 \n",
        "    E2 = n * 4 + p * 2 - 460\n",
        "\n",
        "「`E1`と`E2`を`solve`に入れて，`n`と`p`を求める」ときは，\n",
        "\n",
        "    solve([E1, E2], [n, p])\n",
        "\n",
        "と書くと覚えて下さい\n",
        "\n",
        "その答えを，`answer`という変数に入れる\n",
        "\n",
        "    answer = solve([E1, E2], [n, p])\n",
        "\n",
        "`answer`を`print(answer)`で出力すると，\n",
        "\n",
        "\n",
        "    {n:60, p:110}\n",
        "\n",
        "と「辞書型」で表示されます\n",
        "\n",
        "これでもいいんですが，普通の答えとして出力したときは，\n",
        "\n",
        "    print(answer[n], answer[p])\n",
        "\n",
        "とします\n"
      ]
    },
    {
      "cell_type": "code",
      "source": [
        "#sample\n",
        "\n",
        "from sympy import var, solve\n",
        "\n",
        "var('n, p')\n",
        "\n",
        "E1 = n * 3 + p * 3 - 510 \n",
        "E2 = n * 4 + p * 2 - 460\n",
        "\n",
        "answer = solve([E1, E2], [n, p])\n",
        "\n",
        "print(\"ノートは\", answer[n], \"円，手帳は\", answer[p], \"円\")\n",
        "\n"
      ],
      "metadata": {
        "id": "oCkOOHT0fr9G"
      },
      "execution_count": null,
      "outputs": []
    },
    {
      "cell_type": "markdown",
      "metadata": {
        "id": "CYWW1BUb8n1_"
      },
      "source": [
        "###年齢"
      ]
    },
    {
      "cell_type": "markdown",
      "metadata": {
        "id": "MinuDtdp8n2A"
      },
      "source": [
        "---\n",
        "Q?\n",
        "\n",
        "6年前は，父と母と兄の年齢の和が，私の年齢の13倍でした。\n",
        "\n",
        "今は，3人の年齢の和が，私の年齢の7倍です。\n",
        "\n",
        "6年前の私の年齢は？\n",
        "\n"
      ]
    },
    {
      "cell_type": "markdown",
      "source": [
        "ーーーーーーーーーーーーーーーーーーーーーーーーーーーーーーーーーーーーーーーー\n",
        "\n",
        "既に解いた問題なので，ここでは\n",
        "\n",
        "＜sympyによる解法＞\n",
        "\n",
        "sympyからvarとsolveをimport(インポート)\n",
        "\n",
        "6年前の私(`i`)の年齢iと，3人の年齢の和`s`(sumの頭文字）を\n",
        "\n",
        "`var()`で変数とするとことわりを入れる(宣言する）\n",
        "\n",
        "\\\n",
        "(左辺)＝0となるように条件の式を変形することがポイント\n",
        "\n",
        "\\\n",
        "6年前について，s = i * 13 より，i * 13 - s = 0と式を変形し，左辺を`E1`に代入\n",
        "\n",
        "\\\n",
        "今について，(i + 6) * 7 = s + 3 * 6 より，s + 3 * 6 - (i + 6) * 7 = 0とし，左辺を`E2`に代入\n",
        "\n",
        "\\\n",
        "E1,E2をsympyのなかのsolveプログラムでi,sを求める\n",
        "\n",
        "\\\n",
        "`answer`は`{i:4, s:52}`と辞書型になるので，`answer[i]`として，キーをして値を取り出す\n"
      ],
      "metadata": {
        "id": "Xtj0zCaDJUS7"
      }
    },
    {
      "cell_type": "code",
      "metadata": {
        "id": "v-PCKRae8n2B"
      },
      "source": [
        "#sample\n",
        "\n",
        "from sympy import var, solve\n",
        "\n",
        "var(\"i,s\")\n",
        "\n",
        "E1 = i * 13 - s\n",
        "E2 = s + 3 * 6 - (i + 6) * 7\n",
        "\n",
        "answer = solve([E1, E2],[i, s])\n",
        "\n",
        "print(answer)\n",
        "\n",
        "print(answer[i], '歳')       #answerの中身は{i:4, s:52}となるので，私の年齢iだけ取り出して出力\n",
        "\n"
      ],
      "execution_count": null,
      "outputs": []
    },
    {
      "cell_type": "markdown",
      "metadata": {
        "id": "h7auvcPqAtd1"
      },
      "source": [
        "###損益"
      ]
    },
    {
      "cell_type": "markdown",
      "metadata": {
        "id": "sAwH3tLrAtd1"
      },
      "source": [
        "---\n",
        "Q?\n",
        "\n",
        "原価の3割の利益を見込んで定価をつけた品物を定価の1割引きで売ったところ\n",
        "\n",
        "255円の利益がありました。\n",
        "\n",
        "定価はいくら？\n"
      ]
    },
    {
      "cell_type": "markdown",
      "source": [
        "ーーーーーーーーーーーーーーーーーーーーーーーーーーーーーーーーーーーーーーーー\n",
        "\n",
        "＜sympyによる解法＞\n",
        "\n",
        "sympyから，varとsolveをimport(インポート)\n",
        "\n",
        "\\\n",
        "原価`c`(Cost)を`var()`で変数とするとことわりを入れる(宣言する）\n",
        "\n",
        "定価は原価の3割の利益を見込むから，`c * (1 + 0.3)`で，定価の1割引きは，`c * (1 + 0.3) * (1 - 0.1)\n",
        "\n",
        "売値－原価＝利益だから，`c * (1 + 0.3) * (1 - 0.1) - c = 255`より，\n",
        "\n",
        "`c * (1 + 0.3) * (1 - 0.1) - c - 255 = 0`と変形し，左辺を変数`E`に代入\n",
        "\n",
        "`E`をsympyのなかの`solve`プログラムで`c`を求めて，cは原価で，求めるのは定価だから，\n",
        "\n",
        "定価 = c * 1.3を出力\n",
        "\n",
        "前の問題と違うのは，この問題では，`var`で定めた変数はcだけで，\n",
        "\n",
        "その場合は，solveで解いた答は辞書ではなくリストになっているので，\n",
        "\n",
        "`c[0]`と書いて，リストCの1番目(表示は[0])の要素を取り出す\n",
        "\n",
        "\\\n",
        "なお，cの型は`float=小数(浮動小数点数）`になっているので，`int=整数`に直して出力\n",
        "\n"
      ],
      "metadata": {
        "id": "LimNHAJzM8ls"
      }
    },
    {
      "cell_type": "code",
      "metadata": {
        "id": "8FoTdNs_Atd3"
      },
      "source": [
        "#sample\n",
        "\n",
        "from sympy import var, solve\n",
        "\n",
        "var(\"c\")\n",
        "\n",
        "E = c * (1+0.3) * (1 - 0.1) - c - 255\n",
        "\n",
        "c = solve(E)\n",
        "\n",
        "#print(c[0]*1.3,'円')        \n",
        "\n",
        "print(int(c[0]*1.3),'円')\n",
        "\n"
      ],
      "execution_count": null,
      "outputs": []
    },
    {
      "cell_type": "markdown",
      "source": [
        "###和と差　平均点"
      ],
      "metadata": {
        "id": "k-xNilYwQOji"
      }
    },
    {
      "cell_type": "markdown",
      "metadata": {
        "id": "eVKMNotSoGX7"
      },
      "source": [
        "---\n",
        "Q?\n",
        "\n",
        "35人のクラスで英語のテストを行ったところ，全体の平均点は60点\n",
        "\n",
        "得点上位10人の平均点と，残り25人の平均点は14点の差がありました\n",
        "\n",
        "得点上位10人の平均点は？"
      ]
    },
    {
      "cell_type": "markdown",
      "metadata": {
        "id": "eZZxXuaCSMs2"
      },
      "source": [
        "ーーーーーーーーーーーーーーーーーーーーーーーーーーーーーーーーーーーーーーーー\n",
        "\n",
        "この問題をsympyを利用して解く\n",
        "\n",
        "\\\n",
        "sympyからvar,solveをimport\n",
        "\n",
        "    from sympy import var, solve\n",
        "\n",
        "得点上位10人の平均点を`x`を`var()`で変数宣言（変数として登録するみたいなこと）\n",
        "\n",
        "    var('x')\n",
        "\n",
        "問題文から合計点を計算すると，\n",
        "\n",
        "10人の平均点はxで，25人の平均点はxより14点低く，その和は全体の合計点\n",
        "\n",
        "また，35人全体の平均点が60点だから合計点は，60 × 35\n",
        "\n",
        "両方とも合計点は等しくなるから\n",
        "\n",
        "`10 × x + 25 × (x - 14) = 60 × 35`\n",
        "\n",
        "sympyで解くために(左辺) = 0 の式のかたちにして，\n",
        "\n",
        "それを`E`(これも変数だから自分で決める）に入れる\n",
        "\n",
        "    E = 10 * x + 25 * (x - 14) - 2100\n",
        "\n",
        "`E`を`solve`に入れて`x`を求めて`answer`に入れる\n",
        "\n",
        "    answer = solve(E)\n",
        "\n",
        "上の問題と同じで，`answer`はリスト型になっていて，それを`print`で出力すると\n",
        "\n",
        "    [70]\n",
        "\n",
        "となる\n",
        "\n",
        "これでもいいんですが，普通に整数で表示するために，70はリストの1番目＝0番目なので，\n",
        "\n",
        "    print(answer[0])\n",
        "\n",
        "とすると，`70`と表示される\n",
        "\n"
      ]
    },
    {
      "cell_type": "code",
      "metadata": {
        "id": "d1timdoqwhBq"
      },
      "source": [
        "#sample\n",
        "\n",
        "from sympy import var, solve\n",
        "\n",
        "var('x')\n",
        "\n",
        "E = 10 * x + 25 * (x - 14) - 2100\n",
        "\n",
        "answer = solve(E)\n",
        "\n",
        "print(answer[0], '点')\n",
        "\n"
      ],
      "execution_count": null,
      "outputs": []
    },
    {
      "cell_type": "markdown",
      "source": [
        "###和と差　階段でじゃんけん"
      ],
      "metadata": {
        "id": "FiR5lGRGQVG4"
      }
    },
    {
      "cell_type": "markdown",
      "metadata": {
        "id": "BLereLw7TsbG"
      },
      "source": [
        "---\n",
        "Q?\n",
        "\n",
        "長い階段の途中の同じ場所からイチゴ(strawberryストロベリー）とチョコレート(chocolate)の2人\n",
        "\n",
        "がじゃんけん遊びをしました。\n",
        "\n",
        "勝った人は3段上り，負けた人は1段降りることにして50回じゃんけんをしたところ，\n",
        "\n",
        "イチゴはチョコより48段上にいました。\n",
        "\n",
        "引き分けは回数に入れないとすると，イチゴははじめの場所より何段上または下にいますか？\n"
      ]
    },
    {
      "cell_type": "markdown",
      "source": [
        "ーーーーーーーーーーーーーーーーーーーーーーーーーーーーーーーーーーーーーーーー\n",
        "\n",
        "＜算数解法＞\n",
        "\n",
        "1回のじゃんけんで3＋1＝4段の差ができる。\n",
        "\n",
        "50回全部イチゴが勝った場合は，イチゴはチョコより(3＋1)×50＝200段上にいる。\n",
        "\n",
        "実際は48段なので，その差は200－48＝152段。\n",
        "\n",
        "イチゴが1回勝つのではなく逆に負ける場合は，\n",
        "\n",
        "4段上ではなく4段下になるから合計8段違うことになる。\n",
        "\n",
        "152段÷8段＝19回だけイチゴは負けたことが分かる。\n",
        "\n",
        "イチゴは50－19＝31回勝ち，19回負けたから，\n",
        "\n",
        "3×31－1×19＝74段上・・・(答)\n",
        "\n",
        "\\\n",
        "＜Python/sympy＞\n",
        "\n",
        "イチゴがx回，チョコがy回勝ったとして条件を式で表すと\n",
        "\n",
        "2人が勝った回数の合計は50回になるから\n",
        "\n",
        "x ∔ y ＝ 50  →   x + y － 50 = 0  この式の(左辺）を`E1`に入れる\n",
        "\n",
        "イチゴが上がった段数は，x × 3 - y × 1　で，チョコが上がった段数は，y × 3 - x × 1\n",
        "\n",
        "その差が48段だから，(x × 3 - y × 1) - (y × 3 - x × 1) = 48\n",
        "\n",
        "(x × 3 - y × 1) - (y × 3 - x × 1) - 48 = 0 だから，この式の(左辺)を`E2`に入れる\n",
        "\n",
        "`E1`と`E2`を`solve`にいれて，`x`を`y`求めて，答えを`answer`に代入\n",
        "\n",
        "その場合のコードは\n",
        "\n",
        "    answer = solve([E1, E2], [x ,y])\n",
        "\n",
        "求めるのは，イチゴが何段上にいるかだから，イチゴの段数を`s_step`として\n",
        "\n",
        "辞書型変数answerで，`[x]`と`[y]`のキーでペアの数を指定して表示\n",
        "\n",
        "チョコがy回勝っているので，イチゴはy回負けているから\n",
        "\n",
        "計算式，`3 * answer[x] - 1 * answer[y]`を入れる\n",
        "\n",
        "最後に`s_step`を出力\n",
        "\n"
      ],
      "metadata": {
        "id": "H6S2580sm18q"
      }
    },
    {
      "cell_type": "code",
      "metadata": {
        "id": "5oBw2RDZTwob"
      },
      "source": [
        "#sample\n",
        "\n",
        "from sympy import var, solve\n",
        "\n",
        "var(\"x y\")     #var(\"x, y\")とカンマ有りでもいい\n",
        "\n",
        "E1 = x + y - 50\n",
        "E2 = (x * 3 - y * 1) - (y * 3 - x * 1) - 48\n",
        "\n",
        "answer = solve([E1, E2],[x, y])\n",
        "\n",
        "s_step = 3 * answer[x] - 1 * answer[y]\n",
        "\n",
        "print(s_step, '段上にいる')\n",
        "\n",
        "#s_stepに代入せずに，print(3 * answer[x] - 1 * answer[y], '段上にいる')でもOK\n",
        "\n"
      ],
      "execution_count": null,
      "outputs": []
    },
    {
      "cell_type": "markdown",
      "metadata": {
        "id": "fsg4zN8hXoBk"
      },
      "source": [
        "###仕事算"
      ]
    },
    {
      "cell_type": "markdown",
      "metadata": {
        "id": "m6FGIJ5GQJhQ"
      },
      "source": [
        "---\n",
        "Q?\n",
        "\n",
        "10人でやると30分で終わる予定の仕事を，実際には2人が少し遅れて作業に参加したため，\n",
        "\n",
        "はじめのうちは8人で作業し，全部で32分かかりました。\n",
        "\n",
        "1分間でできる仕事の量は10人全員が同じとすると，遅れてきた2人が作業をした時間は何分間？\n"
      ]
    },
    {
      "cell_type": "markdown",
      "metadata": {
        "id": "Dchm9hAbzys0"
      },
      "source": [
        "ーーーーーーーーーーーーーーーーーーーーーーーーーーーーーーーーーーーーーーーー\n",
        "\n",
        "＜算数解法＞\n",
        "\n",
        "1人の1分間の仕事量を1とすると，この仕事全部の仕事量は1×10×30＝300\n",
        "\n",
        "8人の32分間の仕事量は1×8×32＝256で，300－256＝44は2人がした仕事量\n",
        "\n",
        "44÷2＝22分間・・・(答)\n",
        "\n",
        "\n",
        "\\\n",
        "＜Python＞\n",
        "\n",
        "2人の作業時間は多くて32分だから，0~32の時間を順番に変数`x`に入れて\n",
        "\n",
        "全部の場合を数え上げ，条件にあてはまるxがある場合は出力する\n"
      ]
    },
    {
      "cell_type": "code",
      "metadata": {
        "id": "zkJAd3v8_tcV"
      },
      "source": [
        "#sample\n",
        "\n",
        "for x in range(33) :\n",
        "  if 8 * 32 + 2 * x == 10 * 30 :\n",
        "    print(x, '分間')\n",
        "    break"
      ],
      "execution_count": null,
      "outputs": []
    },
    {
      "cell_type": "markdown",
      "source": [
        "＜Python/sympy＞\n",
        "\n",
        "sympyからvarとsolveをimport\n",
        "\n",
        "2人の仕事時間`x`を`var()`で変数とするとことわりを入れる(宣言する）\n",
        "\n",
        "条件を式で表すと\n",
        "\n",
        "`8 * 32 + 2 * x = 10 * 30` より，`8 * 32 + 2 * x - 300 = 0`とし，左辺を`E`に\n",
        "\n",
        "`E`をsympyのなかの`solve`プログラムで`x`を求める\n",
        "\n",
        "そのままだとリスト表示になるので，はずすには，\n",
        "\n",
        "変数`a`にリスト`answer`の1番目の要素を入れてから出力\n",
        "\n",
        "または，`print(answer[0])`\n",
        "\n"
      ],
      "metadata": {
        "id": "H_6IkRMF1MqK"
      }
    },
    {
      "cell_type": "code",
      "source": [
        ""
      ],
      "metadata": {
        "id": "Yb318z_cVG0k"
      },
      "execution_count": null,
      "outputs": []
    },
    {
      "cell_type": "code",
      "metadata": {
        "id": "0_fbkRKtAijq"
      },
      "source": [
        "#smple\n",
        "\n",
        "from sympy import var, solve\n",
        "\n",
        "var(\"x\")\n",
        "\n",
        "E = 8 * 32 + 2 * x - 300\n",
        "\n",
        "answer = solve(E)\n",
        "\n",
        "print(answer, '分間')\n",
        "\n",
        "a = answer[0]               #answerにリストで入っているので取り出してint変数に入れて\n",
        "                                   #表示すると[  ]が取れる\n",
        "print(a, '分間')\n",
        "\n"
      ],
      "execution_count": null,
      "outputs": []
    },
    {
      "cell_type": "markdown",
      "metadata": {
        "id": "FkUedMVLzL8P"
      },
      "source": [
        "---\n",
        "Q?\n",
        "\n",
        "プリン(puddingプディング）が50日で仕上げる仕事を，クッキー(cookieクッキｲ）は75日かかります。\n",
        "\n",
        "この仕事を，2人がいっしょに始めましたが，途中でクッキーが何日か休んだので，\n",
        "\n",
        "仕上がるまでに40日かかりました。\n",
        "\n",
        "クッキーは何日休んだ？\n"
      ]
    },
    {
      "cell_type": "markdown",
      "metadata": {
        "id": "1o7BLwhz3LDq"
      },
      "source": [
        "ーーーーーーーーーーーーーーーーーーーーーーーーーーーーーーーーーーーーーーーー\n",
        "\n",
        "＜算数解法＞\n",
        "\n",
        "この仕事量を150とすると，プリン，クッキーの1日の仕事量は3，2\n",
        "\n",
        "プリンは休まずに40日働いたので3×40＝120で，残りの150-120=30はクッキーがやった量で，30÷2＝15日\n",
        "\n",
        "よって，クッキーが休んだ日数は，は40－15＝25日・・・(答)\n",
        "\n",
        "\\\n",
        "＜Python＞\n",
        "\n",
        "1～40の日数を変数`c`で取り出して\n",
        "\n",
        "条件にあうcがある場合は，`40 -c`を出力\n",
        "\n",
        "\n",
        "\n"
      ]
    },
    {
      "cell_type": "code",
      "source": [
        ""
      ],
      "metadata": {
        "id": "GosWWDSGXoBm"
      },
      "execution_count": null,
      "outputs": []
    },
    {
      "cell_type": "code",
      "source": [
        "#sample\n",
        "\n",
        "for c in range(41):\n",
        "  if 3 * 40 + 2 * c == 150 :\n",
        "    print(40 - c, '日')\n",
        "  "
      ],
      "metadata": {
        "id": "_ZGd3Fjq7KqM"
      },
      "execution_count": null,
      "outputs": []
    },
    {
      "cell_type": "markdown",
      "source": [
        "＜Python/sympy＞\n",
        "\n",
        "sympyを使う場合の手順も今までの問題と同じ\n",
        "\n"
      ],
      "metadata": {
        "id": "kLXe3kwQ8Ux2"
      }
    },
    {
      "cell_type": "code",
      "source": [
        "#sample\n",
        "\n",
        "from sympy import var, solve\n",
        "\n",
        "var('c')\n",
        "\n",
        "E = 3 * 40 + 2 * c - 150 \n",
        "\n",
        "answer = solve(E)\n",
        "a = answer[0]\n",
        "\n",
        "print(40 - a, '日')\n"
      ],
      "metadata": {
        "id": "9t8mJxrJ8KaE"
      },
      "execution_count": null,
      "outputs": []
    },
    {
      "cell_type": "markdown",
      "metadata": {
        "id": "Nf5rVSJzhCIb"
      },
      "source": [
        "###仕事算"
      ]
    },
    {
      "cell_type": "markdown",
      "source": [
        "###float"
      ],
      "metadata": {
        "id": "PvXkHIAMhCIb"
      }
    },
    {
      "cell_type": "markdown",
      "metadata": {
        "id": "1Ym2anOX_roH"
      },
      "source": [
        "---\n",
        "Q?\n",
        "\n",
        "Ａ，Ｂ2人がある仕事をします。Ａ，Ｂがいっしょにこの仕事をすると５時間かかります。\n",
        "\n",
        "先にAが１人でこの仕事を4時間して，その後Ｂが１人で残りの仕事をするとさらに７時間かかります。\n",
        "\n",
        "それぞれ１人でこの仕事をすると何時間かかりますか。\n",
        "\n",
        "\n"
      ]
    },
    {
      "cell_type": "markdown",
      "metadata": {
        "id": "4csk3yI2XyZN"
      },
      "source": [
        "ーーーーーーーーーーーーーーーーーーーーーーーーーーーーーーーーーーーーーーーー\n",
        "\n",
        "＜算数解法＞\n",
        "\n",
        "\n",
        "\n",
        "(答）A:7.5時間　B:15時間\n",
        "\n",
        "ＡとＢの１時間あたりの仕事量をアルファベットをそのまま使って，\n",
        "\n",
        "それぞれＡ，Ｂとして全体の仕事量を式で表す。\n",
        "\n",
        "(A + B) × 5 ＝ A × 5 ＋ B × 5…①\n",
        "\n",
        "さらにA × 4 ＋ B × 7…②\n",
        "\n",
        "➀＝②より，A：B＝2：1\n",
        "\n",
        "全体は(2 + 1) × 5 ＝ 15で，\n",
        "\n",
        "Ａは，15 ÷ 2 ＝ 7.5時間・・・(答)\n",
        "\n",
        "Ｂは，15 ÷ 1 ＝ 15時間 ・・・(答)\n",
        "\n",
        "\n",
        "\\\n",
        "＜Python＞\n",
        "\n",
        "sympyを使った方法でも全体の仕事量を1とする\n",
        "\n",
        "sympyからvarとsolveをimport\n",
        "\n",
        "2人のそれぞれの1時間あたりの仕事量を`var('A, B')`で変数宣言\n",
        "\n",
        "条件を式で表して，例の方法で`E1`，`E2`に代入\n",
        "\n",
        "    E1 = A * 5 + B * 5 - 1\n",
        "    E2 = A * 4 + B * 7 - 1\n",
        "\n",
        "これも例の方法で，`solve`で`A`,`B`を求めて`answer`に入れる\n",
        "\n",
        "それぞれのかかる時間の変数に，全体1をA，Bで割った答えを入れる\n"
      ]
    },
    {
      "cell_type": "code",
      "source": [
        ""
      ],
      "metadata": {
        "id": "5kHKs8V8hCIc"
      },
      "execution_count": null,
      "outputs": []
    },
    {
      "cell_type": "code",
      "metadata": {
        "id": "5EDWdv7MBwKp"
      },
      "source": [
        "#sample\n",
        "\n",
        "from sympy import var, solve\n",
        "\n",
        "var('A, B')\n",
        "\n",
        "E1 = A * 5 + B * 5 - 1 \n",
        "\n",
        "E2 = A * 4 + B * 7 - 1\n",
        "\n",
        "answer = solve([E1, E2], [A, B])\n",
        "\n",
        "A_time = 1 / answer[A]\n",
        "\n",
        "B_time = 1 / answer[B]\n",
        "\n",
        "#print('Aは', A_time, '時間')\n",
        "\n",
        "print('Aは', float(A_time), '時間')   #A_timeを小数で出力したいとき\n",
        "\n",
        "#print('Bは', B_time, '時間')\n",
        "\n",
        "print('Bは',float(B_time), '時間')\n"
      ],
      "execution_count": null,
      "outputs": []
    },
    {
      "cell_type": "markdown",
      "metadata": {
        "id": "skZnixQuhkd-"
      },
      "source": [
        "###倍数算"
      ]
    },
    {
      "cell_type": "markdown",
      "metadata": {
        "id": "BdS92IDAiAe-"
      },
      "source": [
        "---\n",
        "Q?\n",
        "\n",
        "AとBは8:5の割合でおこづかいをもらいました。\n",
        "\n",
        "その後，2人は8:3の割合でそれぞれのおこづかいを使ったところ，\n",
        "\n",
        "Aは400円，Bは450円残りました。\n",
        "\n",
        "Bのはじめのおこづかいはいくら？\n",
        "\n"
      ]
    },
    {
      "cell_type": "markdown",
      "metadata": {
        "id": "ph__THA4CI9m"
      },
      "source": [
        "ーーーーーーーーーーーーーーーーーーーーーーーーーーーーーーーーーーーーーーーー\n",
        "\n",
        "＜算数解法＞\n",
        "\n",
        "AとBの使った金額をそれぞれ⑧円，③円として，2人のはじめのおこづかいを式で表す\n",
        "\n",
        "(⑧ + 400) : (③ ＋ 450)＝8 : 5ということだから，この比例式を解いて，\n",
        "\n",
        "＜内項の積＞＝(外項の積＞\n",
        "\n",
        "(③ ＋ 450) × 8 ＝ (⑧ ＋ 400) × 5\n",
        "\n",
        "③ × 8 + 450 × 8 ＝ ⑧ × 5 ＋ 400 × 5\n",
        "\n",
        "➀ × 24 ＋ 3600 ＝ ① × 40 ＋ 2000\n",
        "\n",
        "➀ × 16 ＝ 1600より，① ＝ 100\n",
        "\n",
        "Bのはじめのおこづかいは，③ ＋ 450 ＝ 750円・・・(答)\n",
        "\n",
        "\n",
        "\\\n",
        "＜Python＞\n",
        "\n",
        "for文で解く場合\n",
        "\n",
        "はじめのおこづかいの比がA:B=8:5だから，Aは80円から5000円くらいまでとして，80円きざみ\n",
        "\n",
        "Bは50円から5000円くらいまでとして，50円きざみとする\n",
        "\n",
        "    for a in range(80, 5000, 80) :\n",
        "      for b in range(50, 5000, 50) :\n",
        "\n",
        "あとは条件を問題文の通り\n"
      ]
    },
    {
      "cell_type": "code",
      "source": [
        ""
      ],
      "metadata": {
        "id": "wLozK4Q5Jxoa"
      },
      "execution_count": null,
      "outputs": []
    },
    {
      "cell_type": "code",
      "metadata": {
        "id": "wTG9q2k7bqj8"
      },
      "source": [
        "#sample\n",
        "\n",
        "for a in range(80, 5000, 80) :\n",
        "  for b in range(50, 5000, 50) :\n",
        "    if a * 5 == b * 8 and (a - 400) / 8 == (b - 450) / 3:\n",
        "      print(b, '円')\n",
        "      "
      ],
      "execution_count": null,
      "outputs": []
    },
    {
      "cell_type": "markdown",
      "source": [
        "＜Python/sympy＞\n",
        "\n",
        "はじめのAのおこづかいをa円，Bのおこづかいをb円\n",
        "\n",
        "はじめの金額a:b=8:5より，`a * 5 - b * 8 = 0`とし，左辺を`E1`\n",
        "\n",
        "使った金額の比は(a-400):(b-450)=8:3より，`(a - 400) * 3 - (b - 450) * 8 = 0`とし，左辺を`E2`\n",
        "\n",
        "`E1`,`E2`をsympyのなかのsolveプログラムで`a`,`b`を求める\n"
      ],
      "metadata": {
        "id": "XOXilGPrJZ5I"
      }
    },
    {
      "cell_type": "code",
      "source": [
        ""
      ],
      "metadata": {
        "id": "s35_w7bvJxHn"
      },
      "execution_count": null,
      "outputs": []
    },
    {
      "cell_type": "code",
      "metadata": {
        "id": "8JN6EWolXoWH"
      },
      "source": [
        "#sample\n",
        "\n",
        "from sympy import var, solve\n",
        "\n",
        "var(\"a,b\")\n",
        "\n",
        "E1 = a * 5 - b * 8\n",
        "E2 = (a - 400) * 3 - (b - 450) * 8\n",
        "\n",
        "answer = solve([E1,E2],[a,b])\n",
        "\n",
        "print(answer)\n",
        "\n",
        "print('Bは', answer[b], '円・・・(答)')\n"
      ],
      "execution_count": null,
      "outputs": []
    },
    {
      "cell_type": "markdown",
      "metadata": {
        "id": "S3anFh15sJ5M"
      },
      "source": [
        "---\n",
        "Q?\n",
        "\n",
        "あるクラスの1学期の女子生徒の数はクラスの人数の$\\dfrac{3}{5}$に8人足りませんでした。\n",
        "\n",
        "2学期から男子が2人，女子が2人転校してきて\n",
        "\n",
        "女子生徒の数はクラスの人数の$\\dfrac{3}{7}$になりました。\n",
        "\n",
        "クラスの人数は何人になりましたか？\n"
      ]
    },
    {
      "cell_type": "markdown",
      "metadata": {
        "id": "vNbCmQOcNLQy"
      },
      "source": [
        "ーーーーーーーーーーーーーーーーーーーーーーーーーーーーーーーーーーーーーーーー\n",
        "\n",
        "＜算数解法＞\n",
        "\n",
        "はじめのクラスの人数を⑤人とすると，女子生徒は(③-8)人\n",
        "\n",
        "2学期のクラスの生徒数は(⑤ + 2 + 2)人で，女子生徒は(③ － 8 ＋ 2)人で，\n",
        "\n",
        "クラスの人数：女子の人数＝7: 3だから，\n",
        "\n",
        "(⑤ ＋ 4) : (③ - 6) = 7 : 3 \n",
        "\n",
        "この比例式を解いて,➀ ＝ 9　\n",
        "\n",
        "⑤ ＋ 4 ＝ 9 × 5 ＋ 4 ＝ 49人・・・(答)\n",
        "\n",
        "\n",
        "\\\n",
        "＜Python＞\n",
        "\n",
        "コードセル内に解説\n",
        "\n"
      ]
    },
    {
      "cell_type": "code",
      "source": [
        ""
      ],
      "metadata": {
        "id": "PYUkS-SuJ3op"
      },
      "execution_count": null,
      "outputs": []
    },
    {
      "cell_type": "code",
      "metadata": {
        "id": "NWW3xIQluoHX"
      },
      "source": [
        "#for文で解く場合\n",
        "#クラス(class)の人数を100人くらいまで，女子(girl)の人数を50人くらいまでで調べる\n",
        "#あとは条件を問題文の通りとする\n",
        "\n",
        "for c in range(1,100):\n",
        "  for g in range(1,50):\n",
        "    if g == c * 3/5 - 8 and g + 2 == (c + 4) * 3/7 :\n",
        "      print(c + 4, '人')\n",
        "\n"
      ],
      "execution_count": null,
      "outputs": []
    },
    {
      "cell_type": "markdown",
      "source": [
        "synpyを利用する場合もコードセル内に解説"
      ],
      "metadata": {
        "id": "v1LAgszTwLps"
      }
    },
    {
      "cell_type": "code",
      "metadata": {
        "id": "k9eXt1mIvmcx"
      },
      "source": [
        "#sympyを使う場合，sympyからvarとsolveをimport(インポート)\n",
        "#1学期の人数c(クラスclassの人数）と，g(女子girlの人数）をvar()で変数とするとことわりを入れる(宣言する）\n",
        "#g = c * 3/5 - 8 より，c * 3/5 - 8 - g = 0とし，左辺をE1\n",
        "#2学期について，g + 2 =  (c + 4) * 3/7より，(c + 4) * 3/7 - g - 2 = 0とし，左辺をE2\n",
        "#E1,E2をsolveプログラムでc,gを求める\n",
        "\n",
        "from sympy import var, solve\n",
        "\n",
        "var(\"c,g\")\n",
        "\n",
        "E1 = c * 3/5 - 8 - g\n",
        "E2 = (c + 4) * 3/7 - g - 2\n",
        "\n",
        "answer = solve([E1, E2],[c, g])\n",
        "\n",
        "print(answer)\n",
        "\n",
        "c = answer[c]         #answerの中身は{c:45, g:19}となるので，クラスの人数のcだけ取り出して，改めて変数cに入れる\n",
        "\n",
        "print(c + 4, '人')       #2学期はcより4人増えているのでc+4を表示させる\n",
        "\n"
      ],
      "execution_count": null,
      "outputs": []
    },
    {
      "cell_type": "markdown",
      "metadata": {
        "id": "mMNRCplK2atW"
      },
      "source": [
        "###相当算"
      ]
    },
    {
      "cell_type": "markdown",
      "metadata": {
        "id": "ucBuJz5KGEfh"
      },
      "source": [
        "---\n",
        "Q?\n",
        "\n",
        "A,B,Cの3人でジュースを分けました。Aは全体の$\\dfrac{1}{3}$をもらい，\n",
        "\n",
        "Bはその残りの$\\dfrac{3}{8}$と$50mL$をもらいました。\n",
        "\n",
        "CはBがもらった残りの$\\dfrac{7}{9}$とをもらうと，$100mL$残りました。\n",
        "\n",
        "はじめのジュースは何mLありましたか？\n"
      ]
    },
    {
      "cell_type": "markdown",
      "metadata": {
        "id": "D0nMNAVEUIet"
      },
      "source": [
        "ーーーーーーーーーーーーーーーーーーーーーーーーーーーーーーーーーーーーーーーー\n",
        "\n",
        "＜算数解法＞\n",
        "\n",
        "$100mL$がCがもらった残りの$1-\\dfrac{7}{9}=\\dfrac{2}{9}$だから，\n",
        "\n",
        "Cがもらう前は，$100÷\\dfrac{2}{9}=450mL$\n",
        "\n",
        "$450mL+50mL=500mL$がBがもらう前のジュースの量の$1-\\dfrac{3}{8}=\\dfrac{5}{8}$だから，\n",
        "\n",
        "Bがもらう前は，$500÷\\dfrac{5}{8}=800mL$\n",
        "\n",
        "これがAがもらった残りだから，はじめの量は，$800÷\\dfrac{2}{3}=1200mL$・・・(答)\n",
        "\n",
        "\n",
        "\\\n",
        "＜Python＞\n",
        "\n",
        "for文でsampleのようなコードで正解できますが，非常に時間がかかります\n",
        "\n",
        "時間がかかるコードは効率が悪いので使わないように\n",
        "\n",
        "sympyのコードにすると時間がかからなくなる\n"
      ]
    },
    {
      "cell_type": "code",
      "source": [
        ""
      ],
      "metadata": {
        "id": "5KwaNFRFbYMv"
      },
      "execution_count": null,
      "outputs": []
    },
    {
      "cell_type": "code",
      "metadata": {
        "id": "n5SoUV8ZGKow"
      },
      "source": [
        "#全体＝z mL, A＝a mL，B=b mL，C=c mL\n",
        "#aは全体の1/3だから，z = a * 3\n",
        "#a, b, cはそれぞれ1000mLくらいまでとして計算\n",
        "#非常に時間がかかる\n",
        "\n",
        "for a in range(1, 1000) :\n",
        "  for b in range(1, 1000) :\n",
        "    for c in range(1, 1000) :\n",
        "      z = a * 3\n",
        "      if z == a + b + c + 100 and b == (z - a) * 3/8 + 50 and c == (z - a - b) * 7/9 :\n",
        "        print(z, 'ｍL')\n",
        "    \n"
      ],
      "execution_count": null,
      "outputs": []
    },
    {
      "cell_type": "code",
      "source": [
        ""
      ],
      "metadata": {
        "id": "1x12YCpYbSc6"
      },
      "execution_count": null,
      "outputs": []
    },
    {
      "cell_type": "code",
      "metadata": {
        "id": "4JNHYa3mOjMq"
      },
      "source": [
        "#sympyを使うコードsample\n",
        "#z,a,b,cをvar()で変数とするとことわりを入れる(宣言する）\n",
        "#全体＝z mL，A＝a mL，B=b mL，C=c mLとして問題文を式で表す\n",
        "#z = a + b + c + 100より，z - a - b - c - 100 = 0とし，左辺をE1\n",
        "#a = z * 1/3より，z * 1/3 - a = 0とし，左辺をE2\n",
        "#b = (z - a) * 3/8 + 50より，(z - a) * 3/8 + 50 - b = 0とし，左辺をE3\n",
        "#c = (z - a - b) * 7/9より，(z - a -b) * 7/9 - c = 0とし，左辺をE4\n",
        "#E1,E2,E3,E4をsympyのなかのsolveプログラムでz,a,b,cを求める\n",
        "#answerは辞書型になっているので，求める全体の量のキーのzを指定して，値(バリュー)を出力\n",
        "\n",
        "from sympy import var, solve\n",
        "\n",
        "var(\"z,a,b,c\")\n",
        "\n",
        "E1 = z - a - b - c - 100\n",
        "E2 = z * 1/3 - a\n",
        "E3 = (z - a) * 3/8 + 50 - b\n",
        "E4 = (z - a - b) * 7/9 - c\n",
        "\n",
        "answer = solve([E1,E2,E3,E4],[z,a,b,c])\n",
        "\n",
        "print(answer)\n",
        "\n",
        "print(answer[z], 'mL')\n"
      ],
      "execution_count": null,
      "outputs": []
    },
    {
      "cell_type": "markdown",
      "metadata": {
        "id": "MzvyuIlq2en1"
      },
      "source": [
        "---\n",
        "Q?\n",
        "\n",
        "A, B, C, Dの4人でおはじきを分けました。\n",
        "\n",
        "Aは全体の$\\dfrac{1}{3}$と15個をとり，\n",
        "\n",
        "Bはその残りの$\\dfrac{2}{7}$と5個をとり，\n",
        "\n",
        "CはBのとった残りの$\\dfrac{1}{2}$と5個をとりました。\n",
        "\n",
        "Dの取り分として35個残りました。\n",
        "\n",
        "A, B, Cはそれぞれ何個とりましたか？\n"
      ]
    },
    {
      "cell_type": "markdown",
      "metadata": {
        "id": "5X8SMsRny3S9"
      },
      "source": [
        "ーーーーーーーーーーーーーーーーーーーーーーーーーーーーーーーーーーーーーーーー\n",
        "\n",
        "＜算数解法＞\n",
        "\n",
        "Ｄの35個＋5個＝40個がCがとった後の残りの$\\dfrac{1}{2}$だから，\n",
        "\n",
        "Cの取り分は，$40÷(1-\\dfrac{1}{2})=80$より，80－35＝45個・・・(答)\n",
        "\n",
        "同様にＢ，Ａを求めると，B＝39個，A＝82個・・・(答)\n",
        "\n",
        "\n",
        "\\\n",
        "＜Python＞\n",
        "\n",
        "全体＝z個，A＝a個，B=b個，C=c個，d=35個\n",
        "\n",
        "ただし，問題文から，`z = (a -15) * 3`とわかるので，これを利用\n",
        "\n",
        "あとは＜算数解法＞と同じで，問題文を式で表してif文とする"
      ]
    },
    {
      "cell_type": "code",
      "source": [
        ""
      ],
      "metadata": {
        "id": "3ePsQ1DjbW62"
      },
      "execution_count": null,
      "outputs": []
    },
    {
      "cell_type": "code",
      "metadata": {
        "id": "SJtv7FR67gZz"
      },
      "source": [
        "#sample\n",
        "\n",
        "d = 35\n",
        "\n",
        "for a in range(1, 100) :\n",
        "  for b in range(1, 100) :\n",
        "    for c in range(1, 100) :\n",
        "      z = (a - 15) * 3\n",
        "      if z == a + b + c + d and b == (z - a) * 2/7 + 5 and c == (z - a - b) * 1/2 + 5 :\n",
        "        print('A:',a,'個  ','B:',b,'個  ','C:',c,'個')\n",
        "  "
      ],
      "execution_count": null,
      "outputs": []
    },
    {
      "cell_type": "markdown",
      "source": [
        "＜Python/sympy＞\n",
        "\n"
      ],
      "metadata": {
        "id": "PetCtkdibSc7"
      }
    },
    {
      "cell_type": "code",
      "source": [
        ""
      ],
      "metadata": {
        "id": "fbeKu-yQbWSW"
      },
      "execution_count": null,
      "outputs": []
    },
    {
      "cell_type": "code",
      "metadata": {
        "id": "OhJzNvG_9ZDe"
      },
      "source": [
        "#sample\n",
        "#a,b,cをvar()で変数とするとことわりを入れる(宣言する）\n",
        "#全体＝z個，A＝a個，B=b個，C=c個，d=35個として問題文を式で表す\n",
        "#z = a + b + c + 35より，z - a - b - c - 35 = 0とし，左辺をE1\n",
        "#a = z * 1/3 + 15より，z * 1/3 + 15 - a = 0とし，左辺をE2\n",
        "#b = (z - a) * 2/7 + 5より，(z - a) * 2/7 + 5 - b = 0とし，左辺をE3\n",
        "#c = (z - a - b) * 1/2 + 5より，(z - a -b) * 1/2 + 5 - c = 0とし，左辺をE4\n",
        "#E1,E2,E3,E4をsympyのなかのsolveプログラムでz,a,b,cを求める\n",
        "\n",
        "from sympy import var, solve\n",
        "\n",
        "var(\"z,a,b,c\")\n",
        "\n",
        "E1 = z - a - b - c - 35\n",
        "E2 = z * 1/3 + 15 - a\n",
        "E3 = (z - a) * 2/7 + 5 - b\n",
        "E4 = (z - a - b) * 1/2 + 5 - c\n",
        "\n",
        "answer = solve([E1,E2,E3,E4],[z,a,b,c])\n",
        "\n",
        "print(answer)\n",
        "\n",
        "print('Aは', answer[a], '個，', 'Bは', answer[b], '個，', 'Cは', answer[c], '個')\n"
      ],
      "execution_count": null,
      "outputs": []
    },
    {
      "cell_type": "markdown",
      "metadata": {
        "id": "b2u7mBOXCKQT"
      },
      "source": [
        "---\n",
        "Q?\n",
        "\n",
        "ある会社の男子の社員は全体の$\\dfrac{2}{5}$より42人多く，女子の社員は全体の$\\dfrac{2}{3}$より82人少ないです。\n",
        "\n",
        "この会社の女子の社員の人数は？\n"
      ]
    },
    {
      "cell_type": "markdown",
      "metadata": {
        "id": "f7hwWUwnpTMe"
      },
      "source": [
        "ーーーーーーーーーーーーーーーーーーーーーーーーーーーーーーーーーーーーーーーー\n",
        "\n",
        "＜算数解法＞\n",
        "\n",
        "全体1＝男子＋女子＝$\\dfrac{2}{5}+42＋\\dfrac{2}{3}－82=\\dfrac{16}{15}－40$より，\n",
        "\n",
        "$\\dfrac{1}{15}=40$　したがって，1＝600人\n",
        "\n",
        "女子＝$600×\\dfrac{2}{3}－82＝318人$・・・(答)\n",
        "\n",
        "\\\n",
        "＜Python＞\n",
        "\n",
        "全体 ＝ z個，男子(man) ＝ m人，女子(lady) = l人\n",
        "\n",
        "zは1000人くらい，mとlは500人くらいまでとして計算すると，\n",
        "\n",
        "for文では非常に時間がかかりす。\n",
        "\n",
        "for文でループが多くなり，調べ上げる数の範囲が多くなると，\n",
        "\n",
        "かなり時間がかかってくることがわかります。"
      ]
    },
    {
      "cell_type": "code",
      "source": [
        ""
      ],
      "metadata": {
        "id": "4bhNpvTkbSc8"
      },
      "execution_count": null,
      "outputs": []
    },
    {
      "cell_type": "code",
      "metadata": {
        "id": "yupela2TJdSs"
      },
      "source": [
        "#sample\n",
        "\n",
        "for z in range(1, 1000) :\n",
        "  for m in range(1, 500) :\n",
        "    for l in range(1, 500) :\n",
        "      if z == m + l and m == z * 2/5 + 42 \\\n",
        "        and l == z * 2/3 - 82 :\n",
        "          print(l, '人')\n",
        "    \n"
      ],
      "execution_count": null,
      "outputs": []
    },
    {
      "cell_type": "markdown",
      "source": [
        "問題文から，男子＝全体 × 2/5 + 42より，z＝(m - 42) × 5/2となることを利用"
      ],
      "metadata": {
        "id": "NgUFpWEkri0i"
      }
    },
    {
      "cell_type": "code",
      "source": [
        ""
      ],
      "metadata": {
        "id": "q3bsgFQUbUXg"
      },
      "execution_count": null,
      "outputs": []
    },
    {
      "cell_type": "code",
      "metadata": {
        "id": "uqqKjs9Ao_JO"
      },
      "source": [
        "#ample\n",
        "\n",
        "for m in range(1, 500) :\n",
        "  for l in range(1, 500) :\n",
        "    z = (m - 42) * 5/2\n",
        "    if z == m + l and m == z * 2/5 + 42 \\\n",
        "      and l == z * 2/3 - 82 :\n",
        "        print(l, '人')\n",
        "    \n"
      ],
      "execution_count": null,
      "outputs": []
    },
    {
      "cell_type": "markdown",
      "source": [
        "＜Python/sympy＞\n",
        "\n",
        "forループがなく，逆算の必要もなく，問題文の条件をそのまま式で表すだけなので\n",
        "\n",
        "慣れてくれば，こちらの方がラクで時間もかからない"
      ],
      "metadata": {
        "id": "Q-5qUnukrpcU"
      }
    },
    {
      "cell_type": "code",
      "source": [
        ""
      ],
      "metadata": {
        "id": "OfyzJfiubTsJ"
      },
      "execution_count": null,
      "outputs": []
    },
    {
      "cell_type": "code",
      "metadata": {
        "id": "WgUIiOiGKdbE"
      },
      "source": [
        "#sympyを使ったsample\n",
        "#z,m,lをvar()で変数とするとことわりを入れる(宣言する）\n",
        "#全体＝z人，男子＝m人，女子=l人として問題文を式で表す\n",
        "#z = m ＋ lより，z - m - l = 0とし，左辺をE1\n",
        "#m = z *2/5 + 42より，z * 2/5 + 42 - m = 0とし，左辺をE2\n",
        "#l = z * 2/3 - 82より，z * 2/3 - 82 - l = 0とし，左辺をE3\n",
        "#E1,E2,E3をsympyのなかのsolveプログラムでz,m,lを求める\n",
        "\n",
        "from sympy import var, solve\n",
        "\n",
        "var(\"z m l\")\n",
        "\n",
        "E1 = z - m - l\n",
        "E2 = z * 2/5 + 42 - m\n",
        "E3 = z * 2/3 - 82 -l\n",
        "\n",
        "answer = solve([E1,E2,E3],[z,m,l])\n",
        "\n",
        "print(answer)\n",
        "\n",
        "print('男子は', answer[m], '人，', '女子は', answer[l], '人・・・(答)', '全体は', answer[z], '人')\n"
      ],
      "execution_count": null,
      "outputs": []
    },
    {
      "cell_type": "markdown",
      "source": [
        "---\n",
        "####sympyに関するColabノートは→[こちら](https://colab.research.google.com/github/kalz2q/mycolabnotebooks/blob/master/math_sympy_short.ipynb)"
      ],
      "metadata": {
        "id": "Pmcrbz9ycO_x"
      }
    },
    {
      "cell_type": "markdown",
      "source": [
        "---\n",
        "---\n",
        "#Supplement(サプルメント・補足)"
      ],
      "metadata": {
        "id": "ExtAhDEO4bSf"
      }
    },
    {
      "cell_type": "markdown",
      "source": [
        "---\n",
        "## Colabで英語練習"
      ],
      "metadata": {
        "id": "LBPJIYYO4oAc"
      }
    },
    {
      "cell_type": "markdown",
      "source": [
        "###[Qiita google colab で googletrans](https://qiita.com/dauuricus/items/917f37aab0afac0e9171)"
      ],
      "metadata": {
        "id": "OD-M_EeXZvMX"
      }
    },
    {
      "cell_type": "code",
      "source": [
        "#下のセルを実行　!pip install googletrans"
      ],
      "metadata": {
        "id": "-xWeA4QEZvMY"
      },
      "execution_count": null,
      "outputs": []
    },
    {
      "cell_type": "code",
      "source": [
        "pip install googletrans==4.0.0-rc1"
      ],
      "metadata": {
        "id": "V9-8cWubZvMY",
        "colab": {
          "base_uri": "https://localhost:8080/"
        },
        "outputId": "59cbab9a-fcc8-4a74-f441-624412961858"
      },
      "execution_count": null,
      "outputs": [
        {
          "output_type": "stream",
          "name": "stdout",
          "text": [
            "Looking in indexes: https://pypi.org/simple, https://us-python.pkg.dev/colab-wheels/public/simple/\n",
            "Collecting googletrans==4.0.0-rc1\n",
            "  Downloading googletrans-4.0.0rc1.tar.gz (20 kB)\n",
            "Collecting httpx==0.13.3\n",
            "  Downloading httpx-0.13.3-py3-none-any.whl (55 kB)\n",
            "\u001b[K     |████████████████████████████████| 55 kB 1.9 MB/s \n",
            "\u001b[?25hCollecting hstspreload\n",
            "  Downloading hstspreload-2021.12.1-py3-none-any.whl (1.3 MB)\n",
            "\u001b[K     |████████████████████████████████| 1.3 MB 8.4 MB/s \n",
            "\u001b[?25hCollecting httpcore==0.9.*\n",
            "  Downloading httpcore-0.9.1-py3-none-any.whl (42 kB)\n",
            "\u001b[K     |████████████████████████████████| 42 kB 617 kB/s \n",
            "\u001b[?25hRequirement already satisfied: chardet==3.* in /usr/local/lib/python3.7/dist-packages (from httpx==0.13.3->googletrans==4.0.0-rc1) (3.0.4)\n",
            "Collecting sniffio\n",
            "  Downloading sniffio-1.2.0-py3-none-any.whl (10 kB)\n",
            "Collecting rfc3986<2,>=1.3\n",
            "  Downloading rfc3986-1.5.0-py2.py3-none-any.whl (31 kB)\n",
            "Requirement already satisfied: idna==2.* in /usr/local/lib/python3.7/dist-packages (from httpx==0.13.3->googletrans==4.0.0-rc1) (2.10)\n",
            "Requirement already satisfied: certifi in /usr/local/lib/python3.7/dist-packages (from httpx==0.13.3->googletrans==4.0.0-rc1) (2022.5.18.1)\n",
            "Collecting h2==3.*\n",
            "  Downloading h2-3.2.0-py2.py3-none-any.whl (65 kB)\n",
            "\u001b[K     |████████████████████████████████| 65 kB 3.6 MB/s \n",
            "\u001b[?25hCollecting h11<0.10,>=0.8\n",
            "  Downloading h11-0.9.0-py2.py3-none-any.whl (53 kB)\n",
            "\u001b[K     |████████████████████████████████| 53 kB 2.2 MB/s \n",
            "\u001b[?25hCollecting hpack<4,>=3.0\n",
            "  Downloading hpack-3.0.0-py2.py3-none-any.whl (38 kB)\n",
            "Collecting hyperframe<6,>=5.2.0\n",
            "  Downloading hyperframe-5.2.0-py2.py3-none-any.whl (12 kB)\n",
            "Building wheels for collected packages: googletrans\n",
            "  Building wheel for googletrans (setup.py) ... \u001b[?25l\u001b[?25hdone\n",
            "  Created wheel for googletrans: filename=googletrans-4.0.0rc1-py3-none-any.whl size=17416 sha256=27740ece85c2a24b5c27e70f63f7425f15707eba3e1e24df68d785ffee1a741e\n",
            "  Stored in directory: /root/.cache/pip/wheels/43/34/00/4fe71786ea6d12314b29037620c36d857e5d104ac2748bf82a\n",
            "Successfully built googletrans\n",
            "Installing collected packages: hyperframe, hpack, sniffio, h2, h11, rfc3986, httpcore, hstspreload, httpx, googletrans\n",
            "Successfully installed googletrans-4.0.0rc1 h11-0.9.0 h2-3.2.0 hpack-3.0.0 hstspreload-2021.12.1 httpcore-0.9.1 httpx-0.13.3 hyperframe-5.2.0 rfc3986-1.5.0 sniffio-1.2.0\n"
          ]
        }
      ]
    },
    {
      "cell_type": "code",
      "source": [
        "from googletrans import Translator\n",
        "translator = Translator()\n",
        "\n",
        "trans_en = translator.translate('明後日')\n",
        "print(trans_en.text)"
      ],
      "metadata": {
        "colab": {
          "base_uri": "https://localhost:8080/"
        },
        "outputId": "24736f8e-56d1-429e-cc3d-b0e779b4412c",
        "id": "AR134udoZvMY"
      },
      "execution_count": null,
      "outputs": [
        {
          "output_type": "stream",
          "name": "stdout",
          "text": [
            "day after tomorrow\n"
          ]
        }
      ]
    },
    {
      "cell_type": "code",
      "source": [
        "from googletrans import Translator\n",
        "translator = Translator()\n",
        "\n",
        "trans_en = translator.translate('コンピュータは小数点の計算が苦手?')\n",
        "\n",
        "\n",
        "print(trans_en.text)"
      ],
      "metadata": {
        "colab": {
          "base_uri": "https://localhost:8080/"
        },
        "outputId": "915ea8cd-3e26-43dd-fd1b-22b9ffeb1d49",
        "id": "SCzILrmFZvMZ"
      },
      "execution_count": null,
      "outputs": [
        {
          "output_type": "stream",
          "name": "stdout",
          "text": [
            "Are you not good at calculating decimal points for computers?\n"
          ]
        }
      ]
    },
    {
      "cell_type": "markdown",
      "metadata": {
        "id": "md7z5hTF4rws"
      },
      "source": [
        "---\n",
        "###発音や聞き取り練習に\n"
      ]
    },
    {
      "cell_type": "markdown",
      "metadata": {
        "id": "YHxTNH7Q9oyN"
      },
      "source": [
        "####英語の発音を聞いてみる"
      ]
    },
    {
      "cell_type": "markdown",
      "metadata": {
        "id": "cLYoMG7o3Kgp"
      },
      "source": [
        "[YouGlish](https://youglish.com/pronounce/laboratory/english?) "
      ]
    },
    {
      "cell_type": "markdown",
      "source": [
        "下のpip install gTTSを▶してからその下のコードを▶して，\"Enter your text\"が出たら発音を聞きたい英語・英文・英文章などインプット・貼り付けしてEnter"
      ],
      "metadata": {
        "id": "NsUunvY79oyN"
      }
    },
    {
      "cell_type": "code",
      "metadata": {
        "colab": {
          "base_uri": "https://localhost:8080/"
        },
        "outputId": "d0b0b89c-e890-42ad-e9e9-42b4b4327ffe",
        "id": "e83i75219oyN"
      },
      "source": [
        "pip install gTTS"
      ],
      "execution_count": null,
      "outputs": [
        {
          "output_type": "stream",
          "text": [
            "Collecting gTTS\n",
            "  Downloading https://files.pythonhosted.org/packages/5f/b9/94e59337107be134b21ce395a29fc0715b707b560108d6797de2d93e1178/gTTS-2.2.2-py3-none-any.whl\n",
            "Requirement already satisfied: click in /usr/local/lib/python3.7/dist-packages (from gTTS) (7.1.2)\n",
            "Requirement already satisfied: six in /usr/local/lib/python3.7/dist-packages (from gTTS) (1.15.0)\n",
            "Requirement already satisfied: requests in /usr/local/lib/python3.7/dist-packages (from gTTS) (2.23.0)\n",
            "Requirement already satisfied: chardet<4,>=3.0.2 in /usr/local/lib/python3.7/dist-packages (from requests->gTTS) (3.0.4)\n",
            "Requirement already satisfied: certifi>=2017.4.17 in /usr/local/lib/python3.7/dist-packages (from requests->gTTS) (2020.12.5)\n",
            "Requirement already satisfied: idna<3,>=2.5 in /usr/local/lib/python3.7/dist-packages (from requests->gTTS) (2.10)\n",
            "Requirement already satisfied: urllib3!=1.25.0,!=1.25.1,<1.26,>=1.21.1 in /usr/local/lib/python3.7/dist-packages (from requests->gTTS) (1.24.3)\n",
            "Installing collected packages: gTTS\n",
            "Successfully installed gTTS-2.2.2\n"
          ],
          "name": "stdout"
        }
      ]
    },
    {
      "cell_type": "code",
      "source": [
        "from gtts import gTTS\n",
        "from IPython.display import Audio\n",
        "\n",
        "text = input(\"Enter your text: \")\n",
        "tts = gTTS(text)\n",
        "tts.save(\"user_input.mp3\")\n",
        "\n",
        "sound_file = 'user_input.mp3'\n",
        "Audio(sound_file, autoplay=True)\n"
      ],
      "metadata": {
        "colab": {
          "base_uri": "https://localhost:8080/",
          "height": 114
        },
        "outputId": "55e93584-10e7-49bc-eb53-74f208e1db8a",
        "id": "QzOGbLs_9oyN"
      },
      "execution_count": null,
      "outputs": [
        {
          "name": "stdout",
          "output_type": "stream",
          "text": [
            "Enter your text: 1.The United States and the DPRK commit to establish new U.S.-DPRK relations in accordance with the desire of the peoples of the two countries for peace and prosperity.  2.The United States and the DPRK will join their efforts to build a lasting and stable peace regime on the Korean Peninsula.\n"
          ]
        },
        {
          "output_type": "execute_result",
          "data": {
            "text/plain": [
              "<IPython.lib.display.Audio object>"
            ],
            "text/html": [
              "\n",
              "                <audio controls=\"controls\" autoplay=\"autoplay\">\n",
              "                    <source src=\"data:audio/mpeg;base64,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\" type=\"audio/mpeg\" />\n",
              "                    Your browser does not support the audio element.\n",
              "                </audio>\n",
              "              "
            ]
          },
          "metadata": {},
          "execution_count": 14
        }
      ]
    },
    {
      "cell_type": "markdown",
      "metadata": {
        "id": "L_F951Oe-ADW"
      },
      "source": [
        "###音声変換"
      ]
    },
    {
      "cell_type": "markdown",
      "metadata": {
        "id": "oLvxP-9Z-ADW"
      },
      "source": [
        "[Google Colaboratoryで遊ぶ準備](https://blog.negativemind.com/2020/07/25/google-colaboratory/)"
      ]
    },
    {
      "cell_type": "code",
      "metadata": {
        "colab": {
          "base_uri": "https://localhost:8080/"
        },
        "outputId": "d0b0b89c-e890-42ad-e9e9-42b4b4327ffe",
        "id": "C79tscVF-ADW"
      },
      "source": [
        "!pip install gTTS"
      ],
      "execution_count": null,
      "outputs": [
        {
          "output_type": "stream",
          "text": [
            "Collecting gTTS\n",
            "  Downloading https://files.pythonhosted.org/packages/5f/b9/94e59337107be134b21ce395a29fc0715b707b560108d6797de2d93e1178/gTTS-2.2.2-py3-none-any.whl\n",
            "Requirement already satisfied: click in /usr/local/lib/python3.7/dist-packages (from gTTS) (7.1.2)\n",
            "Requirement already satisfied: six in /usr/local/lib/python3.7/dist-packages (from gTTS) (1.15.0)\n",
            "Requirement already satisfied: requests in /usr/local/lib/python3.7/dist-packages (from gTTS) (2.23.0)\n",
            "Requirement already satisfied: chardet<4,>=3.0.2 in /usr/local/lib/python3.7/dist-packages (from requests->gTTS) (3.0.4)\n",
            "Requirement already satisfied: certifi>=2017.4.17 in /usr/local/lib/python3.7/dist-packages (from requests->gTTS) (2020.12.5)\n",
            "Requirement already satisfied: idna<3,>=2.5 in /usr/local/lib/python3.7/dist-packages (from requests->gTTS) (2.10)\n",
            "Requirement already satisfied: urllib3!=1.25.0,!=1.25.1,<1.26,>=1.21.1 in /usr/local/lib/python3.7/dist-packages (from requests->gTTS) (1.24.3)\n",
            "Installing collected packages: gTTS\n",
            "Successfully installed gTTS-2.2.2\n"
          ],
          "name": "stdout"
        }
      ]
    },
    {
      "cell_type": "code",
      "metadata": {
        "colab": {
          "base_uri": "https://localhost:8080/",
          "height": 75
        },
        "outputId": "9b385da3-36df-4c81-e9d0-39a02e9acfc6",
        "id": "9VDdZEnm-ADX"
      },
      "source": [
        "from gtts import gTTS\n",
        "from IPython.display import Audio\n",
        "tts = gTTS('hello joyjit')\n",
        "tts.save('1.wav')\n",
        "sound_file = '1.wav'\n",
        "Audio(sound_file, autoplay=True)\n",
        "\n"
      ],
      "execution_count": null,
      "outputs": [
        {
          "output_type": "execute_result",
          "data": {
            "text/html": [
              "\n",
              "                <audio controls=\"controls\" autoplay=\"autoplay\">\n",
              "                    <source src=\"data:audio/x-wav;base64,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\" type=\"audio/x-wav\" />\n",
              "                    Your browser does not support the audio element.\n",
              "                </audio>\n",
              "              "
            ],
            "text/plain": [
              "<IPython.lib.display.Audio object>"
            ]
          },
          "metadata": {
            "tags": []
          },
          "execution_count": 2
        }
      ]
    },
    {
      "cell_type": "markdown",
      "metadata": {
        "id": "3XiRizcc-ADX"
      },
      "source": [
        "[テキスト文字列を音声に変換](https://nori-life-log.com/%E3%80%90python%E3%80%91%E6%96%87%E5%AD%97%E5%88%97%E3%82%92%E9%9F%B3%E5%A3%B0%E3%81%AB%E5%A4%89%E6%8F%9B%E3%81%99%E3%82%8B)\n"
      ]
    },
    {
      "cell_type": "code",
      "metadata": {
        "colab": {
          "base_uri": "https://localhost:8080/"
        },
        "outputId": "09460da3-3216-45c8-e03f-774ab9c87d03",
        "id": "W20SOpMb-ADX"
      },
      "source": [
        "pip install gtts"
      ],
      "execution_count": null,
      "outputs": [
        {
          "output_type": "stream",
          "text": [
            "Requirement already satisfied: gtts in /usr/local/lib/python3.7/dist-packages (2.2.2)\n",
            "Requirement already satisfied: click in /usr/local/lib/python3.7/dist-packages (from gtts) (7.1.2)\n",
            "Requirement already satisfied: six in /usr/local/lib/python3.7/dist-packages (from gtts) (1.15.0)\n",
            "Requirement already satisfied: requests in /usr/local/lib/python3.7/dist-packages (from gtts) (2.23.0)\n",
            "Requirement already satisfied: chardet<4,>=3.0.2 in /usr/local/lib/python3.7/dist-packages (from requests->gtts) (3.0.4)\n",
            "Requirement already satisfied: urllib3!=1.25.0,!=1.25.1,<1.26,>=1.21.1 in /usr/local/lib/python3.7/dist-packages (from requests->gtts) (1.24.3)\n",
            "Requirement already satisfied: idna<3,>=2.5 in /usr/local/lib/python3.7/dist-packages (from requests->gtts) (2.10)\n",
            "Requirement already satisfied: certifi>=2017.4.17 in /usr/local/lib/python3.7/dist-packages (from requests->gtts) (2020.12.5)\n"
          ],
          "name": "stdout"
        }
      ]
    },
    {
      "cell_type": "code",
      "metadata": {
        "id": "r8FKad-k-ADY"
      },
      "source": [
        "from gtts import gTTS\n",
        "\n",
        "tts_ja = gTTS(text='こんにちは', lang='ja', slow=False)\n",
        "tts_ja.save('hello_ja.mp3')\n",
        "#tts_ja.save('hello_ja.wave')\n",
        "tts_en = gTTS(text='hello', lang='en', slow=True)\n",
        "tts_en.save('hello_en.mp3')"
      ],
      "execution_count": null,
      "outputs": []
    },
    {
      "cell_type": "markdown",
      "source": [
        "###以下のColabは音声合成用"
      ],
      "metadata": {
        "id": "v_RWOhwJNNW3"
      }
    },
    {
      "cell_type": "markdown",
      "source": [
        "でもちょっとよくわからない。"
      ],
      "metadata": {
        "id": "TlU-s2C340b8"
      }
    },
    {
      "cell_type": "markdown",
      "metadata": {
        "id": "SMSw_r1uRm4a"
      },
      "source": [
        "[![Open In Colab](https://colab.research.google.com/assets/colab-badge.svg)](https://colab.research.google.com/github/espnet/notebook/blob/master/tts_realtime_demo.ipynb)"
      ]
    },
    {
      "cell_type": "markdown",
      "source": [
        "##算数で英語(参考）"
      ],
      "metadata": {
        "id": "zG3jASbhRpVY"
      }
    },
    {
      "cell_type": "markdown",
      "metadata": {
        "id": "_h1-p-lYPVTv"
      },
      "source": [
        "###算数で英語/英語で算数(Japanese Math for Kids)\n",
        "\n",
        "* 英語で算数の問題があるサイトなので，興味ある人のご参考\n",
        "\n",
        "*   [Japanese Math for Kids](https://sites.google.com/site/japanesemathforkids2016/home)\n",
        "\n",
        "*   英語で算数ドリル( [Japanese Math for Kids2](https://sites.google.com/view/japanesemathforkidsv2/home)  )\n",
        "\n",
        "\n"
      ]
    },
    {
      "cell_type": "markdown",
      "source": [
        "##Greek list (ギリシャ文字)"
      ],
      "metadata": {
        "id": "MIhoC344x9wI"
      }
    },
    {
      "cell_type": "markdown",
      "source": [
        "\n",
        "lowercase(小文字)\n",
        "\n",
        "|  |  |||||||\n",
        "|:------:|:------:|:------:|:------:|:------:|:------:|:------:|:------:|\n",
        "|alpha |$\\alpha$  ||iota|$\\iota$||rho|$\\rho$|\n",
        "| beta |$\\beta$  ||kappa|$\\kappa$||sigma|$\\sigma$|\n",
        "| gamma |$\\gamma$  ||lambda|$\\lambda$||tau|$\\tau$|\n",
        "| delta |$\\delta$  ||mu|$\\mu$||upsilon|$\\upsilon$|\n",
        "| epsilon |$\\epsilon$  ||nu|$\\nu$||phi|$\\phi$|\n",
        "| zeta |$\\zeta$  ||xi|$\\xi$||chi|$\\chi$|\n",
        "| eta |$\\eta$  ||omicron|o||psi|$\\psi$|\n",
        "| theta |$\\theta$  ||pi|$\\pi$||omega|$\\omega$|\n",
        "\n",
        "\\\n",
        "Uppercase(大文字)\n",
        "\n",
        "|  |  |||||||\n",
        "|:------:|:------:|:------:|:------:|:------:|:------:|:------:|:------:|\n",
        "|alpha |A  ||iota|I||rho|P|\n",
        "| beta |B  ||kappa|K||sigma|$\\Sigma$|\n",
        "| gamma |$\\Gamma$  ||lambda|$\\Lambda$||tau|T|\n",
        "| delta |$\\Delta$  ||mu|M||upsilon|$\\Upsilon$|\n",
        "| epsilon |E  ||nu|N||phi|$\\Phi$|\n",
        "| zeta |Z  ||xi|$\\Xi$||chi|X|\n",
        "| eta |H  ||omicron|O||psi|$\\Psi$|\n",
        "| theta |$\\Theta$  ||pi|$\\Pi$||omega|$\\Omega$|"
      ],
      "metadata": {
        "id": "08w3gstBopKO"
      }
    },
    {
      "cell_type": "markdown",
      "source": [
        "##Blender/ブレンダー(3D CG) with Python"
      ],
      "metadata": {
        "id": "vyYMuyoR-3xM"
      }
    },
    {
      "cell_type": "markdown",
      "source": [
        "`Blender`とは->[Wikipedia]（https://ja.wikipedia.org/wiki/Blender ）\n",
        "\n",
        "Blender（ブレンダー）は，これだけで3DCG制作ができるいろいろな機能が備わっているソフトです。\n",
        "\n",
        "オープンソースであるため，`誰でも無料で`使用することができます。\n",
        "\n",
        "アニメーション映画、視覚効果、アート、3Dプリントモデルなどの作成に使用されます。\n",
        "\n",
        "Blenderの開発は，Blender財団という非営利団体が行っています。\n",
        "\n",
        "MicrosoftやAMD，NVIDIA，Google，Epic Gamesなども開発資金の支援を行っている注目のソフトの一つです。\n",
        "\n",
        "\n",
        "[Blender Home]（https://www.blender.org/）\n",
        "\n",
        "これは英語ですが，`Blender`を日本語化することはできます。"
      ],
      "metadata": {
        "id": "vtj9PXvqyp2N"
      }
    },
    {
      "cell_type": "markdown",
      "source": [
        "---\n",
        "`Blender`で遊び始めたばかりなので，まだ紹介できるレベルではないですが，\n",
        "\n",
        "うまくいけば，`Blender with Python`をお見せする機会があるかも。\n",
        "\n",
        "後の巻（Vol.4かその後で）で。\n",
        "\n",
        "ColabのBlenderレンダリングに関しては、Colab [blender-render] (https://colab.research.google.com/github/ynshung/blender-colab/blob/master/blender_render.ipynb)\n",
        "\n"
      ],
      "metadata": {
        "id": "-uDf8djvx8Tm"
      }
    }
  ]
}